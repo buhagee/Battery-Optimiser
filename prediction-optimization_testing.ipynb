{
 "cells": [
  {
   "cell_type": "code",
   "execution_count": 13,
   "metadata": {},
   "outputs": [
    {
     "name": "stdout",
     "output_type": "stream",
     "text": [
      "Optimizing results for real prices\n"
     ]
    },
    {
     "ename": "TypeError",
     "evalue": "optimize() takes from 2 to 4 positional arguments but 5 were given",
     "output_type": "error",
     "traceback": [
      "\u001b[1;31m---------------------------------------------------------------------------\u001b[0m",
      "\u001b[1;31mTypeError\u001b[0m                                 Traceback (most recent call last)",
      "\u001b[1;32m<ipython-input-13-d03fb64d5b0a>\u001b[0m in \u001b[0;36m<module>\u001b[1;34m\u001b[0m\n\u001b[0;32m     18\u001b[0m \u001b[1;33m\u001b[0m\u001b[0m\n\u001b[0;32m     19\u001b[0m \u001b[0mprint\u001b[0m\u001b[1;33m(\u001b[0m\u001b[1;34m\"Optimizing results for real prices\"\u001b[0m\u001b[1;33m)\u001b[0m\u001b[1;33m\u001b[0m\u001b[1;33m\u001b[0m\u001b[0m\n\u001b[1;32m---> 20\u001b[1;33m \u001b[0mrealNxtAction\u001b[0m\u001b[1;33m,\u001b[0m \u001b[0mrealNxtBatCharge\u001b[0m\u001b[1;33m,\u001b[0m \u001b[0mrealActions\u001b[0m\u001b[1;33m,\u001b[0m \u001b[0mrealBatCharge\u001b[0m \u001b[1;33m=\u001b[0m \u001b[0mom\u001b[0m\u001b[1;33m.\u001b[0m\u001b[0moptimize\u001b[0m\u001b[1;33m(\u001b[0m\u001b[0mrealPrices\u001b[0m\u001b[1;33m,\u001b[0m \u001b[0mbStorage0\u001b[0m\u001b[1;33m,\u001b[0m \u001b[0moutputResults\u001b[0m\u001b[1;33m,\u001b[0m \u001b[0moutputActions\u001b[0m\u001b[1;33m,\u001b[0m \u001b[0moutputCharge\u001b[0m\u001b[1;33m)\u001b[0m\u001b[1;33m\u001b[0m\u001b[1;33m\u001b[0m\u001b[0m\n\u001b[0m\u001b[0;32m     21\u001b[0m \u001b[1;33m\u001b[0m\u001b[0m\n\u001b[0;32m     22\u001b[0m \u001b[0mprint\u001b[0m\u001b[1;33m(\u001b[0m\u001b[1;34m\"\\nOptimizing results for predicted prices\\nProfit is incorrect as it is calculating predicted profit not actual profit\"\u001b[0m\u001b[1;33m)\u001b[0m\u001b[1;33m\u001b[0m\u001b[1;33m\u001b[0m\u001b[0m\n",
      "\u001b[1;31mTypeError\u001b[0m: optimize() takes from 2 to 4 positional arguments but 5 were given"
     ]
    }
   ],
   "source": [
    "# Input prices into optimizer\n",
    "import pandas as pd\n",
    "import optimizer_module as om\n",
    "\n",
    "results = pd.read_csv('FINAL/final_model_price_predictions.csv', parse_dates=['SETTLEMENTDATE'])\n",
    "\n",
    "numDays = len(results) # Number of days to run model\n",
    "start = 0 # Starting time interval from price data\n",
    "bStorage0 = 0 # Starting battery charge\n",
    "intPerDay = 1\n",
    "\n",
    "times = results[start:start+(numDays*intPerDay)].index.tolist()\n",
    "predPrices = results.iloc[start:start+(numDays*intPerDay)][\"prediction\"].tolist()\n",
    "realPrices = results.iloc[start:start+(numDays*intPerDay)][\"true values\"].tolist()\n",
    "outputResults = 1 # Tells optimizer_module to ouput results for each optimization\n",
    "outputActions = 1 # Tells optimizer_module to ouput list of actions/states for battery use\n",
    "outputCharge = 1 # Tells optimizer_module to ouput list of battery charges\n",
    "\n",
    "print(\"Optimizing results for real prices\")\n",
    "realNxtAction, realNxtBatCharge, realActions, realBatCharge = om.optimize(realPrices, bStorage0, outputResults, outputActions, outputCharge)\n",
    "\n",
    "print(\"\\nOptimizing results for predicted prices\\nProfit is incorrect as it is calculating predicted profit not actual profit\")\n",
    "predNxtAction, predNxtBatCharge, predActions, predBatCharge = om.optimize(predPrices, bStorage0, outputResults, outputActions, outputCharge)\n",
    "\n",
    "maxProfit = sum([realActions[i]*realPrices[i] for i in range(numDays*intPerDay)])\n",
    "actualProfit = sum([predActions[i]*realPrices[i] for i in range(numDays*intPerDay)])\n",
    "\n",
    "print(\"\\n----------RESULTS----------\")\n",
    "print(\"First prediction: \"+str(times[0])+\"\\nFinal prediction: \"+str(times[-1]))\n",
    "print(\"Max profit possible: $%.4g\" % (maxProfit))\n",
    "print(\"Actual profit: $%.4g -> %.4g%% of optimal profit\" % (actualProfit,actualProfit/maxProfit*100))      "
   ]
  },
  {
   "cell_type": "code",
   "execution_count": 10,
   "metadata": {},
   "outputs": [
    {
     "name": "stdout",
     "output_type": "stream",
     "text": [
      "The autoreload extension is already loaded. To reload it, use:\n",
      "  %reload_ext autoreload\n"
     ]
    }
   ],
   "source": [
    "%load_ext autoreload\n",
    "%autoreload 2"
   ]
  },
  {
   "cell_type": "code",
   "execution_count": 11,
   "metadata": {},
   "outputs": [],
   "source": [
    "%reload_ext autoreload"
   ]
  },
  {
   "cell_type": "code",
   "execution_count": null,
   "metadata": {},
   "outputs": [],
   "source": []
  }
 ],
 "metadata": {
  "kernelspec": {
   "display_name": "Python 3",
   "language": "python",
   "name": "python3"
  },
  "language_info": {
   "codemirror_mode": {
    "name": "ipython",
    "version": 3
   },
   "file_extension": ".py",
   "mimetype": "text/x-python",
   "name": "python",
   "nbconvert_exporter": "python",
   "pygments_lexer": "ipython3",
   "version": "3.7.3"
  }
 },
 "nbformat": 4,
 "nbformat_minor": 4
}

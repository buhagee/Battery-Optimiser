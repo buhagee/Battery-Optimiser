{
 "cells": [
  {
   "cell_type": "code",
   "execution_count": 70,
   "metadata": {},
   "outputs": [],
   "source": [
    "import pandas as pd\n",
    "import numpy as np"
   ]
  },
  {
   "cell_type": "code",
   "execution_count": 71,
   "metadata": {},
   "outputs": [],
   "source": [
    "data = pd.read_csv(\"/Users/ahsan/Dropbox/My Mac (Alnoors-MBP-2.hub)/Documents/OneDrive/Documents/UNSW DATA SCIENCE/Term 3 2020/Data3001 Data Science In Prac/combined_energy.csv\")"
   ]
  },
  {
   "cell_type": "code",
   "execution_count": 26,
   "metadata": {},
   "outputs": [
    {
     "data": {
      "text/html": [
       "<div>\n",
       "<style scoped>\n",
       "    .dataframe tbody tr th:only-of-type {\n",
       "        vertical-align: middle;\n",
       "    }\n",
       "\n",
       "    .dataframe tbody tr th {\n",
       "        vertical-align: top;\n",
       "    }\n",
       "\n",
       "    .dataframe thead th {\n",
       "        text-align: right;\n",
       "    }\n",
       "</style>\n",
       "<table border=\"1\" class=\"dataframe\">\n",
       "  <thead>\n",
       "    <tr style=\"text-align: right;\">\n",
       "      <th></th>\n",
       "      <th>SETTLEMENTDATE</th>\n",
       "      <th>REGIONID</th>\n",
       "      <th>DISPATCHINTERVAL</th>\n",
       "      <th>RRP</th>\n",
       "      <th>ROP</th>\n",
       "      <th>TOTALDEMAND</th>\n",
       "      <th>APCFLAG</th>\n",
       "      <th>RRP5min</th>\n",
       "      <th>ROP5min</th>\n",
       "    </tr>\n",
       "  </thead>\n",
       "  <tbody>\n",
       "    <tr>\n",
       "      <th>0</th>\n",
       "      <td>1/7/08 0:00</td>\n",
       "      <td>NSW1</td>\n",
       "      <td>20080630240</td>\n",
       "      <td>27.43703</td>\n",
       "      <td>27.43703</td>\n",
       "      <td>9027.49</td>\n",
       "      <td>0</td>\n",
       "      <td>2.286419</td>\n",
       "      <td>2.286419</td>\n",
       "    </tr>\n",
       "    <tr>\n",
       "      <th>1</th>\n",
       "      <td>1/7/08 0:00</td>\n",
       "      <td>QLD1</td>\n",
       "      <td>20080630240</td>\n",
       "      <td>24.30000</td>\n",
       "      <td>24.30000</td>\n",
       "      <td>5361.52</td>\n",
       "      <td>0</td>\n",
       "      <td>2.025000</td>\n",
       "      <td>2.025000</td>\n",
       "    </tr>\n",
       "    <tr>\n",
       "      <th>2</th>\n",
       "      <td>1/7/08 0:00</td>\n",
       "      <td>SA1</td>\n",
       "      <td>20080630240</td>\n",
       "      <td>29.77032</td>\n",
       "      <td>29.77032</td>\n",
       "      <td>1614.93</td>\n",
       "      <td>0</td>\n",
       "      <td>2.480860</td>\n",
       "      <td>2.480860</td>\n",
       "    </tr>\n",
       "    <tr>\n",
       "      <th>3</th>\n",
       "      <td>1/7/08 0:00</td>\n",
       "      <td>SNOWY1</td>\n",
       "      <td>20080630240</td>\n",
       "      <td>28.60265</td>\n",
       "      <td>28.60265</td>\n",
       "      <td>16.97</td>\n",
       "      <td>0</td>\n",
       "      <td>2.383554</td>\n",
       "      <td>2.383554</td>\n",
       "    </tr>\n",
       "    <tr>\n",
       "      <th>4</th>\n",
       "      <td>1/7/08 0:00</td>\n",
       "      <td>TAS1</td>\n",
       "      <td>20080630240</td>\n",
       "      <td>24.58964</td>\n",
       "      <td>24.58964</td>\n",
       "      <td>1052.28</td>\n",
       "      <td>0</td>\n",
       "      <td>2.049137</td>\n",
       "      <td>2.049137</td>\n",
       "    </tr>\n",
       "    <tr>\n",
       "      <th>5</th>\n",
       "      <td>1/7/08 0:00</td>\n",
       "      <td>VIC1</td>\n",
       "      <td>20080630240</td>\n",
       "      <td>27.96721</td>\n",
       "      <td>27.96721</td>\n",
       "      <td>5898.26</td>\n",
       "      <td>0</td>\n",
       "      <td>2.330601</td>\n",
       "      <td>2.330601</td>\n",
       "    </tr>\n",
       "    <tr>\n",
       "      <th>6</th>\n",
       "      <td>1/7/08 0:05</td>\n",
       "      <td>NSW1</td>\n",
       "      <td>20080630241</td>\n",
       "      <td>27.82000</td>\n",
       "      <td>27.82000</td>\n",
       "      <td>9067.65</td>\n",
       "      <td>0</td>\n",
       "      <td>2.318333</td>\n",
       "      <td>2.318333</td>\n",
       "    </tr>\n",
       "    <tr>\n",
       "      <th>7</th>\n",
       "      <td>1/7/08 0:05</td>\n",
       "      <td>QLD1</td>\n",
       "      <td>20080630241</td>\n",
       "      <td>24.81493</td>\n",
       "      <td>24.81493</td>\n",
       "      <td>5326.79</td>\n",
       "      <td>0</td>\n",
       "      <td>2.067911</td>\n",
       "      <td>2.067911</td>\n",
       "    </tr>\n",
       "    <tr>\n",
       "      <th>8</th>\n",
       "      <td>1/7/08 0:05</td>\n",
       "      <td>SA1</td>\n",
       "      <td>20080630241</td>\n",
       "      <td>29.70000</td>\n",
       "      <td>29.70000</td>\n",
       "      <td>1590.49</td>\n",
       "      <td>0</td>\n",
       "      <td>2.475000</td>\n",
       "      <td>2.475000</td>\n",
       "    </tr>\n",
       "    <tr>\n",
       "      <th>9</th>\n",
       "      <td>1/7/08 0:05</td>\n",
       "      <td>TAS1</td>\n",
       "      <td>20080630241</td>\n",
       "      <td>22.77314</td>\n",
       "      <td>22.77314</td>\n",
       "      <td>1045.30</td>\n",
       "      <td>0</td>\n",
       "      <td>1.897762</td>\n",
       "      <td>1.897762</td>\n",
       "    </tr>\n",
       "    <tr>\n",
       "      <th>10</th>\n",
       "      <td>1/7/08 0:05</td>\n",
       "      <td>VIC1</td>\n",
       "      <td>20080630241</td>\n",
       "      <td>28.26199</td>\n",
       "      <td>28.26199</td>\n",
       "      <td>5864.65</td>\n",
       "      <td>0</td>\n",
       "      <td>2.355166</td>\n",
       "      <td>2.355166</td>\n",
       "    </tr>\n",
       "    <tr>\n",
       "      <th>11</th>\n",
       "      <td>1/7/08 0:10</td>\n",
       "      <td>NSW1</td>\n",
       "      <td>20080630242</td>\n",
       "      <td>27.82000</td>\n",
       "      <td>27.82000</td>\n",
       "      <td>9115.77</td>\n",
       "      <td>0</td>\n",
       "      <td>2.318333</td>\n",
       "      <td>2.318333</td>\n",
       "    </tr>\n",
       "  </tbody>\n",
       "</table>\n",
       "</div>"
      ],
      "text/plain": [
       "   SETTLEMENTDATE REGIONID  DISPATCHINTERVAL       RRP       ROP  TOTALDEMAND  \\\n",
       "0     1/7/08 0:00     NSW1       20080630240  27.43703  27.43703      9027.49   \n",
       "1     1/7/08 0:00     QLD1       20080630240  24.30000  24.30000      5361.52   \n",
       "2     1/7/08 0:00      SA1       20080630240  29.77032  29.77032      1614.93   \n",
       "3     1/7/08 0:00   SNOWY1       20080630240  28.60265  28.60265        16.97   \n",
       "4     1/7/08 0:00     TAS1       20080630240  24.58964  24.58964      1052.28   \n",
       "5     1/7/08 0:00     VIC1       20080630240  27.96721  27.96721      5898.26   \n",
       "6     1/7/08 0:05     NSW1       20080630241  27.82000  27.82000      9067.65   \n",
       "7     1/7/08 0:05     QLD1       20080630241  24.81493  24.81493      5326.79   \n",
       "8     1/7/08 0:05      SA1       20080630241  29.70000  29.70000      1590.49   \n",
       "9     1/7/08 0:05     TAS1       20080630241  22.77314  22.77314      1045.30   \n",
       "10    1/7/08 0:05     VIC1       20080630241  28.26199  28.26199      5864.65   \n",
       "11    1/7/08 0:10     NSW1       20080630242  27.82000  27.82000      9115.77   \n",
       "\n",
       "    APCFLAG   RRP5min   ROP5min  \n",
       "0         0  2.286419  2.286419  \n",
       "1         0  2.025000  2.025000  \n",
       "2         0  2.480860  2.480860  \n",
       "3         0  2.383554  2.383554  \n",
       "4         0  2.049137  2.049137  \n",
       "5         0  2.330601  2.330601  \n",
       "6         0  2.318333  2.318333  \n",
       "7         0  2.067911  2.067911  \n",
       "8         0  2.475000  2.475000  \n",
       "9         0  1.897762  1.897762  \n",
       "10        0  2.355166  2.355166  \n",
       "11        0  2.318333  2.318333  "
      ]
     },
     "execution_count": 26,
     "metadata": {},
     "output_type": "execute_result"
    }
   ],
   "source": [
    "# Checking how the data looks like\n",
    "data.head(12)"
   ]
  },
  {
   "cell_type": "code",
   "execution_count": 59,
   "metadata": {},
   "outputs": [],
   "source": [
    "data = data[data[\"REGIONID\"] != \"TAS1\"]\n",
    "data = data[data[\"REGIONID\"] != \"SNOWY1\"]"
   ]
  },
  {
   "cell_type": "code",
   "execution_count": 60,
   "metadata": {},
   "outputs": [
    {
     "data": {
      "text/plain": [
       "DISPATCHINTERVAL    2.009063e+10\n",
       "RRP                 2.488781e+01\n",
       "ROP                 2.488778e+01\n",
       "TOTALDEMAND         5.977580e+03\n",
       "APCFLAG             0.000000e+00\n",
       "RRP5min             2.073984e+00\n",
       "ROP5min             2.073982e+00\n",
       "dtype: float64"
      ]
     },
     "execution_count": 60,
     "metadata": {},
     "output_type": "execute_result"
    }
   ],
   "source": [
    "data.describe()\n",
    "data.median()"
   ]
  },
  {
   "cell_type": "code",
   "execution_count": 61,
   "metadata": {},
   "outputs": [],
   "source": [
    "# Drop RRP & ROC because we will use RRP5min & ROP5min\\\n",
    "data.drop([\"RRP\", \"ROP\"], axis = 1, inplace = True)"
   ]
  },
  {
   "cell_type": "code",
   "execution_count": 62,
   "metadata": {},
   "outputs": [
    {
     "data": {
      "text/plain": [
       "SETTLEMENTDATE      829\n",
       "REGIONID            829\n",
       "DISPATCHINTERVAL    829\n",
       "TOTALDEMAND         829\n",
       "APCFLAG             829\n",
       "RRP5min             829\n",
       "ROP5min             829\n",
       "dtype: int64"
      ]
     },
     "execution_count": 62,
     "metadata": {},
     "output_type": "execute_result"
    }
   ],
   "source": [
    "# APCFLAG only 851 enteries that are non zero. Might have to look at it\n",
    "data[data[\"APCFLAG\"] != 0].count()"
   ]
  },
  {
   "cell_type": "code",
   "execution_count": 63,
   "metadata": {},
   "outputs": [],
   "source": [
    "############### VARIABLES LEFT THAT ARE IMPORTANT #####################\n",
    "#### REGION, SETTLEMENT DATE, RRP, ROP, TOTAL DEMAND, APC FLAG #########\n",
    "#######################################################################"
   ]
  },
  {
   "cell_type": "code",
   "execution_count": 64,
   "metadata": {},
   "outputs": [
    {
     "data": {
      "text/plain": [
       "array(['NSW1', 'QLD1', 'SA1', 'VIC1'], dtype=object)"
      ]
     },
     "execution_count": 64,
     "metadata": {},
     "output_type": "execute_result"
    }
   ],
   "source": [
    "# Checking Unique Regions\n",
    "data[\"REGIONID\"].unique()"
   ]
  },
  {
   "cell_type": "code",
   "execution_count": 75,
   "metadata": {},
   "outputs": [
    {
     "ename": "NameError",
     "evalue": "name 'dataNSW' is not defined",
     "output_type": "error",
     "traceback": [
      "\u001b[0;31m---------------------------------------------------------------------------\u001b[0m",
      "\u001b[0;31mNameError\u001b[0m                                 Traceback (most recent call last)",
      "\u001b[0;32m<ipython-input-75-74bb73466e96>\u001b[0m in \u001b[0;36m<module>\u001b[0;34m\u001b[0m\n\u001b[1;32m      4\u001b[0m \u001b[0;31m# Seperating data for each region\u001b[0m\u001b[0;34m\u001b[0m\u001b[0;34m\u001b[0m\u001b[0;34m\u001b[0m\u001b[0m\n\u001b[1;32m      5\u001b[0m \u001b[0mregion\u001b[0m \u001b[0;34m=\u001b[0m \u001b[0;34m[\u001b[0m\u001b[0;34m'NSW1'\u001b[0m\u001b[0;34m,\u001b[0m \u001b[0;34m'QLD1'\u001b[0m\u001b[0;34m,\u001b[0m \u001b[0;34m'SA1'\u001b[0m\u001b[0;34m,\u001b[0m \u001b[0;34m'TAS1'\u001b[0m\u001b[0;34m,\u001b[0m \u001b[0;34m'VIC1'\u001b[0m\u001b[0;34m]\u001b[0m\u001b[0;34m\u001b[0m\u001b[0;34m\u001b[0m\u001b[0m\n\u001b[0;32m----> 6\u001b[0;31m \u001b[0mdataset\u001b[0m \u001b[0;34m=\u001b[0m \u001b[0;34m[\u001b[0m\u001b[0mdataNSW\u001b[0m\u001b[0;34m,\u001b[0m \u001b[0mdataQLD\u001b[0m\u001b[0;34m,\u001b[0m \u001b[0mdataSA\u001b[0m\u001b[0;34m,\u001b[0m \u001b[0mdataTAS\u001b[0m\u001b[0;34m,\u001b[0m \u001b[0mdataVIC\u001b[0m\u001b[0;34m]\u001b[0m\u001b[0;34m\u001b[0m\u001b[0;34m\u001b[0m\u001b[0m\n\u001b[0m\u001b[1;32m      7\u001b[0m \u001b[0;34m\u001b[0m\u001b[0m\n\u001b[1;32m      8\u001b[0m \u001b[0mj\u001b[0m \u001b[0;34m=\u001b[0m \u001b[0;36m0\u001b[0m\u001b[0;34m\u001b[0m\u001b[0;34m\u001b[0m\u001b[0m\n",
      "\u001b[0;31mNameError\u001b[0m: name 'dataNSW' is not defined"
     ]
    }
   ],
   "source": [
    "# BELOW WE FOUND THAT LOG PRICES ARE BETTER\n",
    "data[\"logPrice\"] = np.log(data[\"RRP5min\"])\n",
    "\n",
    "# Seperating data for each region\n",
    "region = ['NSW1', 'QLD1', 'SA1', 'TAS1', 'VIC1']\n",
    "dataset = [dataNSW, dataQLD, dataSA, dataTAS, dataVIC]\n",
    "\n",
    "j = 0\n",
    "for i in dataset:\n",
    "    i = data[data[\"REGIONID\"] == region[j]]\n",
    "    j+=1\n",
    "########## SNOW1 is an unknown region entry. No such region exists. Only 1 row so we drop ##############"
   ]
  },
  {
   "cell_type": "code",
   "execution_count": 10,
   "metadata": {},
   "outputs": [],
   "source": [
    "# Chart of RRP against time\n",
    "%matplotlib inline\n",
    "from matplotlib import pyplot as plt"
   ]
  },
  {
   "cell_type": "code",
   "execution_count": 27,
   "metadata": {},
   "outputs": [
    {
     "data": {
      "image/png": "[encoded data removed]",
      "text/plain": [
       "<Figure size 1728x1728 with 5 Axes>"
      ]
     },
     "metadata": {
      "needs_background": "light"
     },
     "output_type": "display_data"
    }
   ],
   "source": [
    "############### PRICES OVER TIME ###################\n",
    "###### SHOWS HUGH VARIANCE IN PRICES ##############\n",
    "##### IF WE CAPITALISE THESE BIG SPIKES THEN POTENTIAL FOR HIGH PROFITS ################\n",
    "##### PRICES IN ONE REGION SHOWS SIMILAR PATTERN TO ALL OTHER STATES ############\n",
    "\n",
    "def price_plot(axs, data, title, col):\n",
    "    axs.plot(\"DISPATCHINTERVAL\", \"RRP5min\", color = col, data = data)\n",
    "    axs.set_xlabel(\"DISPATCH INTERVAL\")\n",
    "    axs.set_ylabel(\"RRP($)\")\n",
    "    axs.set_title(title)\n",
    "\n",
    "fig, axs = plt.subplots(5, figsize = [24,24])\n",
    "\n",
    "# Colour \n",
    "col = [\"blue\", \"green\", \"pink\", \"orange\", \"purcple\"]\n",
    "\n",
    "j = 0\n",
    "for i in dataset:\n",
    "    price_plot(axs[j], i, \"RRP($) over time in {}\".format(region[j]), col[j])\n",
    "price_plot(axs[0], dataNSW, \"RRP($) over time in NSW\", \"blue\")\n",
    "price_plot(axs[1], dataQLD, \"RRP($) over time in QLD\", \"green\")\n",
    "price_plot(axs[2], dataSA, \"RRP($) over time in SA\", \"orange\")\n",
    "price_plot(axs[3], dataVIC, \"RRP($) over time in VIC\", \"red\")\n",
    "price_plot(axs[4], dataTAS, \"RRP($) over time in TAS\", \"purple\")\n",
    "fig.tight_layout(pad=3.0)"
   ]
  },
  {
   "cell_type": "code",
   "execution_count": 52,
   "metadata": {},
   "outputs": [
    {
     "ename": "NameError",
     "evalue": "name 'plt' is not defined",
     "output_type": "error",
     "traceback": [
      "\u001b[0;31m---------------------------------------------------------------------------\u001b[0m",
      "\u001b[0;31mNameError\u001b[0m                                 Traceback (most recent call last)",
      "\u001b[0;32m<ipython-input-52-b42796d7e5d2>\u001b[0m in \u001b[0;36m<module>\u001b[0;34m\u001b[0m\n\u001b[1;32m     17\u001b[0m     \u001b[0;32mreturn\u001b[0m \u001b[0mline\u001b[0m\u001b[0;34m\u001b[0m\u001b[0;34m\u001b[0m\u001b[0m\n\u001b[1;32m     18\u001b[0m \u001b[0;34m\u001b[0m\u001b[0m\n\u001b[0;32m---> 19\u001b[0;31m \u001b[0mfig\u001b[0m\u001b[0;34m,\u001b[0m \u001b[0maxs\u001b[0m \u001b[0;34m=\u001b[0m \u001b[0mplt\u001b[0m\u001b[0;34m.\u001b[0m\u001b[0msubplots\u001b[0m\u001b[0;34m(\u001b[0m\u001b[0;36m5\u001b[0m\u001b[0;34m,\u001b[0m \u001b[0mfigsize\u001b[0m \u001b[0;34m=\u001b[0m \u001b[0;34m[\u001b[0m\u001b[0;36m24\u001b[0m\u001b[0;34m,\u001b[0m\u001b[0;36m24\u001b[0m\u001b[0;34m]\u001b[0m\u001b[0;34m)\u001b[0m\u001b[0;34m\u001b[0m\u001b[0;34m\u001b[0m\u001b[0m\n\u001b[0m\u001b[1;32m     20\u001b[0m \u001b[0;34m\u001b[0m\u001b[0m\n\u001b[1;32m     21\u001b[0m \u001b[0mprice_demand_plot\u001b[0m\u001b[0;34m(\u001b[0m\u001b[0maxs\u001b[0m\u001b[0;34m[\u001b[0m\u001b[0;36m0\u001b[0m\u001b[0;34m]\u001b[0m\u001b[0;34m,\u001b[0m \u001b[0mdataNSW\u001b[0m\u001b[0;34m,\u001b[0m \u001b[0;34m\"NSW\"\u001b[0m\u001b[0;34m,\u001b[0m \u001b[0;34m\"blue\"\u001b[0m\u001b[0;34m)\u001b[0m\u001b[0;34m\u001b[0m\u001b[0;34m\u001b[0m\u001b[0m\n",
      "\u001b[0;31mNameError\u001b[0m: name 'plt' is not defined"
     ]
    }
   ],
   "source": [
    "############## RELATIONSHIP BETWEEN PRICE & DEMAND ########################\n",
    "\n",
    "# Function to draw the scatter\n",
    "def price_demand_plot(axs, data, region, col):\n",
    "    cor = round(np.corrcoef(data[\"TOTALDEMAND\"], data[\"RRP5min\"])[1][0], 2)\n",
    "    axs.scatter(\"TOTALDEMAND\", \"RRP5min\", color = col, data = data)\n",
    "    axs.set_xlabel(\"TOTALDEMAND\", fontsize = 15)\n",
    "    axs.set_ylabel(\"RRP($)\", fontsize = 15)\n",
    "    axs.set_title(\"CORR: {} in {}\".format(cor, region), fontsize = 20)\n",
    "    line = give_me_a_straight_line(data[\"TOTALDEMAND\"],data[\"RRP5min\"])\n",
    "    axs.plot(data[\"TOTALDEMAND\"],line,'r--', linewidth = 4)\n",
    "    \n",
    "# Function to draw line of best fit\n",
    "def give_me_a_straight_line(x,y):\n",
    "    w, b  = np.polyfit(x,y,deg=1)\n",
    "    line  = w * x + b\n",
    "    return line\n",
    "\n",
    "fig, axs = plt.subplots(5, figsize = [24,24])\n",
    "\n",
    "price_demand_plot(axs[0], dataNSW, \"NSW\", \"blue\")\n",
    "price_demand_plot(axs[1], dataQLD, \"QLD\", \"green\")\n",
    "price_demand_plot(axs[2], dataSA, \"SA\", \"orange\")\n",
    "price_demand_plot(axs[3], dataVIC, \"VIC\", \"pink\")\n",
    "price_demand_plot(axs[4], dataTAS, \"TAS\", \"purple\")\n",
    "fig.tight_layout(pad=3.0)\n",
    "\n",
    "########### VERY SMALL POSITIVE CORRELATION #################"
   ]
  },
  {
   "cell_type": "code",
   "execution_count": 55,
   "metadata": {},
   "outputs": [
    {
     "ename": "NameError",
     "evalue": "name 'plt' is not defined",
     "output_type": "error",
     "traceback": [
      "\u001b[0;31m---------------------------------------------------------------------------\u001b[0m",
      "\u001b[0;31mNameError\u001b[0m                                 Traceback (most recent call last)",
      "\u001b[0;32m<ipython-input-55-ac1333571490>\u001b[0m in \u001b[0;36m<module>\u001b[0;34m\u001b[0m\n\u001b[1;32m     19\u001b[0m     \u001b[0maxs\u001b[0m\u001b[0;34m.\u001b[0m\u001b[0mset_title\u001b[0m\u001b[0;34m(\u001b[0m\u001b[0;34m\"logPrice against Demand in {}\"\u001b[0m\u001b[0;34m.\u001b[0m\u001b[0mformat\u001b[0m\u001b[0;34m(\u001b[0m\u001b[0mregion\u001b[0m\u001b[0;34m)\u001b[0m\u001b[0;34m,\u001b[0m \u001b[0mfontsize\u001b[0m \u001b[0;34m=\u001b[0m \u001b[0;36m20\u001b[0m\u001b[0;34m)\u001b[0m\u001b[0;34m\u001b[0m\u001b[0;34m\u001b[0m\u001b[0m\n\u001b[1;32m     20\u001b[0m \u001b[0;34m\u001b[0m\u001b[0m\n\u001b[0;32m---> 21\u001b[0;31m \u001b[0mfig\u001b[0m\u001b[0;34m,\u001b[0m \u001b[0maxs\u001b[0m \u001b[0;34m=\u001b[0m \u001b[0mplt\u001b[0m\u001b[0;34m.\u001b[0m\u001b[0msubplots\u001b[0m\u001b[0;34m(\u001b[0m\u001b[0;36m5\u001b[0m\u001b[0;34m,\u001b[0m \u001b[0mfigsize\u001b[0m \u001b[0;34m=\u001b[0m \u001b[0;34m[\u001b[0m\u001b[0;36m24\u001b[0m\u001b[0;34m,\u001b[0m\u001b[0;36m24\u001b[0m\u001b[0;34m]\u001b[0m\u001b[0;34m)\u001b[0m\u001b[0;34m\u001b[0m\u001b[0;34m\u001b[0m\u001b[0m\n\u001b[0m\u001b[1;32m     22\u001b[0m \u001b[0;34m\u001b[0m\u001b[0m\n\u001b[1;32m     23\u001b[0m \u001b[0mprice_demand_plot_1\u001b[0m\u001b[0;34m(\u001b[0m\u001b[0maxs\u001b[0m\u001b[0;34m[\u001b[0m\u001b[0;36m0\u001b[0m\u001b[0;34m]\u001b[0m\u001b[0;34m,\u001b[0m \u001b[0mdataNSW\u001b[0m\u001b[0;34m,\u001b[0m \u001b[0;34m\"NSW\"\u001b[0m\u001b[0;34m,\u001b[0m \u001b[0;34m\"blue\"\u001b[0m\u001b[0;34m)\u001b[0m\u001b[0;34m\u001b[0m\u001b[0;34m\u001b[0m\u001b[0m\n",
      "\u001b[0;31mNameError\u001b[0m: name 'plt' is not defined"
     ]
    }
   ],
   "source": [
    "import matplotlib as mpl\n",
    "mpl.rcParams['agg.path.chunksize'] = 10000\n",
    "\n",
    "######## WE SEE IN ABOVE PLOTS THAT HIGH VARIABILITY IN PRICING RIPS APART EVERYTHING #####################\n",
    "######### LETS TRY LOG OF PRICES TO DETER THE PROBLEM ######################\n",
    "\n",
    "# data[\"logPrice\"] = np.log(data[\"RRP5min\"])\n",
    "##### WE DO THIS WORKING ABOVE BEFORE SPLITTING DATASET INTO REGIONS #####################\n",
    "\n",
    "##### LETS NOW PLOT THAT ABOVE SCATTERS AGAINST LOG PRICE\n",
    "\n",
    "# Function to draw the scatter\n",
    "\n",
    "def price_demand_plot_1(axs, data, region, col):\n",
    "   # cor = round(np.corrcoef(data[\"TOTALDEMAND\"], data[\"logPrice\"])[1][0], 2)\n",
    "    axs.scatter(\"TOTALDEMAND\", \"logPrice\", color = col, data = data)\n",
    "    axs.set_xlabel(\"TOTALDEMAND\")\n",
    "    axs.set_ylabel(\"logPrice($)\")\n",
    "    axs.set_title(\"logPrice against Demand in {}\".format(region), fontsize = 20)\n",
    "    \n",
    "fig, axs = plt.subplots(5, figsize = [24,24])\n",
    "\n",
    "price_demand_plot_1(axs[0], dataNSW, \"NSW\", \"blue\")\n",
    "price_demand_plot_1(axs[1], dataQLD, \"QLD\", \"green\")\n",
    "price_demand_plot_1(axs[2], dataSA, \"SA\", \"orange\")\n",
    "price_demand_plot_1(axs[3], dataVIC, \"VIC\", \"pink\")\n",
    "price_demand_plot_1(axs[4], dataTAS, \"TAS\", \"purple\")\n",
    "fig.tight_layout(pad=3.0)\n",
    "\n",
    "############## THIS LOOKS MUCH BETTER #####################\n",
    "############### VARIABILITY REDUCED ####################"
   ]
  },
  {
   "cell_type": "code",
   "execution_count": 14,
   "metadata": {},
   "outputs": [
    {
     "name": "stdout",
     "output_type": "stream",
     "text": [
      "Correlation between lopPrice & Total Demand in NSW1:  0.676949700546527\n",
      "Correlation between lopPrice & Total Demand in QLD1:  0.565064837338412\n",
      "Correlation between lopPrice & Total Demand in SA1:  0.6564729265290881\n",
      "Correlation between lopPrice & Total Demand in SNOWY1:  0.2614117903148889\n",
      "Correlation between lopPrice & Total Demand in TAS1:  0.7123693519194103\n"
     ]
    }
   ],
   "source": [
    "# LETS QUANTIFY THIS CORRELATION\n",
    "j = 0\n",
    "for i in dataset:\n",
    "    print(\"Correlation between lopPrice & Total Demand in {}: \".format(region[j]), i.corr(method = \"pearson\")[\"logPrice\"][1])\n",
    "    j+=1\n",
    "\n",
    "######## LOOKS LIKE LOG PRICE WORKS WELL #############\n",
    "######## WE WILL USE FOR FURTHER ANALYSIS ###################"
   ]
  },
  {
   "cell_type": "code",
   "execution_count": 66,
   "metadata": {},
   "outputs": [
    {
     "name": "stdout",
     "output_type": "stream",
     "text": [
      "<class 'pandas.core.frame.DataFrame'>\n",
      "Int64Index: 838859 entries, 0 to 1048573\n",
      "Data columns (total 8 columns):\n",
      " #   Column            Non-Null Count   Dtype  \n",
      "---  ------            --------------   -----  \n",
      " 0   SETTLEMENTDATE    838859 non-null  object \n",
      " 1   REGIONID          838859 non-null  object \n",
      " 2   DISPATCHINTERVAL  838859 non-null  int64  \n",
      " 3   TOTALDEMAND       838859 non-null  float64\n",
      " 4   APCFLAG           838859 non-null  int64  \n",
      " 5   RRP5min           838859 non-null  float64\n",
      " 6   ROP5min           838859 non-null  float64\n",
      " 7   logPrice          837492 non-null  float64\n",
      "dtypes: float64(4), int64(2), object(2)\n",
      "memory usage: 57.6+ MB\n"
     ]
    }
   ],
   "source": [
    "data.info()"
   ]
  },
  {
   "cell_type": "code",
   "execution_count": 68,
   "metadata": {},
   "outputs": [],
   "source": [
    "start_time = pd.Timestamp(year=2019, month=11, day=2, hour=23)\n",
    "end_time = pd.Timestamp(year=2019, month=11, day=3, hour=3)"
   ]
  },
  {
   "cell_type": "code",
   "execution_count": 72,
   "metadata": {},
   "outputs": [
    {
     "ename": "TypeError",
     "evalue": "cannot do slice indexing on <class 'pandas.core.indexes.range.RangeIndex'> with these indexers [2019-11-02 23:00:00] of <class 'pandas._libs.tslibs.timestamps.Timestamp'>",
     "output_type": "error",
     "traceback": [
      "\u001b[0;31m---------------------------------------------------------------------------\u001b[0m",
      "\u001b[0;31mTypeError\u001b[0m                                 Traceback (most recent call last)",
      "\u001b[0;32m<ipython-input-72-9f888dcf54a2>\u001b[0m in \u001b[0;36m<module>\u001b[0;34m\u001b[0m\n\u001b[0;32m----> 1\u001b[0;31m \u001b[0mtime_test_1\u001b[0m \u001b[0;34m=\u001b[0m \u001b[0mdata\u001b[0m\u001b[0;34m[\u001b[0m\u001b[0mstart_time\u001b[0m\u001b[0;34m:\u001b[0m\u001b[0mend_time\u001b[0m\u001b[0;34m]\u001b[0m\u001b[0;34m\u001b[0m\u001b[0;34m\u001b[0m\u001b[0m\n\u001b[0m\u001b[1;32m      2\u001b[0m \u001b[0mtime_test_1\u001b[0m\u001b[0;34m\u001b[0m\u001b[0;34m\u001b[0m\u001b[0m\n",
      "\u001b[0;32m~/opt/anaconda3/lib/python3.8/site-packages/pandas/core/frame.py\u001b[0m in \u001b[0;36m__getitem__\u001b[0;34m(self, key)\u001b[0m\n\u001b[1;32m   2777\u001b[0m \u001b[0;34m\u001b[0m\u001b[0m\n\u001b[1;32m   2778\u001b[0m         \u001b[0;31m# Do we have a slicer (on rows)?\u001b[0m\u001b[0;34m\u001b[0m\u001b[0;34m\u001b[0m\u001b[0;34m\u001b[0m\u001b[0m\n\u001b[0;32m-> 2779\u001b[0;31m         \u001b[0mindexer\u001b[0m \u001b[0;34m=\u001b[0m \u001b[0mconvert_to_index_sliceable\u001b[0m\u001b[0;34m(\u001b[0m\u001b[0mself\u001b[0m\u001b[0;34m,\u001b[0m \u001b[0mkey\u001b[0m\u001b[0;34m)\u001b[0m\u001b[0;34m\u001b[0m\u001b[0;34m\u001b[0m\u001b[0m\n\u001b[0m\u001b[1;32m   2780\u001b[0m         \u001b[0;32mif\u001b[0m \u001b[0mindexer\u001b[0m \u001b[0;32mis\u001b[0m \u001b[0;32mnot\u001b[0m \u001b[0;32mNone\u001b[0m\u001b[0;34m:\u001b[0m\u001b[0;34m\u001b[0m\u001b[0;34m\u001b[0m\u001b[0m\n\u001b[1;32m   2781\u001b[0m             \u001b[0;31m# either we have a slice or we have a string that can be converted\u001b[0m\u001b[0;34m\u001b[0m\u001b[0;34m\u001b[0m\u001b[0;34m\u001b[0m\u001b[0m\n",
      "\u001b[0;32m~/opt/anaconda3/lib/python3.8/site-packages/pandas/core/indexing.py\u001b[0m in \u001b[0;36mconvert_to_index_sliceable\u001b[0;34m(obj, key)\u001b[0m\n\u001b[1;32m   2265\u001b[0m     \u001b[0midx\u001b[0m \u001b[0;34m=\u001b[0m \u001b[0mobj\u001b[0m\u001b[0;34m.\u001b[0m\u001b[0mindex\u001b[0m\u001b[0;34m\u001b[0m\u001b[0;34m\u001b[0m\u001b[0m\n\u001b[1;32m   2266\u001b[0m     \u001b[0;32mif\u001b[0m \u001b[0misinstance\u001b[0m\u001b[0;34m(\u001b[0m\u001b[0mkey\u001b[0m\u001b[0;34m,\u001b[0m \u001b[0mslice\u001b[0m\u001b[0;34m)\u001b[0m\u001b[0;34m:\u001b[0m\u001b[0;34m\u001b[0m\u001b[0;34m\u001b[0m\u001b[0m\n\u001b[0;32m-> 2267\u001b[0;31m         \u001b[0;32mreturn\u001b[0m \u001b[0midx\u001b[0m\u001b[0;34m.\u001b[0m\u001b[0m_convert_slice_indexer\u001b[0m\u001b[0;34m(\u001b[0m\u001b[0mkey\u001b[0m\u001b[0;34m,\u001b[0m \u001b[0mkind\u001b[0m\u001b[0;34m=\u001b[0m\u001b[0;34m\"getitem\"\u001b[0m\u001b[0;34m)\u001b[0m\u001b[0;34m\u001b[0m\u001b[0;34m\u001b[0m\u001b[0m\n\u001b[0m\u001b[1;32m   2268\u001b[0m \u001b[0;34m\u001b[0m\u001b[0m\n\u001b[1;32m   2269\u001b[0m     \u001b[0;32melif\u001b[0m \u001b[0misinstance\u001b[0m\u001b[0;34m(\u001b[0m\u001b[0mkey\u001b[0m\u001b[0;34m,\u001b[0m \u001b[0mstr\u001b[0m\u001b[0;34m)\u001b[0m\u001b[0;34m:\u001b[0m\u001b[0;34m\u001b[0m\u001b[0;34m\u001b[0m\u001b[0m\n",
      "\u001b[0;32m~/opt/anaconda3/lib/python3.8/site-packages/pandas/core/indexes/base.py\u001b[0m in \u001b[0;36m_convert_slice_indexer\u001b[0;34m(self, key, kind)\u001b[0m\n\u001b[1;32m   2936\u001b[0m             \u001b[0;32mif\u001b[0m \u001b[0mself\u001b[0m\u001b[0;34m.\u001b[0m\u001b[0mis_integer\u001b[0m\u001b[0;34m(\u001b[0m\u001b[0;34m)\u001b[0m \u001b[0;32mor\u001b[0m \u001b[0mis_index_slice\u001b[0m\u001b[0;34m:\u001b[0m\u001b[0;34m\u001b[0m\u001b[0;34m\u001b[0m\u001b[0m\n\u001b[1;32m   2937\u001b[0m                 return slice(\n\u001b[0;32m-> 2938\u001b[0;31m                     \u001b[0mself\u001b[0m\u001b[0;34m.\u001b[0m\u001b[0m_validate_indexer\u001b[0m\u001b[0;34m(\u001b[0m\u001b[0;34m\"slice\"\u001b[0m\u001b[0;34m,\u001b[0m \u001b[0mkey\u001b[0m\u001b[0;34m.\u001b[0m\u001b[0mstart\u001b[0m\u001b[0;34m,\u001b[0m \u001b[0mkind\u001b[0m\u001b[0;34m)\u001b[0m\u001b[0;34m,\u001b[0m\u001b[0;34m\u001b[0m\u001b[0;34m\u001b[0m\u001b[0m\n\u001b[0m\u001b[1;32m   2939\u001b[0m                     \u001b[0mself\u001b[0m\u001b[0;34m.\u001b[0m\u001b[0m_validate_indexer\u001b[0m\u001b[0;34m(\u001b[0m\u001b[0;34m\"slice\"\u001b[0m\u001b[0;34m,\u001b[0m \u001b[0mkey\u001b[0m\u001b[0;34m.\u001b[0m\u001b[0mstop\u001b[0m\u001b[0;34m,\u001b[0m \u001b[0mkind\u001b[0m\u001b[0;34m)\u001b[0m\u001b[0;34m,\u001b[0m\u001b[0;34m\u001b[0m\u001b[0;34m\u001b[0m\u001b[0m\n\u001b[1;32m   2940\u001b[0m                     \u001b[0mself\u001b[0m\u001b[0;34m.\u001b[0m\u001b[0m_validate_indexer\u001b[0m\u001b[0;34m(\u001b[0m\u001b[0;34m\"slice\"\u001b[0m\u001b[0;34m,\u001b[0m \u001b[0mkey\u001b[0m\u001b[0;34m.\u001b[0m\u001b[0mstep\u001b[0m\u001b[0;34m,\u001b[0m \u001b[0mkind\u001b[0m\u001b[0;34m)\u001b[0m\u001b[0;34m,\u001b[0m\u001b[0;34m\u001b[0m\u001b[0;34m\u001b[0m\u001b[0m\n",
      "\u001b[0;32m~/opt/anaconda3/lib/python3.8/site-packages/pandas/core/indexes/base.py\u001b[0m in \u001b[0;36m_validate_indexer\u001b[0;34m(self, form, key, kind)\u001b[0m\n\u001b[1;32m   4748\u001b[0m             \u001b[0;32mpass\u001b[0m\u001b[0;34m\u001b[0m\u001b[0;34m\u001b[0m\u001b[0m\n\u001b[1;32m   4749\u001b[0m         \u001b[0;32melif\u001b[0m \u001b[0mkind\u001b[0m \u001b[0;32min\u001b[0m \u001b[0;34m[\u001b[0m\u001b[0;34m\"iloc\"\u001b[0m\u001b[0;34m,\u001b[0m \u001b[0;34m\"getitem\"\u001b[0m\u001b[0;34m]\u001b[0m\u001b[0;34m:\u001b[0m\u001b[0;34m\u001b[0m\u001b[0;34m\u001b[0m\u001b[0m\n\u001b[0;32m-> 4750\u001b[0;31m             \u001b[0mself\u001b[0m\u001b[0;34m.\u001b[0m\u001b[0m_invalid_indexer\u001b[0m\u001b[0;34m(\u001b[0m\u001b[0mform\u001b[0m\u001b[0;34m,\u001b[0m \u001b[0mkey\u001b[0m\u001b[0;34m)\u001b[0m\u001b[0;34m\u001b[0m\u001b[0;34m\u001b[0m\u001b[0m\n\u001b[0m\u001b[1;32m   4751\u001b[0m         \u001b[0;32mreturn\u001b[0m \u001b[0mkey\u001b[0m\u001b[0;34m\u001b[0m\u001b[0;34m\u001b[0m\u001b[0m\n\u001b[1;32m   4752\u001b[0m \u001b[0;34m\u001b[0m\u001b[0m\n",
      "\u001b[0;32m~/opt/anaconda3/lib/python3.8/site-packages/pandas/core/indexes/base.py\u001b[0m in \u001b[0;36m_invalid_indexer\u001b[0;34m(self, form, key)\u001b[0m\n\u001b[1;32m   3074\u001b[0m         \u001b[0mConsistent\u001b[0m \u001b[0minvalid\u001b[0m \u001b[0mindexer\u001b[0m \u001b[0mmessage\u001b[0m\u001b[0;34m.\u001b[0m\u001b[0;34m\u001b[0m\u001b[0;34m\u001b[0m\u001b[0m\n\u001b[1;32m   3075\u001b[0m         \"\"\"\n\u001b[0;32m-> 3076\u001b[0;31m         raise TypeError(\n\u001b[0m\u001b[1;32m   3077\u001b[0m             \u001b[0;34mf\"cannot do {form} indexing on {type(self)} with these \"\u001b[0m\u001b[0;34m\u001b[0m\u001b[0;34m\u001b[0m\u001b[0m\n\u001b[1;32m   3078\u001b[0m             \u001b[0;34mf\"indexers [{key}] of {type(key)}\"\u001b[0m\u001b[0;34m\u001b[0m\u001b[0;34m\u001b[0m\u001b[0m\n",
      "\u001b[0;31mTypeError\u001b[0m: cannot do slice indexing on <class 'pandas.core.indexes.range.RangeIndex'> with these indexers [2019-11-02 23:00:00] of <class 'pandas._libs.tslibs.timestamps.Timestamp'>"
     ]
    }
   ],
   "source": [
    "time_test_1 = data[start_time:end_time]\n",
    "time_test_1"
   ]
  },
  {
   "cell_type": "code",
   "execution_count": 74,
   "metadata": {},
   "outputs": [
    {
     "ename": "NameError",
     "evalue": "name 'dataNSW' is not defined",
     "output_type": "error",
     "traceback": [
      "\u001b[0;31m---------------------------------------------------------------------------\u001b[0m",
      "\u001b[0;31mNameError\u001b[0m                                 Traceback (most recent call last)",
      "\u001b[0;32m<ipython-input-74-56f8c466cbf8>\u001b[0m in \u001b[0;36m<module>\u001b[0;34m\u001b[0m\n\u001b[0;32m----> 1\u001b[0;31m \u001b[0mdataNSW\u001b[0m\u001b[0;34m\u001b[0m\u001b[0;34m\u001b[0m\u001b[0m\n\u001b[0m",
      "\u001b[0;31mNameError\u001b[0m: name 'dataNSW' is not defined"
     ]
    }
   ],
   "source": [
    "dataNSW"
   ]
  },
  {
   "cell_type": "code",
   "execution_count": null,
   "metadata": {},
   "outputs": [],
   "source": []
  }
 ],
 "metadata": {
  "kernelspec": {
   "display_name": "Python 3",
   "language": "python",
   "name": "python3"
  },
  "language_info": {
   "codemirror_mode": {
    "name": "ipython",
    "version": 3
   },
   "file_extension": ".py",
   "mimetype": "text/x-python",
   "name": "python",
   "nbconvert_exporter": "python",
   "pygments_lexer": "ipython3",
   "version": "3.8.3"
  }
 },
 "nbformat": 4,
 "nbformat_minor": 4
}

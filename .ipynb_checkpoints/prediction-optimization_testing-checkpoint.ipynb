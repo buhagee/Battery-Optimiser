{
 "cells": [
  {
   "cell_type": "code",
   "execution_count": 2,
   "metadata": {},
   "outputs": [
    {
     "name": "stdout",
     "output_type": "stream",
     "text": [
      "           SETTLEMENTDATE  prediction  true values\n",
      "0     2019-01-01 00:00:00    6.090773     6.583450\n",
      "1     2019-01-01 00:05:00    6.609532     6.375000\n",
      "2     2019-01-01 00:10:00    6.715043     6.438173\n",
      "3     2019-01-01 00:15:00    6.410305     6.375000\n",
      "4     2019-01-01 00:20:00    6.171192     6.375000\n",
      "...                   ...         ...          ...\n",
      "52123 2019-06-30 23:35:00   10.861973     6.134757\n",
      "52124 2019-06-30 23:40:00    9.588078     5.998145\n",
      "52125 2019-06-30 23:45:00    8.853089     5.961220\n",
      "52126 2019-06-30 23:50:00    8.046125     5.066510\n",
      "52127 2019-06-30 23:55:00    7.410601     5.002401\n",
      "\n",
      "[52128 rows x 3 columns]\n",
      "Optimizing results for real prices\n",
      "Using license file C:\\Users\\jbuha\\gurobi.lic\n",
      "Academic license - for non-commercial use only\n"
     ]
    },
    {
     "ename": "KeyboardInterrupt",
     "evalue": "",
     "output_type": "error",
     "traceback": [
      "\u001b[1;31m---------------------------------------------------------------------------\u001b[0m",
      "\u001b[1;31mKeyboardInterrupt\u001b[0m                         Traceback (most recent call last)",
      "\u001b[1;32m<ipython-input-2-48052a013636>\u001b[0m in \u001b[0;36m<module>\u001b[1;34m\u001b[0m\n\u001b[0;32m     19\u001b[0m \u001b[1;33m\u001b[0m\u001b[0m\n\u001b[0;32m     20\u001b[0m \u001b[0mprint\u001b[0m\u001b[1;33m(\u001b[0m\u001b[1;34m\"Optimizing results for real prices\"\u001b[0m\u001b[1;33m)\u001b[0m\u001b[1;33m\u001b[0m\u001b[1;33m\u001b[0m\u001b[0m\n\u001b[1;32m---> 21\u001b[1;33m \u001b[0mrealNxtAction\u001b[0m\u001b[1;33m,\u001b[0m \u001b[0mrealNxtBatCharge\u001b[0m\u001b[1;33m,\u001b[0m \u001b[0mrealActions\u001b[0m \u001b[1;33m=\u001b[0m \u001b[0mom\u001b[0m\u001b[1;33m.\u001b[0m\u001b[0moptimize\u001b[0m\u001b[1;33m(\u001b[0m\u001b[0mrealPrices\u001b[0m\u001b[1;33m,\u001b[0m \u001b[0mbStorage0\u001b[0m\u001b[1;33m,\u001b[0m \u001b[0moutputResults\u001b[0m\u001b[1;33m,\u001b[0m \u001b[0moutputActions\u001b[0m\u001b[1;33m)\u001b[0m\u001b[1;33m\u001b[0m\u001b[1;33m\u001b[0m\u001b[0m\n\u001b[0m\u001b[0;32m     22\u001b[0m \u001b[1;33m\u001b[0m\u001b[0m\n\u001b[0;32m     23\u001b[0m \u001b[0mprint\u001b[0m\u001b[1;33m(\u001b[0m\u001b[1;34m\"\\nOptimizing results for predicted prices\\nProfit is incorrect as it is calculating predicted profit not actual profit\"\u001b[0m\u001b[1;33m)\u001b[0m\u001b[1;33m\u001b[0m\u001b[1;33m\u001b[0m\u001b[0m\n",
      "\u001b[1;32m~\\OneDrive\\Documents\\GitHub\\energy_project\\optimizer_module.py\u001b[0m in \u001b[0;36moptimize\u001b[1;34m(prices, bStorage0, outputStats, outputActions)\u001b[0m\n\u001b[0;32m     64\u001b[0m             \u001b[0mdispatchCostDefinition\u001b[0m \u001b[1;33m=\u001b[0m \u001b[0mm\u001b[0m\u001b[1;33m.\u001b[0m\u001b[0maddConstr\u001b[0m\u001b[1;33m(\u001b[0m\u001b[0mdispatchCost\u001b[0m\u001b[1;33m[\u001b[0m\u001b[0mi\u001b[0m\u001b[1;33m]\u001b[0m \u001b[1;33m==\u001b[0m \u001b[1;33m-\u001b[0m\u001b[1;36m1\u001b[0m\u001b[1;33m*\u001b[0m\u001b[0mchargeBattery\u001b[0m\u001b[1;33m[\u001b[0m\u001b[0mi\u001b[0m\u001b[1;33m]\u001b[0m\u001b[1;33m*\u001b[0m\u001b[0mp\u001b[0m\u001b[1;33m/\u001b[0m\u001b[1;36m12\u001b[0m\u001b[1;33m)\u001b[0m\u001b[1;33m\u001b[0m\u001b[1;33m\u001b[0m\u001b[0m\n\u001b[0;32m     65\u001b[0m             \u001b[0mdispatchRevenueDefinition\u001b[0m \u001b[1;33m=\u001b[0m \u001b[0mm\u001b[0m\u001b[1;33m.\u001b[0m\u001b[0maddConstr\u001b[0m\u001b[1;33m(\u001b[0m\u001b[0mdispatchRevenue\u001b[0m\u001b[1;33m[\u001b[0m\u001b[0mi\u001b[0m\u001b[1;33m]\u001b[0m \u001b[1;33m==\u001b[0m \u001b[0mdischargeBattery\u001b[0m\u001b[1;33m[\u001b[0m\u001b[0mi\u001b[0m\u001b[1;33m]\u001b[0m\u001b[1;33m*\u001b[0m\u001b[0mp\u001b[0m\u001b[1;33m/\u001b[0m\u001b[1;36m12\u001b[0m\u001b[1;33m)\u001b[0m\u001b[1;33m\u001b[0m\u001b[1;33m\u001b[0m\u001b[0m\n\u001b[1;32m---> 66\u001b[1;33m             \u001b[0mdispatchProfitDefinition\u001b[0m \u001b[1;33m=\u001b[0m \u001b[0mm\u001b[0m\u001b[1;33m.\u001b[0m\u001b[0maddConstr\u001b[0m\u001b[1;33m(\u001b[0m\u001b[0mdispatchProfit\u001b[0m\u001b[1;33m[\u001b[0m\u001b[0mi\u001b[0m\u001b[1;33m]\u001b[0m \u001b[1;33m==\u001b[0m \u001b[0mdispatchRevenue\u001b[0m\u001b[1;33m[\u001b[0m\u001b[0mi\u001b[0m\u001b[1;33m]\u001b[0m \u001b[1;33m-\u001b[0m \u001b[0mdispatchCost\u001b[0m\u001b[1;33m[\u001b[0m\u001b[0mi\u001b[0m\u001b[1;33m]\u001b[0m\u001b[1;33m)\u001b[0m\u001b[1;33m\u001b[0m\u001b[1;33m\u001b[0m\u001b[0m\n\u001b[0m\u001b[0;32m     67\u001b[0m \u001b[1;33m\u001b[0m\u001b[0m\n\u001b[0;32m     68\u001b[0m         \u001b[1;31m# More Constraints\u001b[0m\u001b[1;33m\u001b[0m\u001b[1;33m\u001b[0m\u001b[1;33m\u001b[0m\u001b[0m\n",
      "\u001b[1;31mKeyboardInterrupt\u001b[0m: "
     ]
    }
   ],
   "source": [
    "# Input prices into optimizer\n",
    "import pandas as pd\n",
    "import optimizer_module as om\n",
    "import price_prediction_v2 as pp\n",
    "results = pd.read_csv('FINAL/final_model_price_predictions.csv', parse_dates=['SETTLEMENTDATE'])\n",
    "\n",
    "numDays = len(results) # Number of days to run model\n",
    "start = 0 # Starting time interval from price data\n",
    "bStorage0 = 0 # Starting battery charge\n",
    "intPerDay = 1\n",
    "\n",
    "times = results[start:start+(numDays*intPerDay)].index.tolist()\n",
    "predPrices = results.iloc[start:start+(numDays*intPerDay)][\"prediction\"].tolist()\n",
    "realPrices = results.iloc[start:start+(numDays*intPerDay)][\"true values\"].tolist()\n",
    "outputResults = 1 # Tells optimizer_module to ouput results for each optimization\n",
    "outputActions = 1 # Tells optimizer_module to ouput list of actions/states for battery use\n",
    "outputCharge = 1 # Tells optimizer_module to ouput list of battery charges\n",
    "\n",
    "print(\"Optimizing results for real prices\")\n",
    "realNxtAction, realNxtBatCharge, realActions = om.optimize(realPrices, bStorage0, outputResults, outputActions, outputCharge)\n",
    "\n",
    "print(\"\\nOptimizing results for predicted prices\\nProfit is incorrect as it is calculating predicted profit not actual profit\")\n",
    "predNxtAction, predNxtBatCharge, predActions = om.optimize(predPrices, bStorage0, outputResults, outputActions, outputCharge)\n",
    "\n",
    "maxProfit = sum([realActions[i]*realPrices[i]/12 for i in range(numDays*intPerDay)])\n",
    "actualProfit = sum([predActions[i]*realPrices[i]/12 for i in range(numDays*intPerDay)])\n",
    "\n",
    "print(\"\\n----------RESULTS----------\")\n",
    "print(\"First prediction: \"+str(times[0])+\"\\nFinal prediction: \"+str(times[-1]))\n",
    "print(\"Max profit possible: $%.4g\" % (maxProfit))\n",
    "print(\"Actual profit: $%.4g -> %.4g%% of optimal profit\" % (actualProfit,actualProfit/maxProfit*100))      "
   ]
  },
  {
   "cell_type": "code",
   "execution_count": null,
   "metadata": {},
   "outputs": [],
   "source": []
  }
 ],
 "metadata": {
  "kernelspec": {
   "display_name": "Python 3",
   "language": "python",
   "name": "python3"
  },
  "language_info": {
   "codemirror_mode": {
    "name": "ipython",
    "version": 3
   },
   "file_extension": ".py",
   "mimetype": "text/x-python",
   "name": "python",
   "nbconvert_exporter": "python",
   "pygments_lexer": "ipython3",
   "version": "3.7.3"
  }
 },
 "nbformat": 4,
 "nbformat_minor": 4
}

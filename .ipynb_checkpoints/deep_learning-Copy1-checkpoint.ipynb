{
 "cells": [
  {
   "cell_type": "code",
   "execution_count": 1,
   "metadata": {},
   "outputs": [],
   "source": [
    "##################################################################\n",
    "############# FORECASTING DAY AHEAD ENERGY PRICE ################\n",
    "################################################################"
   ]
  },
  {
   "cell_type": "code",
   "execution_count": 59,
   "metadata": {},
   "outputs": [],
   "source": [
    "import pandas as pd\n",
    "import numpy as np\n",
    "import datetime as dt\n",
    "import matplotlib.pyplot as plt\n",
    "#import timeseries as ts\n",
    "from sklearn.preprocessing import MinMaxScaler, StandardScaler\n",
    "#from sklearn.externals import joblib\n",
    "import seaborn as sns"
   ]
  },
  {
   "cell_type": "code",
   "execution_count": 60,
   "metadata": {},
   "outputs": [],
   "source": [
    "data = pd.read_csv(\"combined_energy.csv\", parse_dates=True)"
   ]
  },
  {
   "cell_type": "code",
   "execution_count": 61,
   "metadata": {},
   "outputs": [],
   "source": [
    "from datetime import datetime as dt\n",
    "data[\"SETTLEMENTDATE\"] = pd.to_datetime(data[\"SETTLEMENTDATE\"])\n",
    "\n",
    "# Seperating data for each region\n",
    "dataSA = data[data[\"REGIONID\"] == \"SA1\"]\n",
    "\n",
    "# Setting Index to Date\n",
    "dataSA = dataSA[[\"SETTLEMENTDATE\",\"RRP5min\"]]\n",
    "dataSA.index = dataSA[\"SETTLEMENTDATE\"]\n",
    "dataSA.drop(columns=\"SETTLEMENTDATE\", inplace=True)"
   ]
  },
  {
   "cell_type": "code",
   "execution_count": 62,
   "metadata": {},
   "outputs": [
    {
     "data": {
      "text/html": [
       "<div>\n",
       "<style scoped>\n",
       "    .dataframe tbody tr th:only-of-type {\n",
       "        vertical-align: middle;\n",
       "    }\n",
       "\n",
       "    .dataframe tbody tr th {\n",
       "        vertical-align: top;\n",
       "    }\n",
       "\n",
       "    .dataframe thead th {\n",
       "        text-align: right;\n",
       "    }\n",
       "</style>\n",
       "<table border=\"1\" class=\"dataframe\">\n",
       "  <thead>\n",
       "    <tr style=\"text-align: right;\">\n",
       "      <th></th>\n",
       "      <th>RRP5min</th>\n",
       "    </tr>\n",
       "    <tr>\n",
       "      <th>SETTLEMENTDATE</th>\n",
       "      <th></th>\n",
       "    </tr>\n",
       "  </thead>\n",
       "  <tbody>\n",
       "    <tr>\n",
       "      <th>2008-01-07 00:00:00</th>\n",
       "      <td>2.480860</td>\n",
       "    </tr>\n",
       "    <tr>\n",
       "      <th>2008-01-07 00:05:00</th>\n",
       "      <td>2.475000</td>\n",
       "    </tr>\n",
       "    <tr>\n",
       "      <th>2008-01-07 00:10:00</th>\n",
       "      <td>2.475000</td>\n",
       "    </tr>\n",
       "    <tr>\n",
       "      <th>2008-01-07 00:15:00</th>\n",
       "      <td>2.475000</td>\n",
       "    </tr>\n",
       "    <tr>\n",
       "      <th>2008-01-07 00:20:00</th>\n",
       "      <td>2.475000</td>\n",
       "    </tr>\n",
       "    <tr>\n",
       "      <th>...</th>\n",
       "      <td>...</td>\n",
       "    </tr>\n",
       "    <tr>\n",
       "      <th>2010-06-29 03:50:00</th>\n",
       "      <td>1.606734</td>\n",
       "    </tr>\n",
       "    <tr>\n",
       "      <th>2010-06-29 03:55:00</th>\n",
       "      <td>1.575924</td>\n",
       "    </tr>\n",
       "    <tr>\n",
       "      <th>2010-06-29 04:00:00</th>\n",
       "      <td>1.600646</td>\n",
       "    </tr>\n",
       "    <tr>\n",
       "      <th>2010-06-29 04:05:00</th>\n",
       "      <td>1.576221</td>\n",
       "    </tr>\n",
       "    <tr>\n",
       "      <th>2010-06-29 04:10:00</th>\n",
       "      <td>1.232615</td>\n",
       "    </tr>\n",
       "  </tbody>\n",
       "</table>\n",
       "<p>209715 rows × 1 columns</p>\n",
       "</div>"
      ],
      "text/plain": [
       "                      RRP5min\n",
       "SETTLEMENTDATE               \n",
       "2008-01-07 00:00:00  2.480860\n",
       "2008-01-07 00:05:00  2.475000\n",
       "2008-01-07 00:10:00  2.475000\n",
       "2008-01-07 00:15:00  2.475000\n",
       "2008-01-07 00:20:00  2.475000\n",
       "...                       ...\n",
       "2010-06-29 03:50:00  1.606734\n",
       "2010-06-29 03:55:00  1.575924\n",
       "2010-06-29 04:00:00  1.600646\n",
       "2010-06-29 04:05:00  1.576221\n",
       "2010-06-29 04:10:00  1.232615\n",
       "\n",
       "[209715 rows x 1 columns]"
      ]
     },
     "execution_count": 62,
     "metadata": {},
     "output_type": "execute_result"
    }
   ],
   "source": [
    "dataSA"
   ]
  },
  {
   "cell_type": "code",
   "execution_count": 63,
   "metadata": {},
   "outputs": [
    {
     "data": {
      "text/plain": [
       "True"
      ]
     },
     "execution_count": 63,
     "metadata": {},
     "output_type": "execute_result"
    }
   ],
   "source": [
    "# check if their are any gaps within the data\n",
    "any(dataSA.dropna().index.to_series().diff() > pd.Timedelta('00:05:00'))"
   ]
  },
  {
   "cell_type": "code",
   "execution_count": 64,
   "metadata": {},
   "outputs": [
    {
     "data": {
      "image/png": "[encoded data removed]",
      "text/plain": [
       "<Figure size 864x360 with 1 Axes>"
      ]
     },
     "metadata": {
      "needs_background": "light"
     },
     "output_type": "display_data"
    }
   ],
   "source": [
    "# plot the price full price data set\n",
    "ax = dataSA.plot(figsize=(12, 5), legend=False)"
   ]
  },
  {
   "cell_type": "code",
   "execution_count": 73,
   "metadata": {},
   "outputs": [],
   "source": [
    "# keep raw data of the test set for model evaluation\n",
    "test_raw = dataSA['2010']\n",
    "\n",
    "def replace_outliers(data, column, tolerance):\n",
    "\n",
    "    \"\"\"Replace outliers out of 75% + tolerance * IQR or 25% - tolerance * IQR by these thresholds\"\"\"\n",
    "    \n",
    "    tol = tolerance\n",
    "    data_prep = data.copy(deep=True)\n",
    "    \n",
    "    # calculate quantiles and inter-quantile range of the data\n",
    "    q75 = data_prep[column].quantile(.75)\n",
    "    q25 = data_prep[column].quantile(.25)\n",
    "    IQR = q75 - q25\n",
    "\n",
    "    # values larger (smaller) than q75 (q25) plus 'tol' times IQR get replaced by that value\n",
    "    data_prep[column] = data_prep[column].apply(lambda x: q75 + tol * IQR if (x > q75 + tol * IQR) else x)\n",
    "    data_prep[column] = data_prep[column].apply(lambda x: q25 - tol * IQR if (x < q75 - tol * IQR) else x)\n",
    "    \n",
    "    return data_prep"
   ]
  },
  {
   "cell_type": "code",
   "execution_count": 66,
   "metadata": {},
   "outputs": [],
   "source": [
    "dataSA.describe().T\n",
    "outlier = 3 * (3.041864-1.73109)"
   ]
  },
  {
   "cell_type": "code",
   "execution_count": 67,
   "metadata": {},
   "outputs": [],
   "source": [
    "# replace outliers by Median value\n",
    "#median = dataSA.loc[dataSA['RRP5min']<outlier, 'RRP5min'].median()\n",
    "#dataSA[\"RRP5min\"] = np.where(dataSA[\"RRP5min\"] >outlier, median,dataSA['RRP5min'])"
   ]
  },
  {
   "cell_type": "code",
   "execution_count": 68,
   "metadata": {},
   "outputs": [],
   "source": [
    "# replace outliers by Median value\n",
    "#loutlier = 3 * (1.73109 - 3.041864)\n",
    "#dataSA[\"RRP5min\"] = np.where(dataSA[\"RRP5min\"] < loutlier, median,dataSA['RRP5min'])"
   ]
  },
  {
   "cell_type": "code",
   "execution_count": 69,
   "metadata": {},
   "outputs": [
    {
     "data": {
      "text/plain": [
       "<matplotlib.axes._subplots.AxesSubplot at 0x7ff103b96460>"
      ]
     },
     "execution_count": 69,
     "metadata": {},
     "output_type": "execute_result"
    },
    {
     "data": {
      "image/png": "[encoded data removed]",
      "text/plain": [
       "<Figure size 432x288 with 1 Axes>"
      ]
     },
     "metadata": {
      "needs_background": "light"
     },
     "output_type": "display_data"
    }
   ],
   "source": [
    "dataSA.plot()"
   ]
  },
  {
   "cell_type": "code",
   "execution_count": 70,
   "metadata": {},
   "outputs": [
    {
     "data": {
      "text/plain": [
       "array([<matplotlib.axes._subplots.AxesSubplot object at 0x7ff1049a46a0>],\n",
       "      dtype=object)"
      ]
     },
     "execution_count": 70,
     "metadata": {},
     "output_type": "execute_result"
    },
    {
     "data": {
      "image/png": "[encoded data removed]",
      "text/plain": [
       "<Figure size 864x432 with 1 Axes>"
      ]
     },
     "metadata": {
      "needs_background": "light"
     },
     "output_type": "display_data"
    }
   ],
   "source": [
    "f, ax = plt.subplots(figsize=(12, 6))\n",
    "dataSA.hist(bins=50, ax=ax)"
   ]
  },
  {
   "cell_type": "code",
   "execution_count": 71,
   "metadata": {},
   "outputs": [],
   "source": [
    "# Scaling data\n",
    "data_scale = MinMaxScaler()\n",
    "dataSA[\"RRP5min\"] = data_scale.fit_transform(dataSA[\"RRP5min\"].values.reshape(-1,1))"
   ]
  },
  {
   "cell_type": "code",
   "execution_count": 72,
   "metadata": {},
   "outputs": [
    {
     "data": {
      "image/png": "[encoded data removed]",
      "text/plain": [
       "<Figure size 720x432 with 1 Axes>"
      ]
     },
     "metadata": {
      "needs_background": "light"
     },
     "output_type": "display_data"
    }
   ],
   "source": [
    "feature_data = dataSA.loc['2010-06-12':'2010-06-12', 'RRP5min']\n",
    "feature_data.columns = ['input data']\n",
    "label_data = dataSA.loc['2010-06-13', 'RRP5min']\n",
    "label_data.columns = ['data to predict']\n",
    "f, ax = plt.subplots(figsize=(10, 6))\n",
    "feature_data.plot(ax=ax)\n",
    "label_data.plot(ax=ax, color='red')\n",
    "ax.set_ylabel('Relative price', fontsize=14)\n",
    "ax.set_xlabel('Date', fontsize=14)\n",
    "ax.set_title('Timeseries Model Data Structure', fontsize=14);"
   ]
  },
  {
   "cell_type": "code",
   "execution_count": 56,
   "metadata": {},
   "outputs": [],
   "source": [
    "# include time lags of timeseries data for 1 week = 7 * 24h = 168h\n",
    "lags = 1000\n",
    "for l in range(1, lags+1):\n",
    "    dataSA['l_{}'.format(l)] = dataSA['RRP5min'].shift(l)"
   ]
  },
  {
   "cell_type": "code",
   "execution_count": 57,
   "metadata": {},
   "outputs": [
    {
     "data": {
      "text/html": [
       "<div>\n",
       "<style scoped>\n",
       "    .dataframe tbody tr th:only-of-type {\n",
       "        vertical-align: middle;\n",
       "    }\n",
       "\n",
       "    .dataframe tbody tr th {\n",
       "        vertical-align: top;\n",
       "    }\n",
       "\n",
       "    .dataframe thead th {\n",
       "        text-align: right;\n",
       "    }\n",
       "</style>\n",
       "<table border=\"1\" class=\"dataframe\">\n",
       "  <thead>\n",
       "    <tr style=\"text-align: right;\">\n",
       "      <th></th>\n",
       "      <th>RRP5min</th>\n",
       "      <th>l_1</th>\n",
       "      <th>l_2</th>\n",
       "      <th>l_3</th>\n",
       "      <th>l_4</th>\n",
       "      <th>l_5</th>\n",
       "      <th>l_6</th>\n",
       "      <th>l_7</th>\n",
       "      <th>l_8</th>\n",
       "      <th>l_9</th>\n",
       "      <th>...</th>\n",
       "      <th>l_991</th>\n",
       "      <th>l_992</th>\n",
       "      <th>l_993</th>\n",
       "      <th>l_994</th>\n",
       "      <th>l_995</th>\n",
       "      <th>l_996</th>\n",
       "      <th>l_997</th>\n",
       "      <th>l_998</th>\n",
       "      <th>l_999</th>\n",
       "      <th>l_1000</th>\n",
       "    </tr>\n",
       "    <tr>\n",
       "      <th>SETTLEMENTDATE</th>\n",
       "      <th></th>\n",
       "      <th></th>\n",
       "      <th></th>\n",
       "      <th></th>\n",
       "      <th></th>\n",
       "      <th></th>\n",
       "      <th></th>\n",
       "      <th></th>\n",
       "      <th></th>\n",
       "      <th></th>\n",
       "      <th></th>\n",
       "      <th></th>\n",
       "      <th></th>\n",
       "      <th></th>\n",
       "      <th></th>\n",
       "      <th></th>\n",
       "      <th></th>\n",
       "      <th></th>\n",
       "      <th></th>\n",
       "      <th></th>\n",
       "      <th></th>\n",
       "    </tr>\n",
       "  </thead>\n",
       "  <tbody>\n",
       "    <tr>\n",
       "      <th>2008-04-07 11:20:00</th>\n",
       "      <td>0.956867</td>\n",
       "      <td>0.941180</td>\n",
       "      <td>0.941180</td>\n",
       "      <td>0.941180</td>\n",
       "      <td>0.972651</td>\n",
       "      <td>0.991705</td>\n",
       "      <td>0.769151</td>\n",
       "      <td>0.769151</td>\n",
       "      <td>0.769151</td>\n",
       "      <td>0.769151</td>\n",
       "      <td>...</td>\n",
       "      <td>0.787169</td>\n",
       "      <td>0.797581</td>\n",
       "      <td>0.797617</td>\n",
       "      <td>0.804851</td>\n",
       "      <td>0.812212</td>\n",
       "      <td>0.812212</td>\n",
       "      <td>0.812212</td>\n",
       "      <td>0.812212</td>\n",
       "      <td>0.812212</td>\n",
       "      <td>0.812967</td>\n",
       "    </tr>\n",
       "    <tr>\n",
       "      <th>2008-04-07 11:25:00</th>\n",
       "      <td>0.941180</td>\n",
       "      <td>0.956867</td>\n",
       "      <td>0.941180</td>\n",
       "      <td>0.941180</td>\n",
       "      <td>0.941180</td>\n",
       "      <td>0.972651</td>\n",
       "      <td>0.991705</td>\n",
       "      <td>0.769151</td>\n",
       "      <td>0.769151</td>\n",
       "      <td>0.769151</td>\n",
       "      <td>...</td>\n",
       "      <td>0.760105</td>\n",
       "      <td>0.787169</td>\n",
       "      <td>0.797581</td>\n",
       "      <td>0.797617</td>\n",
       "      <td>0.804851</td>\n",
       "      <td>0.812212</td>\n",
       "      <td>0.812212</td>\n",
       "      <td>0.812212</td>\n",
       "      <td>0.812212</td>\n",
       "      <td>0.812212</td>\n",
       "    </tr>\n",
       "    <tr>\n",
       "      <th>2008-04-07 11:30:00</th>\n",
       "      <td>0.941180</td>\n",
       "      <td>0.941180</td>\n",
       "      <td>0.956867</td>\n",
       "      <td>0.941180</td>\n",
       "      <td>0.941180</td>\n",
       "      <td>0.941180</td>\n",
       "      <td>0.972651</td>\n",
       "      <td>0.991705</td>\n",
       "      <td>0.769151</td>\n",
       "      <td>0.769151</td>\n",
       "      <td>...</td>\n",
       "      <td>0.778062</td>\n",
       "      <td>0.760105</td>\n",
       "      <td>0.787169</td>\n",
       "      <td>0.797581</td>\n",
       "      <td>0.797617</td>\n",
       "      <td>0.804851</td>\n",
       "      <td>0.812212</td>\n",
       "      <td>0.812212</td>\n",
       "      <td>0.812212</td>\n",
       "      <td>0.812212</td>\n",
       "    </tr>\n",
       "    <tr>\n",
       "      <th>2008-04-07 11:35:00</th>\n",
       "      <td>0.941180</td>\n",
       "      <td>0.941180</td>\n",
       "      <td>0.941180</td>\n",
       "      <td>0.956867</td>\n",
       "      <td>0.941180</td>\n",
       "      <td>0.941180</td>\n",
       "      <td>0.941180</td>\n",
       "      <td>0.972651</td>\n",
       "      <td>0.991705</td>\n",
       "      <td>0.769151</td>\n",
       "      <td>...</td>\n",
       "      <td>0.789252</td>\n",
       "      <td>0.778062</td>\n",
       "      <td>0.760105</td>\n",
       "      <td>0.787169</td>\n",
       "      <td>0.797581</td>\n",
       "      <td>0.797617</td>\n",
       "      <td>0.804851</td>\n",
       "      <td>0.812212</td>\n",
       "      <td>0.812212</td>\n",
       "      <td>0.812212</td>\n",
       "    </tr>\n",
       "    <tr>\n",
       "      <th>2008-04-07 11:40:00</th>\n",
       "      <td>0.941180</td>\n",
       "      <td>0.941180</td>\n",
       "      <td>0.941180</td>\n",
       "      <td>0.941180</td>\n",
       "      <td>0.956867</td>\n",
       "      <td>0.941180</td>\n",
       "      <td>0.941180</td>\n",
       "      <td>0.941180</td>\n",
       "      <td>0.972651</td>\n",
       "      <td>0.991705</td>\n",
       "      <td>...</td>\n",
       "      <td>0.806217</td>\n",
       "      <td>0.789252</td>\n",
       "      <td>0.778062</td>\n",
       "      <td>0.760105</td>\n",
       "      <td>0.787169</td>\n",
       "      <td>0.797581</td>\n",
       "      <td>0.797617</td>\n",
       "      <td>0.804851</td>\n",
       "      <td>0.812212</td>\n",
       "      <td>0.812212</td>\n",
       "    </tr>\n",
       "  </tbody>\n",
       "</table>\n",
       "<p>5 rows × 1001 columns</p>\n",
       "</div>"
      ],
      "text/plain": [
       "                      RRP5min       l_1       l_2       l_3       l_4  \\\n",
       "SETTLEMENTDATE                                                          \n",
       "2008-04-07 11:20:00  0.956867  0.941180  0.941180  0.941180  0.972651   \n",
       "2008-04-07 11:25:00  0.941180  0.956867  0.941180  0.941180  0.941180   \n",
       "2008-04-07 11:30:00  0.941180  0.941180  0.956867  0.941180  0.941180   \n",
       "2008-04-07 11:35:00  0.941180  0.941180  0.941180  0.956867  0.941180   \n",
       "2008-04-07 11:40:00  0.941180  0.941180  0.941180  0.941180  0.956867   \n",
       "\n",
       "                          l_5       l_6       l_7       l_8       l_9  ...  \\\n",
       "SETTLEMENTDATE                                                         ...   \n",
       "2008-04-07 11:20:00  0.991705  0.769151  0.769151  0.769151  0.769151  ...   \n",
       "2008-04-07 11:25:00  0.972651  0.991705  0.769151  0.769151  0.769151  ...   \n",
       "2008-04-07 11:30:00  0.941180  0.972651  0.991705  0.769151  0.769151  ...   \n",
       "2008-04-07 11:35:00  0.941180  0.941180  0.972651  0.991705  0.769151  ...   \n",
       "2008-04-07 11:40:00  0.941180  0.941180  0.941180  0.972651  0.991705  ...   \n",
       "\n",
       "                        l_991     l_992     l_993     l_994     l_995  \\\n",
       "SETTLEMENTDATE                                                          \n",
       "2008-04-07 11:20:00  0.787169  0.797581  0.797617  0.804851  0.812212   \n",
       "2008-04-07 11:25:00  0.760105  0.787169  0.797581  0.797617  0.804851   \n",
       "2008-04-07 11:30:00  0.778062  0.760105  0.787169  0.797581  0.797617   \n",
       "2008-04-07 11:35:00  0.789252  0.778062  0.760105  0.787169  0.797581   \n",
       "2008-04-07 11:40:00  0.806217  0.789252  0.778062  0.760105  0.787169   \n",
       "\n",
       "                        l_996     l_997     l_998     l_999    l_1000  \n",
       "SETTLEMENTDATE                                                         \n",
       "2008-04-07 11:20:00  0.812212  0.812212  0.812212  0.812212  0.812967  \n",
       "2008-04-07 11:25:00  0.812212  0.812212  0.812212  0.812212  0.812212  \n",
       "2008-04-07 11:30:00  0.804851  0.812212  0.812212  0.812212  0.812212  \n",
       "2008-04-07 11:35:00  0.797617  0.804851  0.812212  0.812212  0.812212  \n",
       "2008-04-07 11:40:00  0.797581  0.797617  0.804851  0.812212  0.812212  \n",
       "\n",
       "[5 rows x 1001 columns]"
      ]
     },
     "execution_count": 57,
     "metadata": {},
     "output_type": "execute_result"
    }
   ],
   "source": [
    "# drop missing data entries that result from the lagging step (no lagged data available for first 168 days of year)\n",
    "dataSA.dropna(inplace=True)\n",
    "dataSA.head(n=5)"
   ]
  },
  {
   "cell_type": "code",
   "execution_count": 58,
   "metadata": {},
   "outputs": [
    {
     "data": {
      "text/plain": [
       "((6540, 1000, 1), (6540, 24))"
      ]
     },
     "execution_count": 58,
     "metadata": {},
     "output_type": "execute_result"
    }
   ],
   "source": [
    "# create feature and label dataframes\n",
    "prelim_features = dataSA.drop('RRP5min', axis=1)\n",
    "prelim_labels = pd.DataFrame(dataSA['RRP5min'])\n",
    "\n",
    "# format labels to 2 hour output range\n",
    "for i in range(0, 24):\n",
    "    prelim_labels['t_{}'.format(i)] = prelim_labels['RRP5min'].shift(-i)\n",
    "prelim_labels.drop('RRP5min', axis=1, inplace=True)\n",
    "\n",
    "# apply one-day discretization to the data\n",
    "labels = prelim_labels[prelim_labels.index.hour == 0]\n",
    "features = prelim_features[prelim_features.index.hour == 0]\n",
    "\n",
    "features_train = features[:'2009']\n",
    "features_test = features['2010':]\n",
    "labels_train = labels[:'2009']\n",
    "\n",
    "samples_train = len(features_train)\n",
    "samples_test = len(features_test)\n",
    "timesteps = 1000\n",
    "\n",
    "# convert pandas data frames to numpy ndarrays\n",
    "features_train = features_train.to_numpy().reshape(samples_train, timesteps, 1)\n",
    "features_test = features_test.to_numpy().reshape(samples_test, timesteps, 1)\n",
    "labels_train = labels_train.to_numpy()\n",
    "\n",
    "# check for correct data shape\n",
    "features_train.shape, labels_train.shape"
   ]
  },
  {
   "cell_type": "code",
   "execution_count": 19,
   "metadata": {},
   "outputs": [],
   "source": [
    "from keras.models import Model, load_model\n",
    "from keras.layers import Input, Add\n",
    "from keras.layers.core import Dense, Activation, Dropout\n",
    "from keras.layers.recurrent import LSTM\n",
    "from keras.layers.convolutional import Conv1D\n",
    "from keras.callbacks import ModelCheckpoint\n",
    "from keras.regularizers import l1_l2\n",
    "\n",
    "from sklearn.model_selection import train_test_split\n",
    "from sklearn.metrics import mean_absolute_error\n",
    "import json"
   ]
  },
  {
   "cell_type": "code",
   "execution_count": 20,
   "metadata": {},
   "outputs": [],
   "source": [
    "# split into training and validation data\n",
    "X_train, X_valid, y_train, y_valid = train_test_split(features_train, labels_train, test_size=0.25, random_state=7)"
   ]
  },
  {
   "cell_type": "code",
   "execution_count": 21,
   "metadata": {},
   "outputs": [],
   "source": [
    "def train_predict_evaluate(model, X_train, X_valid, y_train, y_valid, X_test, y_test, test_index, scaler, \n",
    "                           batch_size, epochs, filename='model.hdf5', verbose=0):\n",
    "    \n",
    "    \"\"\"Fit model to training data. Use best performant on validation data to predict for the test set. \n",
    "    Evaluate on the test set and return results as dataframes\"\"\"\n",
    "    \n",
    "    # train model, save best keep best performer on validation set\n",
    "    checkpoint = ModelCheckpoint('./models/' + filename, save_best_only=True)\n",
    "    hist = model.fit(X_train, y_train, validation_data=(X_valid, y_valid), callbacks=[checkpoint], \n",
    "                     verbose=verbose, batch_size=batch_size, epochs=epochs)\n",
    "    \n",
    "    # load best model\n",
    "    best = load_model('./models/' + filename)\n",
    "\n",
    "    # predict for test set\n",
    "    pred = best.predict(X_test)\n",
    "    \n",
    "    \n",
    "    # transform back to original data scale\n",
    "    pred = scaler.inverse_transform(pred.flatten().reshape(-1, 1))\n",
    "    results = pd.DataFrame({'prediction':pred.flatten(), 'true values':y_test}, index=test_index)\n",
    "    \n",
    "    return results, hist"
   ]
  },
  {
   "cell_type": "code",
   "execution_count": 22,
   "metadata": {},
   "outputs": [
    {
     "name": "stdout",
     "output_type": "stream",
     "text": [
      "Model: \"functional_1\"\n",
      "_________________________________________________________________\n",
      "Layer (type)                 Output Shape              Param #   \n",
      "=================================================================\n",
      "input_1 (InputLayer)         [(None, 1000, 1)]         0         \n",
      "_________________________________________________________________\n",
      "conv1d (Conv1D)              (None, 41, 64)            1600      \n",
      "_________________________________________________________________\n",
      "lstm (LSTM)                  (None, 32)                12416     \n",
      "_________________________________________________________________\n",
      "dense (Dense)                (None, 24)                792       \n",
      "=================================================================\n",
      "Total params: 14,808\n",
      "Trainable params: 14,808\n",
      "Non-trainable params: 0\n",
      "_________________________________________________________________\n"
     ]
    }
   ],
   "source": [
    "# design the neural network architecture with the keras functional API\n",
    "input_layer = Input(shape=(X_train.shape[1], X_train.shape[2]))\n",
    "x = Conv1D(64, kernel_size=24, strides=24, padding='valid')(input_layer)\n",
    "x = LSTM(32, recurrent_activation='relu')(x)\n",
    "output_layer = Dense(24)(x)\n",
    "model = Model(inputs=[input_layer], outputs=[output_layer])\n",
    "model.compile(loss='mse', optimizer='adam')\n",
    "model.summary()"
   ]
  },
  {
   "cell_type": "code",
   "execution_count": 23,
   "metadata": {},
   "outputs": [
    {
     "name": "stdout",
     "output_type": "stream",
     "text": [
      "Epoch 1/5\n",
      "154/154 [==============================] - 5s 31ms/step - loss: 0.1352 - val_loss: 0.0092\n",
      "Epoch 2/5\n",
      "154/154 [==============================] - 5s 30ms/step - loss: 0.0082 - val_loss: 0.0083\n",
      "Epoch 3/5\n",
      "154/154 [==============================] - 4s 29ms/step - loss: 0.0077 - val_loss: 0.0078\n",
      "Epoch 4/5\n",
      "154/154 [==============================] - 5s 30ms/step - loss: 0.0075 - val_loss: 0.0074\n",
      "Epoch 5/5\n",
      "154/154 [==============================] - 5s 30ms/step - loss: 0.0071 - val_loss: 0.0071\n"
     ]
    },
    {
     "ename": "ValueError",
     "evalue": "Shape of passed values is (51840, 2), indices imply (51603, 2)",
     "output_type": "error",
     "traceback": [
      "\u001b[0;31m---------------------------------------------------------------------------\u001b[0m",
      "\u001b[0;31mValueError\u001b[0m                                Traceback (most recent call last)",
      "\u001b[0;32m~/opt/anaconda3/lib/python3.8/site-packages/pandas/core/internals/managers.py\u001b[0m in \u001b[0;36mcreate_block_manager_from_arrays\u001b[0;34m(arrays, names, axes)\u001b[0m\n\u001b[1;32m   1670\u001b[0m         \u001b[0mblocks\u001b[0m \u001b[0;34m=\u001b[0m \u001b[0mform_blocks\u001b[0m\u001b[0;34m(\u001b[0m\u001b[0marrays\u001b[0m\u001b[0;34m,\u001b[0m \u001b[0mnames\u001b[0m\u001b[0;34m,\u001b[0m \u001b[0maxes\u001b[0m\u001b[0;34m)\u001b[0m\u001b[0;34m\u001b[0m\u001b[0;34m\u001b[0m\u001b[0m\n\u001b[0;32m-> 1671\u001b[0;31m         \u001b[0mmgr\u001b[0m \u001b[0;34m=\u001b[0m \u001b[0mBlockManager\u001b[0m\u001b[0;34m(\u001b[0m\u001b[0mblocks\u001b[0m\u001b[0;34m,\u001b[0m \u001b[0maxes\u001b[0m\u001b[0;34m)\u001b[0m\u001b[0;34m\u001b[0m\u001b[0;34m\u001b[0m\u001b[0m\n\u001b[0m\u001b[1;32m   1672\u001b[0m         \u001b[0mmgr\u001b[0m\u001b[0;34m.\u001b[0m\u001b[0m_consolidate_inplace\u001b[0m\u001b[0;34m(\u001b[0m\u001b[0;34m)\u001b[0m\u001b[0;34m\u001b[0m\u001b[0;34m\u001b[0m\u001b[0m\n",
      "\u001b[0;32m~/opt/anaconda3/lib/python3.8/site-packages/pandas/core/internals/managers.py\u001b[0m in \u001b[0;36m__init__\u001b[0;34m(self, blocks, axes, do_integrity_check)\u001b[0m\n\u001b[1;32m    138\u001b[0m         \u001b[0;32mif\u001b[0m \u001b[0mdo_integrity_check\u001b[0m\u001b[0;34m:\u001b[0m\u001b[0;34m\u001b[0m\u001b[0;34m\u001b[0m\u001b[0m\n\u001b[0;32m--> 139\u001b[0;31m             \u001b[0mself\u001b[0m\u001b[0;34m.\u001b[0m\u001b[0m_verify_integrity\u001b[0m\u001b[0;34m(\u001b[0m\u001b[0;34m)\u001b[0m\u001b[0;34m\u001b[0m\u001b[0;34m\u001b[0m\u001b[0m\n\u001b[0m\u001b[1;32m    140\u001b[0m \u001b[0;34m\u001b[0m\u001b[0m\n",
      "\u001b[0;32m~/opt/anaconda3/lib/python3.8/site-packages/pandas/core/internals/managers.py\u001b[0m in \u001b[0;36m_verify_integrity\u001b[0;34m(self)\u001b[0m\n\u001b[1;32m    333\u001b[0m             \u001b[0;32mif\u001b[0m \u001b[0mblock\u001b[0m\u001b[0;34m.\u001b[0m\u001b[0m_verify_integrity\u001b[0m \u001b[0;32mand\u001b[0m \u001b[0mblock\u001b[0m\u001b[0;34m.\u001b[0m\u001b[0mshape\u001b[0m\u001b[0;34m[\u001b[0m\u001b[0;36m1\u001b[0m\u001b[0;34m:\u001b[0m\u001b[0;34m]\u001b[0m \u001b[0;34m!=\u001b[0m \u001b[0mmgr_shape\u001b[0m\u001b[0;34m[\u001b[0m\u001b[0;36m1\u001b[0m\u001b[0;34m:\u001b[0m\u001b[0;34m]\u001b[0m\u001b[0;34m:\u001b[0m\u001b[0;34m\u001b[0m\u001b[0;34m\u001b[0m\u001b[0m\n\u001b[0;32m--> 334\u001b[0;31m                 \u001b[0mconstruction_error\u001b[0m\u001b[0;34m(\u001b[0m\u001b[0mtot_items\u001b[0m\u001b[0;34m,\u001b[0m \u001b[0mblock\u001b[0m\u001b[0;34m.\u001b[0m\u001b[0mshape\u001b[0m\u001b[0;34m[\u001b[0m\u001b[0;36m1\u001b[0m\u001b[0;34m:\u001b[0m\u001b[0;34m]\u001b[0m\u001b[0;34m,\u001b[0m \u001b[0mself\u001b[0m\u001b[0;34m.\u001b[0m\u001b[0maxes\u001b[0m\u001b[0;34m)\u001b[0m\u001b[0;34m\u001b[0m\u001b[0;34m\u001b[0m\u001b[0m\n\u001b[0m\u001b[1;32m    335\u001b[0m         \u001b[0;32mif\u001b[0m \u001b[0mlen\u001b[0m\u001b[0;34m(\u001b[0m\u001b[0mself\u001b[0m\u001b[0;34m.\u001b[0m\u001b[0mitems\u001b[0m\u001b[0;34m)\u001b[0m \u001b[0;34m!=\u001b[0m \u001b[0mtot_items\u001b[0m\u001b[0;34m:\u001b[0m\u001b[0;34m\u001b[0m\u001b[0;34m\u001b[0m\u001b[0m\n",
      "\u001b[0;32m~/opt/anaconda3/lib/python3.8/site-packages/pandas/core/internals/managers.py\u001b[0m in \u001b[0;36mconstruction_error\u001b[0;34m(tot_items, block_shape, axes, e)\u001b[0m\n\u001b[1;32m   1693\u001b[0m         \u001b[0;32mraise\u001b[0m \u001b[0mValueError\u001b[0m\u001b[0;34m(\u001b[0m\u001b[0;34m\"Empty data passed with indices specified.\"\u001b[0m\u001b[0;34m)\u001b[0m\u001b[0;34m\u001b[0m\u001b[0;34m\u001b[0m\u001b[0m\n\u001b[0;32m-> 1694\u001b[0;31m     \u001b[0;32mraise\u001b[0m \u001b[0mValueError\u001b[0m\u001b[0;34m(\u001b[0m\u001b[0;34mf\"Shape of passed values is {passed}, indices imply {implied}\"\u001b[0m\u001b[0;34m)\u001b[0m\u001b[0;34m\u001b[0m\u001b[0;34m\u001b[0m\u001b[0m\n\u001b[0m\u001b[1;32m   1695\u001b[0m \u001b[0;34m\u001b[0m\u001b[0m\n",
      "\u001b[0;31mValueError\u001b[0m: Shape of passed values is (51840, 2), indices imply (51603, 2)",
      "\nDuring handling of the above exception, another exception occurred:\n",
      "\u001b[0;31mValueError\u001b[0m                                Traceback (most recent call last)",
      "\u001b[0;32m<ipython-input-23-e6a9425bc085>\u001b[0m in \u001b[0;36m<module>\u001b[0;34m\u001b[0m\n\u001b[1;32m      1\u001b[0m \u001b[0;31m# train the model and calculate the performance on the test set\u001b[0m\u001b[0;34m\u001b[0m\u001b[0;34m\u001b[0m\u001b[0;34m\u001b[0m\u001b[0m\n\u001b[0;32m----> 2\u001b[0;31m results, hist = train_predict_evaluate(model, X_train, X_valid, y_train, y_valid, features_test,\n\u001b[0m\u001b[1;32m      3\u001b[0m                                        \u001b[0mtest_raw\u001b[0m\u001b[0;34m.\u001b[0m\u001b[0mto_numpy\u001b[0m\u001b[0;34m(\u001b[0m\u001b[0;34m)\u001b[0m\u001b[0;34m.\u001b[0m\u001b[0mflatten\u001b[0m\u001b[0;34m(\u001b[0m\u001b[0;34m)\u001b[0m\u001b[0;34m,\u001b[0m \u001b[0mtest_raw\u001b[0m\u001b[0;34m.\u001b[0m\u001b[0mindex\u001b[0m\u001b[0;34m,\u001b[0m \u001b[0mdata_scale\u001b[0m\u001b[0;34m,\u001b[0m \u001b[0;36m0\u001b[0m\u001b[0;34m,\u001b[0m \u001b[0;36m5\u001b[0m\u001b[0;34m,\u001b[0m\u001b[0;34m\u001b[0m\u001b[0;34m\u001b[0m\u001b[0m\n\u001b[1;32m      4\u001b[0m                                        'simple_neural_network.hdf5', verbose=1)\n",
      "\u001b[0;32m<ipython-input-21-0ee2d2519845>\u001b[0m in \u001b[0;36mtrain_predict_evaluate\u001b[0;34m(model, X_train, X_valid, y_train, y_valid, X_test, y_test, test_index, scaler, batch_size, epochs, filename, verbose)\u001b[0m\n\u001b[1;32m     19\u001b[0m     \u001b[0;31m# transform back to original data scale\u001b[0m\u001b[0;34m\u001b[0m\u001b[0;34m\u001b[0m\u001b[0;34m\u001b[0m\u001b[0m\n\u001b[1;32m     20\u001b[0m     \u001b[0mpred\u001b[0m \u001b[0;34m=\u001b[0m \u001b[0mscaler\u001b[0m\u001b[0;34m.\u001b[0m\u001b[0minverse_transform\u001b[0m\u001b[0;34m(\u001b[0m\u001b[0mpred\u001b[0m\u001b[0;34m.\u001b[0m\u001b[0mflatten\u001b[0m\u001b[0;34m(\u001b[0m\u001b[0;34m)\u001b[0m\u001b[0;34m.\u001b[0m\u001b[0mreshape\u001b[0m\u001b[0;34m(\u001b[0m\u001b[0;34m-\u001b[0m\u001b[0;36m1\u001b[0m\u001b[0;34m,\u001b[0m \u001b[0;36m1\u001b[0m\u001b[0;34m)\u001b[0m\u001b[0;34m)\u001b[0m\u001b[0;34m\u001b[0m\u001b[0;34m\u001b[0m\u001b[0m\n\u001b[0;32m---> 21\u001b[0;31m     \u001b[0mresults\u001b[0m \u001b[0;34m=\u001b[0m \u001b[0mpd\u001b[0m\u001b[0;34m.\u001b[0m\u001b[0mDataFrame\u001b[0m\u001b[0;34m(\u001b[0m\u001b[0;34m{\u001b[0m\u001b[0;34m'prediction'\u001b[0m\u001b[0;34m:\u001b[0m\u001b[0mpred\u001b[0m\u001b[0;34m.\u001b[0m\u001b[0mflatten\u001b[0m\u001b[0;34m(\u001b[0m\u001b[0;34m)\u001b[0m\u001b[0;34m,\u001b[0m \u001b[0;34m'true values'\u001b[0m\u001b[0;34m:\u001b[0m\u001b[0my_test\u001b[0m\u001b[0;34m}\u001b[0m\u001b[0;34m,\u001b[0m \u001b[0mindex\u001b[0m\u001b[0;34m=\u001b[0m\u001b[0mtest_index\u001b[0m\u001b[0;34m)\u001b[0m\u001b[0;34m\u001b[0m\u001b[0;34m\u001b[0m\u001b[0m\n\u001b[0m\u001b[1;32m     22\u001b[0m \u001b[0;34m\u001b[0m\u001b[0m\n\u001b[1;32m     23\u001b[0m     \u001b[0;32mreturn\u001b[0m \u001b[0mresults\u001b[0m\u001b[0;34m,\u001b[0m \u001b[0mhist\u001b[0m\u001b[0;34m\u001b[0m\u001b[0;34m\u001b[0m\u001b[0m\n",
      "\u001b[0;32m~/opt/anaconda3/lib/python3.8/site-packages/pandas/core/frame.py\u001b[0m in \u001b[0;36m__init__\u001b[0;34m(self, data, index, columns, dtype, copy)\u001b[0m\n\u001b[1;32m    433\u001b[0m             )\n\u001b[1;32m    434\u001b[0m         \u001b[0;32melif\u001b[0m \u001b[0misinstance\u001b[0m\u001b[0;34m(\u001b[0m\u001b[0mdata\u001b[0m\u001b[0;34m,\u001b[0m \u001b[0mdict\u001b[0m\u001b[0;34m)\u001b[0m\u001b[0;34m:\u001b[0m\u001b[0;34m\u001b[0m\u001b[0;34m\u001b[0m\u001b[0m\n\u001b[0;32m--> 435\u001b[0;31m             \u001b[0mmgr\u001b[0m \u001b[0;34m=\u001b[0m \u001b[0minit_dict\u001b[0m\u001b[0;34m(\u001b[0m\u001b[0mdata\u001b[0m\u001b[0;34m,\u001b[0m \u001b[0mindex\u001b[0m\u001b[0;34m,\u001b[0m \u001b[0mcolumns\u001b[0m\u001b[0;34m,\u001b[0m \u001b[0mdtype\u001b[0m\u001b[0;34m=\u001b[0m\u001b[0mdtype\u001b[0m\u001b[0;34m)\u001b[0m\u001b[0;34m\u001b[0m\u001b[0;34m\u001b[0m\u001b[0m\n\u001b[0m\u001b[1;32m    436\u001b[0m         \u001b[0;32melif\u001b[0m \u001b[0misinstance\u001b[0m\u001b[0;34m(\u001b[0m\u001b[0mdata\u001b[0m\u001b[0;34m,\u001b[0m \u001b[0mma\u001b[0m\u001b[0;34m.\u001b[0m\u001b[0mMaskedArray\u001b[0m\u001b[0;34m)\u001b[0m\u001b[0;34m:\u001b[0m\u001b[0;34m\u001b[0m\u001b[0;34m\u001b[0m\u001b[0m\n\u001b[1;32m    437\u001b[0m             \u001b[0;32mimport\u001b[0m \u001b[0mnumpy\u001b[0m\u001b[0;34m.\u001b[0m\u001b[0mma\u001b[0m\u001b[0;34m.\u001b[0m\u001b[0mmrecords\u001b[0m \u001b[0;32mas\u001b[0m \u001b[0mmrecords\u001b[0m\u001b[0;34m\u001b[0m\u001b[0;34m\u001b[0m\u001b[0m\n",
      "\u001b[0;32m~/opt/anaconda3/lib/python3.8/site-packages/pandas/core/internals/construction.py\u001b[0m in \u001b[0;36minit_dict\u001b[0;34m(data, index, columns, dtype)\u001b[0m\n\u001b[1;32m    252\u001b[0m             \u001b[0marr\u001b[0m \u001b[0;32mif\u001b[0m \u001b[0;32mnot\u001b[0m \u001b[0mis_datetime64tz_dtype\u001b[0m\u001b[0;34m(\u001b[0m\u001b[0marr\u001b[0m\u001b[0;34m)\u001b[0m \u001b[0;32melse\u001b[0m \u001b[0marr\u001b[0m\u001b[0;34m.\u001b[0m\u001b[0mcopy\u001b[0m\u001b[0;34m(\u001b[0m\u001b[0;34m)\u001b[0m \u001b[0;32mfor\u001b[0m \u001b[0marr\u001b[0m \u001b[0;32min\u001b[0m \u001b[0marrays\u001b[0m\u001b[0;34m\u001b[0m\u001b[0;34m\u001b[0m\u001b[0m\n\u001b[1;32m    253\u001b[0m         ]\n\u001b[0;32m--> 254\u001b[0;31m     \u001b[0;32mreturn\u001b[0m \u001b[0marrays_to_mgr\u001b[0m\u001b[0;34m(\u001b[0m\u001b[0marrays\u001b[0m\u001b[0;34m,\u001b[0m \u001b[0mdata_names\u001b[0m\u001b[0;34m,\u001b[0m \u001b[0mindex\u001b[0m\u001b[0;34m,\u001b[0m \u001b[0mcolumns\u001b[0m\u001b[0;34m,\u001b[0m \u001b[0mdtype\u001b[0m\u001b[0;34m=\u001b[0m\u001b[0mdtype\u001b[0m\u001b[0;34m)\u001b[0m\u001b[0;34m\u001b[0m\u001b[0;34m\u001b[0m\u001b[0m\n\u001b[0m\u001b[1;32m    255\u001b[0m \u001b[0;34m\u001b[0m\u001b[0m\n\u001b[1;32m    256\u001b[0m \u001b[0;34m\u001b[0m\u001b[0m\n",
      "\u001b[0;32m~/opt/anaconda3/lib/python3.8/site-packages/pandas/core/internals/construction.py\u001b[0m in \u001b[0;36marrays_to_mgr\u001b[0;34m(arrays, arr_names, index, columns, dtype)\u001b[0m\n\u001b[1;32m     72\u001b[0m     \u001b[0maxes\u001b[0m \u001b[0;34m=\u001b[0m \u001b[0;34m[\u001b[0m\u001b[0mensure_index\u001b[0m\u001b[0;34m(\u001b[0m\u001b[0mcolumns\u001b[0m\u001b[0;34m)\u001b[0m\u001b[0;34m,\u001b[0m \u001b[0mindex\u001b[0m\u001b[0;34m]\u001b[0m\u001b[0;34m\u001b[0m\u001b[0;34m\u001b[0m\u001b[0m\n\u001b[1;32m     73\u001b[0m \u001b[0;34m\u001b[0m\u001b[0m\n\u001b[0;32m---> 74\u001b[0;31m     \u001b[0;32mreturn\u001b[0m \u001b[0mcreate_block_manager_from_arrays\u001b[0m\u001b[0;34m(\u001b[0m\u001b[0marrays\u001b[0m\u001b[0;34m,\u001b[0m \u001b[0marr_names\u001b[0m\u001b[0;34m,\u001b[0m \u001b[0maxes\u001b[0m\u001b[0;34m)\u001b[0m\u001b[0;34m\u001b[0m\u001b[0;34m\u001b[0m\u001b[0m\n\u001b[0m\u001b[1;32m     75\u001b[0m \u001b[0;34m\u001b[0m\u001b[0m\n\u001b[1;32m     76\u001b[0m \u001b[0;34m\u001b[0m\u001b[0m\n",
      "\u001b[0;32m~/opt/anaconda3/lib/python3.8/site-packages/pandas/core/internals/managers.py\u001b[0m in \u001b[0;36mcreate_block_manager_from_arrays\u001b[0;34m(arrays, names, axes)\u001b[0m\n\u001b[1;32m   1673\u001b[0m         \u001b[0;32mreturn\u001b[0m \u001b[0mmgr\u001b[0m\u001b[0;34m\u001b[0m\u001b[0;34m\u001b[0m\u001b[0m\n\u001b[1;32m   1674\u001b[0m     \u001b[0;32mexcept\u001b[0m \u001b[0mValueError\u001b[0m \u001b[0;32mas\u001b[0m \u001b[0me\u001b[0m\u001b[0;34m:\u001b[0m\u001b[0;34m\u001b[0m\u001b[0;34m\u001b[0m\u001b[0m\n\u001b[0;32m-> 1675\u001b[0;31m         \u001b[0mconstruction_error\u001b[0m\u001b[0;34m(\u001b[0m\u001b[0mlen\u001b[0m\u001b[0;34m(\u001b[0m\u001b[0marrays\u001b[0m\u001b[0;34m)\u001b[0m\u001b[0;34m,\u001b[0m \u001b[0marrays\u001b[0m\u001b[0;34m[\u001b[0m\u001b[0;36m0\u001b[0m\u001b[0;34m]\u001b[0m\u001b[0;34m.\u001b[0m\u001b[0mshape\u001b[0m\u001b[0;34m,\u001b[0m \u001b[0maxes\u001b[0m\u001b[0;34m,\u001b[0m \u001b[0me\u001b[0m\u001b[0;34m)\u001b[0m\u001b[0;34m\u001b[0m\u001b[0;34m\u001b[0m\u001b[0m\n\u001b[0m\u001b[1;32m   1676\u001b[0m \u001b[0;34m\u001b[0m\u001b[0m\n\u001b[1;32m   1677\u001b[0m \u001b[0;34m\u001b[0m\u001b[0m\n",
      "\u001b[0;32m~/opt/anaconda3/lib/python3.8/site-packages/pandas/core/internals/managers.py\u001b[0m in \u001b[0;36mconstruction_error\u001b[0;34m(tot_items, block_shape, axes, e)\u001b[0m\n\u001b[1;32m   1692\u001b[0m     \u001b[0;32mif\u001b[0m \u001b[0mblock_shape\u001b[0m\u001b[0;34m[\u001b[0m\u001b[0;36m0\u001b[0m\u001b[0;34m]\u001b[0m \u001b[0;34m==\u001b[0m \u001b[0;36m0\u001b[0m\u001b[0;34m:\u001b[0m\u001b[0;34m\u001b[0m\u001b[0;34m\u001b[0m\u001b[0m\n\u001b[1;32m   1693\u001b[0m         \u001b[0;32mraise\u001b[0m \u001b[0mValueError\u001b[0m\u001b[0;34m(\u001b[0m\u001b[0;34m\"Empty data passed with indices specified.\"\u001b[0m\u001b[0;34m)\u001b[0m\u001b[0;34m\u001b[0m\u001b[0;34m\u001b[0m\u001b[0m\n\u001b[0;32m-> 1694\u001b[0;31m     \u001b[0;32mraise\u001b[0m \u001b[0mValueError\u001b[0m\u001b[0;34m(\u001b[0m\u001b[0;34mf\"Shape of passed values is {passed}, indices imply {implied}\"\u001b[0m\u001b[0;34m)\u001b[0m\u001b[0;34m\u001b[0m\u001b[0;34m\u001b[0m\u001b[0m\n\u001b[0m\u001b[1;32m   1695\u001b[0m \u001b[0;34m\u001b[0m\u001b[0m\n\u001b[1;32m   1696\u001b[0m \u001b[0;34m\u001b[0m\u001b[0m\n",
      "\u001b[0;31mValueError\u001b[0m: Shape of passed values is (51840, 2), indices imply (51603, 2)"
     ]
    }
   ],
   "source": [
    "# train the model and calculate the performance on the test set\n",
    "results, hist = train_predict_evaluate(model, X_train, X_valid, y_train, y_valid, features_test,\n",
    "                                       test_raw.to_numpy().flatten(), test_raw.index, data_scale, 0, 5, \n",
    "                                       'simple_neural_network.hdf5', verbose=1)"
   ]
  },
  {
   "cell_type": "code",
   "execution_count": null,
   "metadata": {},
   "outputs": [],
   "source": []
  },
  {
   "cell_type": "code",
   "execution_count": null,
   "metadata": {},
   "outputs": [],
   "source": []
  }
 ],
 "metadata": {
  "kernelspec": {
   "display_name": "Python 3",
   "language": "python",
   "name": "python3"
  },
  "language_info": {
   "codemirror_mode": {
    "name": "ipython",
    "version": 3
   },
   "file_extension": ".py",
   "mimetype": "text/x-python",
   "name": "python",
   "nbconvert_exporter": "python",
   "pygments_lexer": "ipython3",
   "version": "3.8.3"
  }
 },
 "nbformat": 4,
 "nbformat_minor": 4
}

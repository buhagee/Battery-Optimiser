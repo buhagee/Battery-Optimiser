{
 "cells": [
  {
   "cell_type": "code",
   "execution_count": 66,
   "metadata": {},
   "outputs": [],
   "source": [
    "import pandas as pd\n",
    "import numpy as np\n",
    "import datetime as dt\n",
    "import matplotlib.pyplot as plt\n",
    "from sklearn.preprocessing import MinMaxScaler, StandardScaler\n",
    "import seaborn as sns\n",
    "import custom_module as cm"
   ]
  },
  {
   "cell_type": "code",
   "execution_count": 67,
   "metadata": {},
   "outputs": [],
   "source": [
    "# Loading the dataset\n",
    "data = pd.read_csv(\"/Users/ahsan/Dropbox/My Mac (Alnoors-MBP-2.hub)/Downloads/combined_data.csv\", parse_dates=True)"
   ]
  },
  {
   "cell_type": "code",
   "execution_count": 68,
   "metadata": {},
   "outputs": [],
   "source": [
    "data[\"SETTLEMENTDATE\"] = pd.to_datetime(data[\"SETTLEMENTDATE\"])\n",
    "data.index = data[\"SETTLEMENTDATE\"]\n",
    "data.drop(columns=\"SETTLEMENTDATE\", inplace=True)"
   ]
  },
  {
   "cell_type": "code",
   "execution_count": 69,
   "metadata": {},
   "outputs": [],
   "source": [
    "# The Real Test Data Set To Test Later #\n",
    "X_test = data[\"2019-01-01\":\"2019-06-30\"].copy()\n",
    "X_test = X_test[\"RRP5MIN\"]"
   ]
  },
  {
   "cell_type": "code",
   "execution_count": 6,
   "metadata": {},
   "outputs": [],
   "source": [
    "# replace outliers by outlier threshold\n",
    "data = cm.replace_outliers(data, 'RRP5MIN', 5)"
   ]
  },
  {
   "cell_type": "code",
   "execution_count": 7,
   "metadata": {},
   "outputs": [
    {
     "data": {
      "text/html": [
       "<div>\n",
       "<style scoped>\n",
       "    .dataframe tbody tr th:only-of-type {\n",
       "        vertical-align: middle;\n",
       "    }\n",
       "\n",
       "    .dataframe tbody tr th {\n",
       "        vertical-align: top;\n",
       "    }\n",
       "\n",
       "    .dataframe thead th {\n",
       "        text-align: right;\n",
       "    }\n",
       "</style>\n",
       "<table border=\"1\" class=\"dataframe\">\n",
       "  <thead>\n",
       "    <tr style=\"text-align: right;\">\n",
       "      <th></th>\n",
       "      <th>RRP5MIN</th>\n",
       "      <th>RESIDUAL_DEMAND</th>\n",
       "    </tr>\n",
       "    <tr>\n",
       "      <th>SETTLEMENTDATE</th>\n",
       "      <th></th>\n",
       "      <th></th>\n",
       "    </tr>\n",
       "  </thead>\n",
       "  <tbody>\n",
       "    <tr>\n",
       "      <th>2010-10-20 00:00:00</th>\n",
       "      <td>1.963450</td>\n",
       "      <td>1296.50</td>\n",
       "    </tr>\n",
       "    <tr>\n",
       "      <th>2010-10-20 00:05:00</th>\n",
       "      <td>1.955553</td>\n",
       "      <td>1275.46</td>\n",
       "    </tr>\n",
       "    <tr>\n",
       "      <th>2010-10-20 00:10:00</th>\n",
       "      <td>1.946951</td>\n",
       "      <td>1268.40</td>\n",
       "    </tr>\n",
       "    <tr>\n",
       "      <th>2010-10-20 00:15:00</th>\n",
       "      <td>1.953207</td>\n",
       "      <td>1267.73</td>\n",
       "    </tr>\n",
       "    <tr>\n",
       "      <th>2010-10-20 00:20:00</th>\n",
       "      <td>1.835252</td>\n",
       "      <td>1261.69</td>\n",
       "    </tr>\n",
       "    <tr>\n",
       "      <th>...</th>\n",
       "      <td>...</td>\n",
       "      <td>...</td>\n",
       "    </tr>\n",
       "    <tr>\n",
       "      <th>2019-06-30 23:40:00</th>\n",
       "      <td>5.998145</td>\n",
       "      <td>546.95</td>\n",
       "    </tr>\n",
       "    <tr>\n",
       "      <th>2019-06-30 23:45:00</th>\n",
       "      <td>5.961220</td>\n",
       "      <td>560.19</td>\n",
       "    </tr>\n",
       "    <tr>\n",
       "      <th>2019-06-30 23:50:00</th>\n",
       "      <td>5.066510</td>\n",
       "      <td>559.87</td>\n",
       "    </tr>\n",
       "    <tr>\n",
       "      <th>2019-06-30 23:55:00</th>\n",
       "      <td>5.002401</td>\n",
       "      <td>547.07</td>\n",
       "    </tr>\n",
       "    <tr>\n",
       "      <th>2019-07-01 00:00:00</th>\n",
       "      <td>5.063096</td>\n",
       "      <td>570.31</td>\n",
       "    </tr>\n",
       "  </tbody>\n",
       "</table>\n",
       "<p>914690 rows × 2 columns</p>\n",
       "</div>"
      ],
      "text/plain": [
       "                      RRP5MIN  RESIDUAL_DEMAND\n",
       "SETTLEMENTDATE                                \n",
       "2010-10-20 00:00:00  1.963450          1296.50\n",
       "2010-10-20 00:05:00  1.955553          1275.46\n",
       "2010-10-20 00:10:00  1.946951          1268.40\n",
       "2010-10-20 00:15:00  1.953207          1267.73\n",
       "2010-10-20 00:20:00  1.835252          1261.69\n",
       "...                       ...              ...\n",
       "2019-06-30 23:40:00  5.998145           546.95\n",
       "2019-06-30 23:45:00  5.961220           560.19\n",
       "2019-06-30 23:50:00  5.066510           559.87\n",
       "2019-06-30 23:55:00  5.002401           547.07\n",
       "2019-07-01 00:00:00  5.063096           570.31\n",
       "\n",
       "[914690 rows x 2 columns]"
      ]
     },
     "execution_count": 7,
     "metadata": {},
     "output_type": "execute_result"
    }
   ],
   "source": [
    "data"
   ]
  },
  {
   "cell_type": "code",
   "execution_count": 8,
   "metadata": {},
   "outputs": [],
   "source": [
    "# Scaling the RRP between 0 and 1 as required by the NN\n",
    "scaler = MinMaxScaler()\n",
    "data[\"RRP5MIN\"] = scaler.fit_transform(data[\"RRP5MIN\"].values.reshape(-1,1))\n",
    "data[\"RESIDUAL_DEMAND\"] = scaler.fit_transform(data[\"RESIDUAL_DEMAND\"].values.reshape(-1,1))"
   ]
  },
  {
   "cell_type": "code",
   "execution_count": 9,
   "metadata": {},
   "outputs": [],
   "source": [
    "train = data.loc[\"2017\":].copy()"
   ]
  },
  {
   "cell_type": "code",
   "execution_count": 10,
   "metadata": {},
   "outputs": [],
   "source": [
    "# include time lags of timeseries data for 3 days = 864\n",
    "# We will use 3 days data to identify patterns to predict the next day\n",
    "\n",
    "lags = 500\n",
    "for i in range(1,lags+1):\n",
    "    train[\"l_{}\".format(i)] = train[\"RRP5MIN\"].shift(i)\n",
    "    \n",
    "    \n",
    "lags = 500\n",
    "for i in range(1,lags+1):\n",
    "    train[\"dl_{}\".format(i)] = train[\"RESIDUAL_DEMAND\"].shift(i)"
   ]
  },
  {
   "cell_type": "code",
   "execution_count": 11,
   "metadata": {},
   "outputs": [
    {
     "data": {
      "text/html": [
       "<div>\n",
       "<style scoped>\n",
       "    .dataframe tbody tr th:only-of-type {\n",
       "        vertical-align: middle;\n",
       "    }\n",
       "\n",
       "    .dataframe tbody tr th {\n",
       "        vertical-align: top;\n",
       "    }\n",
       "\n",
       "    .dataframe thead th {\n",
       "        text-align: right;\n",
       "    }\n",
       "</style>\n",
       "<table border=\"1\" class=\"dataframe\">\n",
       "  <thead>\n",
       "    <tr style=\"text-align: right;\">\n",
       "      <th></th>\n",
       "      <th>RRP5MIN</th>\n",
       "      <th>RESIDUAL_DEMAND</th>\n",
       "      <th>l_1</th>\n",
       "      <th>l_2</th>\n",
       "      <th>l_3</th>\n",
       "      <th>l_4</th>\n",
       "      <th>l_5</th>\n",
       "      <th>l_6</th>\n",
       "      <th>l_7</th>\n",
       "      <th>l_8</th>\n",
       "      <th>...</th>\n",
       "      <th>dl_491</th>\n",
       "      <th>dl_492</th>\n",
       "      <th>dl_493</th>\n",
       "      <th>dl_494</th>\n",
       "      <th>dl_495</th>\n",
       "      <th>dl_496</th>\n",
       "      <th>dl_497</th>\n",
       "      <th>dl_498</th>\n",
       "      <th>dl_499</th>\n",
       "      <th>dl_500</th>\n",
       "    </tr>\n",
       "    <tr>\n",
       "      <th>SETTLEMENTDATE</th>\n",
       "      <th></th>\n",
       "      <th></th>\n",
       "      <th></th>\n",
       "      <th></th>\n",
       "      <th></th>\n",
       "      <th></th>\n",
       "      <th></th>\n",
       "      <th></th>\n",
       "      <th></th>\n",
       "      <th></th>\n",
       "      <th></th>\n",
       "      <th></th>\n",
       "      <th></th>\n",
       "      <th></th>\n",
       "      <th></th>\n",
       "      <th></th>\n",
       "      <th></th>\n",
       "      <th></th>\n",
       "      <th></th>\n",
       "      <th></th>\n",
       "      <th></th>\n",
       "    </tr>\n",
       "  </thead>\n",
       "  <tbody>\n",
       "    <tr>\n",
       "      <th>2019-06-30 23:40:00</th>\n",
       "      <td>0.532301</td>\n",
       "      <td>0.345898</td>\n",
       "      <td>0.535514</td>\n",
       "      <td>0.504410</td>\n",
       "      <td>0.500036</td>\n",
       "      <td>0.497298</td>\n",
       "      <td>0.517292</td>\n",
       "      <td>0.504057</td>\n",
       "      <td>0.498771</td>\n",
       "      <td>0.472195</td>\n",
       "      <td>...</td>\n",
       "      <td>0.297797</td>\n",
       "      <td>0.293034</td>\n",
       "      <td>0.289172</td>\n",
       "      <td>0.287698</td>\n",
       "      <td>0.301942</td>\n",
       "      <td>0.296936</td>\n",
       "      <td>0.293989</td>\n",
       "      <td>0.294389</td>\n",
       "      <td>0.302670</td>\n",
       "      <td>0.299656</td>\n",
       "    </tr>\n",
       "    <tr>\n",
       "      <th>2019-06-30 23:45:00</th>\n",
       "      <td>0.531433</td>\n",
       "      <td>0.348997</td>\n",
       "      <td>0.532301</td>\n",
       "      <td>0.535514</td>\n",
       "      <td>0.504410</td>\n",
       "      <td>0.500036</td>\n",
       "      <td>0.497298</td>\n",
       "      <td>0.517292</td>\n",
       "      <td>0.504057</td>\n",
       "      <td>0.498771</td>\n",
       "      <td>...</td>\n",
       "      <td>0.304011</td>\n",
       "      <td>0.297797</td>\n",
       "      <td>0.293034</td>\n",
       "      <td>0.289172</td>\n",
       "      <td>0.287698</td>\n",
       "      <td>0.301942</td>\n",
       "      <td>0.296936</td>\n",
       "      <td>0.293989</td>\n",
       "      <td>0.294389</td>\n",
       "      <td>0.302670</td>\n",
       "    </tr>\n",
       "    <tr>\n",
       "      <th>2019-06-30 23:50:00</th>\n",
       "      <td>0.510394</td>\n",
       "      <td>0.348922</td>\n",
       "      <td>0.531433</td>\n",
       "      <td>0.532301</td>\n",
       "      <td>0.535514</td>\n",
       "      <td>0.504410</td>\n",
       "      <td>0.500036</td>\n",
       "      <td>0.497298</td>\n",
       "      <td>0.517292</td>\n",
       "      <td>0.504057</td>\n",
       "      <td>...</td>\n",
       "      <td>0.306528</td>\n",
       "      <td>0.304011</td>\n",
       "      <td>0.297797</td>\n",
       "      <td>0.293034</td>\n",
       "      <td>0.289172</td>\n",
       "      <td>0.287698</td>\n",
       "      <td>0.301942</td>\n",
       "      <td>0.296936</td>\n",
       "      <td>0.293989</td>\n",
       "      <td>0.294389</td>\n",
       "    </tr>\n",
       "    <tr>\n",
       "      <th>2019-06-30 23:55:00</th>\n",
       "      <td>0.508886</td>\n",
       "      <td>0.345926</td>\n",
       "      <td>0.510394</td>\n",
       "      <td>0.531433</td>\n",
       "      <td>0.532301</td>\n",
       "      <td>0.535514</td>\n",
       "      <td>0.504410</td>\n",
       "      <td>0.500036</td>\n",
       "      <td>0.497298</td>\n",
       "      <td>0.517292</td>\n",
       "      <td>...</td>\n",
       "      <td>0.242003</td>\n",
       "      <td>0.306528</td>\n",
       "      <td>0.304011</td>\n",
       "      <td>0.297797</td>\n",
       "      <td>0.293034</td>\n",
       "      <td>0.289172</td>\n",
       "      <td>0.287698</td>\n",
       "      <td>0.301942</td>\n",
       "      <td>0.296936</td>\n",
       "      <td>0.293989</td>\n",
       "    </tr>\n",
       "    <tr>\n",
       "      <th>2019-07-01 00:00:00</th>\n",
       "      <td>0.510313</td>\n",
       "      <td>0.351366</td>\n",
       "      <td>0.508886</td>\n",
       "      <td>0.510394</td>\n",
       "      <td>0.531433</td>\n",
       "      <td>0.532301</td>\n",
       "      <td>0.535514</td>\n",
       "      <td>0.504410</td>\n",
       "      <td>0.500036</td>\n",
       "      <td>0.497298</td>\n",
       "      <td>...</td>\n",
       "      <td>0.243014</td>\n",
       "      <td>0.242003</td>\n",
       "      <td>0.306528</td>\n",
       "      <td>0.304011</td>\n",
       "      <td>0.297797</td>\n",
       "      <td>0.293034</td>\n",
       "      <td>0.289172</td>\n",
       "      <td>0.287698</td>\n",
       "      <td>0.301942</td>\n",
       "      <td>0.296936</td>\n",
       "    </tr>\n",
       "  </tbody>\n",
       "</table>\n",
       "<p>5 rows × 1002 columns</p>\n",
       "</div>"
      ],
      "text/plain": [
       "                      RRP5MIN  RESIDUAL_DEMAND       l_1       l_2       l_3  \\\n",
       "SETTLEMENTDATE                                                                 \n",
       "2019-06-30 23:40:00  0.532301         0.345898  0.535514  0.504410  0.500036   \n",
       "2019-06-30 23:45:00  0.531433         0.348997  0.532301  0.535514  0.504410   \n",
       "2019-06-30 23:50:00  0.510394         0.348922  0.531433  0.532301  0.535514   \n",
       "2019-06-30 23:55:00  0.508886         0.345926  0.510394  0.531433  0.532301   \n",
       "2019-07-01 00:00:00  0.510313         0.351366  0.508886  0.510394  0.531433   \n",
       "\n",
       "                          l_4       l_5       l_6       l_7       l_8  ...  \\\n",
       "SETTLEMENTDATE                                                         ...   \n",
       "2019-06-30 23:40:00  0.497298  0.517292  0.504057  0.498771  0.472195  ...   \n",
       "2019-06-30 23:45:00  0.500036  0.497298  0.517292  0.504057  0.498771  ...   \n",
       "2019-06-30 23:50:00  0.504410  0.500036  0.497298  0.517292  0.504057  ...   \n",
       "2019-06-30 23:55:00  0.535514  0.504410  0.500036  0.497298  0.517292  ...   \n",
       "2019-07-01 00:00:00  0.532301  0.535514  0.504410  0.500036  0.497298  ...   \n",
       "\n",
       "                       dl_491    dl_492    dl_493    dl_494    dl_495  \\\n",
       "SETTLEMENTDATE                                                          \n",
       "2019-06-30 23:40:00  0.297797  0.293034  0.289172  0.287698  0.301942   \n",
       "2019-06-30 23:45:00  0.304011  0.297797  0.293034  0.289172  0.287698   \n",
       "2019-06-30 23:50:00  0.306528  0.304011  0.297797  0.293034  0.289172   \n",
       "2019-06-30 23:55:00  0.242003  0.306528  0.304011  0.297797  0.293034   \n",
       "2019-07-01 00:00:00  0.243014  0.242003  0.306528  0.304011  0.297797   \n",
       "\n",
       "                       dl_496    dl_497    dl_498    dl_499    dl_500  \n",
       "SETTLEMENTDATE                                                         \n",
       "2019-06-30 23:40:00  0.296936  0.293989  0.294389  0.302670  0.299656  \n",
       "2019-06-30 23:45:00  0.301942  0.296936  0.293989  0.294389  0.302670  \n",
       "2019-06-30 23:50:00  0.287698  0.301942  0.296936  0.293989  0.294389  \n",
       "2019-06-30 23:55:00  0.289172  0.287698  0.301942  0.296936  0.293989  \n",
       "2019-07-01 00:00:00  0.293034  0.289172  0.287698  0.301942  0.296936  \n",
       "\n",
       "[5 rows x 1002 columns]"
      ]
     },
     "execution_count": 11,
     "metadata": {},
     "output_type": "execute_result"
    }
   ],
   "source": [
    "# Drop NANS\n",
    "train.dropna(inplace=True)\n",
    "train.tail(5)"
   ]
  },
  {
   "cell_type": "code",
   "execution_count": 12,
   "metadata": {},
   "outputs": [],
   "source": [
    "# create feature and label dataframes\n",
    "prelim_features = train.drop(['RRP5MIN', 'RESIDUAL_DEMAND'], axis=1)\n",
    "prelim_labels = pd.DataFrame(train[['RRP5MIN']])\n"
   ]
  },
  {
   "cell_type": "code",
   "execution_count": 13,
   "metadata": {},
   "outputs": [
    {
     "data": {
      "text/plain": [
       "((728, 500, 2), (728, 288))"
      ]
     },
     "execution_count": 13,
     "metadata": {},
     "output_type": "execute_result"
    }
   ],
   "source": [
    "# format labels to 24 hour output range\n",
    "for i in range(0, 288):\n",
    "    prelim_labels['t_{}'.format(i)] = prelim_labels['RRP5MIN'].shift(-i)\n",
    "prelim_labels.drop(['RRP5MIN'], axis=1, inplace=True)\n",
    "\n",
    "# apply one-day discretization to the data\n",
    "labels = prelim_labels[prelim_labels.index.minute == 0]\n",
    "labels = labels[labels.index.hour == 0]\n",
    "features = prelim_features[prelim_features.index.minute == 0]\n",
    "features = features[features.index.hour == 0]\n",
    "\n",
    "features_train = features[:'2018']\n",
    "features_test = features['2019':'2019-06-30']\n",
    "labels_train = labels[:'2018']\n",
    "\n",
    "samples_train = len(features_train)\n",
    "samples_test = len(features_test)\n",
    "timesteps = 500\n",
    "\n",
    "# convert pandas data frames to numpy ndarrays\n",
    "features_train = features_train.to_numpy().reshape(samples_train, timesteps, 2)\n",
    "features_test = features_test.to_numpy().reshape(samples_test, timesteps, 2)\n",
    "labels_train = labels_train.to_numpy()\n",
    "\n",
    "# check for correct data shape\n",
    "features_train.shape, labels_train.shape"
   ]
  },
  {
   "cell_type": "code",
   "execution_count": 14,
   "metadata": {},
   "outputs": [],
   "source": [
    "from keras.models import Model, load_model\n",
    "from keras.layers.convolutional import Conv1D\n",
    "from keras.callbacks import ModelCheckpoint\n",
    "from keras.regularizers import l1_l2\n",
    "\n",
    "from sklearn.model_selection import train_test_split\n",
    "from sklearn.metrics import mean_absolute_error\n",
    "import json\n",
    "\n",
    "from keras.models import Sequential\n",
    "from keras.layers import Dense\n",
    "from keras.layers import LSTM\n",
    "from keras.layers import Dropout"
   ]
  },
  {
   "cell_type": "code",
   "execution_count": 58,
   "metadata": {},
   "outputs": [],
   "source": [
    "# split into training and validation data\n",
    "X_train, X_valid, y_train, y_valid = train_test_split(features_train, labels_train, test_size=0.2, random_state=7)"
   ]
  },
  {
   "cell_type": "code",
   "execution_count": 74,
   "metadata": {},
   "outputs": [],
   "source": [
    "###################### DESIGNING THE NN ###################\n",
    "##########################################################\n",
    "## 1D Convolution layer to avoid overfitting\n",
    "## 3 layers of LSTM considering the complexity of the dataset\n",
    "\n",
    "# Initialising\n",
    "rnn = Sequential()\n",
    "# Adding Conv1D Layer\n",
    "#rnn.add(Conv1D(64, kernel_size=288, strides=288, padding='valid', input_shape=(X_train.shape[1],1)))\n",
    "# Add LSTM layer 1st\n",
    "rnn.add(LSTM(128, recurrent_activation='relu', return_sequences=True))\n",
    "rnn.add(Dropout(0.1))\n",
    "# Add LSTM layer 2nd\n",
    "rnn.add(LSTM(64, recurrent_activation='relu'))\n",
    "rnn.add(Dropout(0.1))\n",
    "rnn.add(Dense(units=288))\n",
    "rnn.compile(optimizer='adam', loss='mse')"
   ]
  },
  {
   "cell_type": "code",
   "execution_count": null,
   "metadata": {},
   "outputs": [
    {
     "name": "stdout",
     "output_type": "stream",
     "text": [
      "Epoch 1/200\n",
      "17/19 [=========================>....] - ETA: 3s - loss: nan"
     ]
    }
   ],
   "source": [
    "# train the model and calculate the performance on the test set\n",
    "results, hist = cm.train_predict_evaluate(rnn, X_train, X_valid, y_train, y_valid, features_test,\n",
    "                                       X_test.to_numpy().flatten(), X_test.index, scaler, 32, 200, \n",
    "                                       'simple_neural_network.hdf5', verbose=1)"
   ]
  },
  {
   "cell_type": "code",
   "execution_count": null,
   "metadata": {},
   "outputs": [],
   "source": [
    "f, ax = plt.subplots(figsize=(12, 6))\n",
    "results.loc['2019-01-01':'2019-01-04'].plot(ax=ax);\n",
    "ax.set_ylabel('Day-Ahead price in $/MWh', fontsize=14)\n",
    "ax.set_xlabel('Date', fontsize=14)\n",
    "ax.set_title('Short Term predictive Performance', fontsize=14);"
   ]
  },
  {
   "cell_type": "code",
   "execution_count": null,
   "metadata": {},
   "outputs": [],
   "source": [
    "results"
   ]
  },
  {
   "cell_type": "code",
   "execution_count": null,
   "metadata": {},
   "outputs": [],
   "source": [
    "cm.quantify_performance(results)"
   ]
  },
  {
   "cell_type": "code",
   "execution_count": 18,
   "metadata": {},
   "outputs": [],
   "source": [
    "###################### DESIGNING THE NN ###################\n",
    "##########################################################\n",
    "## 1D Convolution layer to avoid overfitting\n",
    "## 3 layers of LSTM considering the complexity of the dataset\n",
    "\n",
    "# Initialising\n",
    "rnn = Sequential()\n",
    "# Adding Conv1D Layer\n",
    "rnn.add(Conv1D(64, kernel_size=288, strides=288, padding='valid', input_shape=(X_train.shape[1],2)))\n",
    "# Add LSTM layer 1st\n",
    "rnn.add(LSTM(128, activation='tanh', return_sequences=True))\n",
    "rnn.add(Dropout(0.1))\n",
    "# Add LSTM layer 2nd\n",
    "rnn.add(LSTM(64, activation='relu'))\n",
    "rnn.add(Dropout(0.1))\n",
    "rnn.add(Dense(units=288, activation='linear'))\n",
    "rnn.compile(optimizer='adam', loss='mse')\n"
   ]
  },
  {
   "cell_type": "code",
   "execution_count": 61,
   "metadata": {},
   "outputs": [
    {
     "name": "stdout",
     "output_type": "stream",
     "text": [
      "Epoch 1/50\n",
      "19/19 [==============================] - 0s 9ms/step - loss: 0.0072\n",
      "Epoch 2/50\n",
      "19/19 [==============================] - 0s 8ms/step - loss: 0.0075\n",
      "Epoch 3/50\n",
      "19/19 [==============================] - 0s 12ms/step - loss: 0.0078\n",
      "Epoch 4/50\n",
      "19/19 [==============================] - 0s 10ms/step - loss: 0.0071\n",
      "Epoch 5/50\n",
      "19/19 [==============================] - 0s 9ms/step - loss: 0.0071\n",
      "Epoch 6/50\n",
      "19/19 [==============================] - 0s 8ms/step - loss: 0.0073\n",
      "Epoch 7/50\n",
      "19/19 [==============================] - 0s 9ms/step - loss: 0.0072\n",
      "Epoch 8/50\n",
      "19/19 [==============================] - 0s 10ms/step - loss: 0.0071\n",
      "Epoch 9/50\n",
      "19/19 [==============================] - 0s 9ms/step - loss: 0.0071\n",
      "Epoch 10/50\n",
      "19/19 [==============================] - 0s 8ms/step - loss: 0.0068\n",
      "Epoch 11/50\n",
      "19/19 [==============================] - 0s 7ms/step - loss: 0.0070\n",
      "Epoch 12/50\n",
      "19/19 [==============================] - 0s 8ms/step - loss: 0.0071\n",
      "Epoch 13/50\n",
      "19/19 [==============================] - 0s 8ms/step - loss: 0.0072\n",
      "Epoch 14/50\n",
      "19/19 [==============================] - 0s 13ms/step - loss: 0.0069\n",
      "Epoch 15/50\n",
      "19/19 [==============================] - 0s 10ms/step - loss: 0.0068\n",
      "Epoch 16/50\n",
      "19/19 [==============================] - 0s 10ms/step - loss: 0.0070\n",
      "Epoch 17/50\n",
      "19/19 [==============================] - 0s 8ms/step - loss: 0.0068\n",
      "Epoch 18/50\n",
      "19/19 [==============================] - 0s 9ms/step - loss: 0.0068\n",
      "Epoch 19/50\n",
      "19/19 [==============================] - 0s 11ms/step - loss: 0.0070\n",
      "Epoch 20/50\n",
      "19/19 [==============================] - 0s 8ms/step - loss: 0.0070\n",
      "Epoch 21/50\n",
      "19/19 [==============================] - 0s 8ms/step - loss: 0.0068\n",
      "Epoch 22/50\n",
      "19/19 [==============================] - 0s 7ms/step - loss: 0.0067\n",
      "Epoch 23/50\n",
      "19/19 [==============================] - 0s 8ms/step - loss: 0.0067\n",
      "Epoch 24/50\n",
      "19/19 [==============================] - 0s 12ms/step - loss: 0.0067\n",
      "Epoch 25/50\n",
      "19/19 [==============================] - 0s 9ms/step - loss: 0.0067\n",
      "Epoch 26/50\n",
      "19/19 [==============================] - 0s 11ms/step - loss: 0.0067\n",
      "Epoch 27/50\n",
      "19/19 [==============================] - 0s 10ms/step - loss: 0.0065\n",
      "Epoch 28/50\n",
      "19/19 [==============================] - 0s 7ms/step - loss: 0.0070\n",
      "Epoch 29/50\n",
      "19/19 [==============================] - 0s 13ms/step - loss: 0.0069\n",
      "Epoch 30/50\n",
      "19/19 [==============================] - 0s 11ms/step - loss: 0.0069\n",
      "Epoch 31/50\n",
      "19/19 [==============================] - 0s 8ms/step - loss: 0.0067\n",
      "Epoch 32/50\n",
      "19/19 [==============================] - 0s 9ms/step - loss: 0.0066\n",
      "Epoch 33/50\n",
      "19/19 [==============================] - 0s 10ms/step - loss: 0.0068\n",
      "Epoch 34/50\n",
      "19/19 [==============================] - 0s 11ms/step - loss: 0.0067\n",
      "Epoch 35/50\n",
      "19/19 [==============================] - 0s 8ms/step - loss: 0.0069\n",
      "Epoch 36/50\n",
      "19/19 [==============================] - 0s 8ms/step - loss: 0.0066\n",
      "Epoch 37/50\n",
      "19/19 [==============================] - 0s 7ms/step - loss: 0.0066\n",
      "Epoch 38/50\n",
      "19/19 [==============================] - 0s 8ms/step - loss: 0.0069\n",
      "Epoch 39/50\n",
      "19/19 [==============================] - 0s 8ms/step - loss: 0.0066\n",
      "Epoch 40/50\n",
      "19/19 [==============================] - 0s 11ms/step - loss: 0.0066\n",
      "Epoch 41/50\n",
      "19/19 [==============================] - 0s 9ms/step - loss: 0.0064\n",
      "Epoch 42/50\n",
      "19/19 [==============================] - 0s 9ms/step - loss: 0.0065\n",
      "Epoch 43/50\n",
      "19/19 [==============================] - 0s 10ms/step - loss: 0.0064\n",
      "Epoch 44/50\n",
      "19/19 [==============================] - 0s 11ms/step - loss: 0.0062\n",
      "Epoch 45/50\n",
      "19/19 [==============================] - 0s 9ms/step - loss: 0.0063\n",
      "Epoch 46/50\n",
      "19/19 [==============================] - 0s 9ms/step - loss: 0.0063\n",
      "Epoch 47/50\n",
      "19/19 [==============================] - 0s 7ms/step - loss: 0.0065\n",
      "Epoch 48/50\n",
      "19/19 [==============================] - 0s 8ms/step - loss: 0.0067\n",
      "Epoch 49/50\n",
      "19/19 [==============================] - 0s 7ms/step - loss: 0.0065\n",
      "Epoch 50/50\n",
      "19/19 [==============================] - 0s 10ms/step - loss: 0.0064\n"
     ]
    },
    {
     "data": {
      "text/plain": [
       "<tensorflow.python.keras.callbacks.History at 0x7fbfb61b9df0>"
      ]
     },
     "execution_count": 61,
     "metadata": {},
     "output_type": "execute_result"
    }
   ],
   "source": [
    "rnn.fit(X_train, y_train, epochs=50)"
   ]
  },
  {
   "cell_type": "code",
   "execution_count": 63,
   "metadata": {},
   "outputs": [],
   "source": [
    "pred = rnn.predict(features_test)"
   ]
  },
  {
   "cell_type": "code",
   "execution_count": 64,
   "metadata": {},
   "outputs": [],
   "source": [
    "pred = scaler.inverse_transform(pred.flatten().reshape(-1, 1))"
   ]
  },
  {
   "cell_type": "code",
   "execution_count": 65,
   "metadata": {},
   "outputs": [
    {
     "data": {
      "text/plain": [
       "array([[1370.9553],\n",
       "       [1425.8619],\n",
       "       [1448.3402],\n",
       "       ...,\n",
       "       [1497.0503],\n",
       "       [1450.8162],\n",
       "       [1385.2548]], dtype=float32)"
      ]
     },
     "execution_count": 65,
     "metadata": {},
     "output_type": "execute_result"
    }
   ],
   "source": [
    "pred"
   ]
  },
  {
   "cell_type": "code",
   "execution_count": null,
   "metadata": {},
   "outputs": [],
   "source": []
  },
  {
   "cell_type": "code",
   "execution_count": null,
   "metadata": {},
   "outputs": [],
   "source": [
    "############################################################################################################"
   ]
  },
  {
   "cell_type": "code",
   "execution_count": 72,
   "metadata": {},
   "outputs": [
    {
     "data": {
      "text/html": [
       "<div>\n",
       "<style scoped>\n",
       "    .dataframe tbody tr th:only-of-type {\n",
       "        vertical-align: middle;\n",
       "    }\n",
       "\n",
       "    .dataframe tbody tr th {\n",
       "        vertical-align: top;\n",
       "    }\n",
       "\n",
       "    .dataframe thead th {\n",
       "        text-align: right;\n",
       "    }\n",
       "</style>\n",
       "<table border=\"1\" class=\"dataframe\">\n",
       "  <thead>\n",
       "    <tr style=\"text-align: right;\">\n",
       "      <th></th>\n",
       "      <th>RRP5MIN</th>\n",
       "      <th>RESIDUAL_DEMAND</th>\n",
       "    </tr>\n",
       "  </thead>\n",
       "  <tbody>\n",
       "    <tr>\n",
       "      <th>count</th>\n",
       "      <td>914690.000000</td>\n",
       "      <td>914690.000000</td>\n",
       "    </tr>\n",
       "    <tr>\n",
       "      <th>mean</th>\n",
       "      <td>5.785942</td>\n",
       "      <td>1012.073922</td>\n",
       "    </tr>\n",
       "    <tr>\n",
       "      <th>std</th>\n",
       "      <td>27.676485</td>\n",
       "      <td>471.128683</td>\n",
       "    </tr>\n",
       "    <tr>\n",
       "      <th>min</th>\n",
       "      <td>-83.333333</td>\n",
       "      <td>-930.890000</td>\n",
       "    </tr>\n",
       "    <tr>\n",
       "      <th>25%</th>\n",
       "      <td>2.691540</td>\n",
       "      <td>703.860000</td>\n",
       "    </tr>\n",
       "    <tr>\n",
       "      <th>50%</th>\n",
       "      <td>4.130115</td>\n",
       "      <td>1024.135000</td>\n",
       "    </tr>\n",
       "    <tr>\n",
       "      <th>75%</th>\n",
       "      <td>6.557500</td>\n",
       "      <td>1316.990000</td>\n",
       "    </tr>\n",
       "    <tr>\n",
       "      <th>max</th>\n",
       "      <td>1208.333333</td>\n",
       "      <td>3341.580000</td>\n",
       "    </tr>\n",
       "  </tbody>\n",
       "</table>\n",
       "</div>"
      ],
      "text/plain": [
       "             RRP5MIN  RESIDUAL_DEMAND\n",
       "count  914690.000000    914690.000000\n",
       "mean        5.785942      1012.073922\n",
       "std        27.676485       471.128683\n",
       "min       -83.333333      -930.890000\n",
       "25%         2.691540       703.860000\n",
       "50%         4.130115      1024.135000\n",
       "75%         6.557500      1316.990000\n",
       "max      1208.333333      3341.580000"
      ]
     },
     "execution_count": 72,
     "metadata": {},
     "output_type": "execute_result"
    }
   ],
   "source": [
    "data.describe()"
   ]
  },
  {
   "cell_type": "code",
   "execution_count": 79,
   "metadata": {},
   "outputs": [],
   "source": [
    "X = data[[\"RRP5MIN\", \"RESIDUAL_DEMAND\"]].values"
   ]
  },
  {
   "cell_type": "code",
   "execution_count": 82,
   "metadata": {},
   "outputs": [],
   "source": [
    "scaler = MinMaxScaler()\n",
    "X_scaled = scaler.fit_transform(X)"
   ]
  },
  {
   "cell_type": "code",
   "execution_count": 84,
   "metadata": {},
   "outputs": [],
   "source": [
    "y = [x[0] for x in X_scaled]"
   ]
  },
  {
   "cell_type": "code",
   "execution_count": 85,
   "metadata": {},
   "outputs": [
    {
     "data": {
      "text/plain": [
       "[0.06603621935483871,\n",
       " 0.0660301058064516,\n",
       " 0.06602344580645161,\n",
       " 0.06602828903225806,\n",
       " 0.06593696903225807]"
      ]
     },
     "execution_count": 85,
     "metadata": {},
     "output_type": "execute_result"
    }
   ],
   "source": [
    "y[:5]"
   ]
  },
  {
   "cell_type": "code",
   "execution_count": 89,
   "metadata": {},
   "outputs": [
    {
     "name": "stdout",
     "output_type": "stream",
     "text": [
      "731752\n"
     ]
    }
   ],
   "source": [
    "split = int(len(X_scaled)*0.8)\n",
    "print(split)"
   ]
  },
  {
   "cell_type": "code",
   "execution_count": 90,
   "metadata": {},
   "outputs": [],
   "source": [
    "X_train = X_scaled[:split]\n",
    "X_test = X_scaled[split:len(X_scaled)]\n",
    "y_train = y[:split]\n",
    "y_test = y[split:len(y)]"
   ]
  },
  {
   "cell_type": "code",
   "execution_count": 91,
   "metadata": {},
   "outputs": [],
   "source": [
    "assert len(X_train) == len(y_train)\n",
    "assert len(X_test) == len(y_test)"
   ]
  },
  {
   "cell_type": "code",
   "execution_count": 122,
   "metadata": {},
   "outputs": [],
   "source": [
    "n = 500\n",
    "Xtrain = []\n",
    "ytrain = []\n",
    "Xtest = []\n",
    "ytest = []\n",
    "\n",
    "for i in range(n, len(X_train)):\n",
    "    Xtrain.append(X_train[i - n : i, : X_train.shape[1]])\n",
    "    ytrain.append(y_train[i : i+278])\n",
    "for i in range(n, len(X_test)):\n",
    "    Xtest.append(X_test[i - n : i, : X_test.shape[1]])\n",
    "    ytest.append(y_test[i : i+278])"
   ]
  },
  {
   "cell_type": "code",
   "execution_count": 126,
   "metadata": {},
   "outputs": [],
   "source": [
    "val = np.array(ytrain[0])\n",
    "val = np.c_[val, np.zeros(val.shape)]"
   ]
  },
  {
   "cell_type": "code",
   "execution_count": 131,
   "metadata": {},
   "outputs": [],
   "source": [
    "Xtrain, ytrain = (np.array(Xtrain), np.array(ytrain))\n",
    "Xtrain = np.reshape(Xtrain, (Xtrain.shape[0], Xtrain.shape[1], Xtrain.shape[2]))\n",
    "\n",
    "Xtest, ytest = (np.array(Xtest), np.array(ytest))\n",
    "Xtest = np.reshape(Xtest, (Xtest.shape[0], Xtest.shape[1], Xtest.shape[2]))"
   ]
  },
  {
   "cell_type": "code",
   "execution_count": 132,
   "metadata": {},
   "outputs": [
    {
     "name": "stdout",
     "output_type": "stream",
     "text": [
      "(731252, 500, 2)\n",
      "(731252,)\n",
      "(182438, 500, 2)\n",
      "(182438,)\n"
     ]
    }
   ],
   "source": [
    "print(Xtrain.shape)\n",
    "print(ytrain.shape)\n",
    "print(Xtest.shape)\n",
    "print(ytest.shape)"
   ]
  },
  {
   "cell_type": "code",
   "execution_count": 137,
   "metadata": {},
   "outputs": [],
   "source": [
    "###################### DESIGNING THE NN ###################\n",
    "##########################################################\n",
    "## 1D Convolution layer to avoid overfitting\n",
    "## 3 layers of LSTM considering the complexity of the dataset\n",
    "\n",
    "# Initialising\n",
    "rnn = Sequential()\n",
    "# Adding Conv1D Layer\n",
    "rnn.add(Conv1D(64, kernel_size=288, strides=288, padding='valid', input_shape=(Xtrain.shape[1],2)))\n",
    "# Add LSTM layer 1st\n",
    "rnn.add(LSTM(128, recurrent_activation='relu', return_sequences=True))\n",
    "rnn.add(Dropout(0.1))\n",
    "# Add LSTM layer 2nd\n",
    "rnn.add(LSTM(64, recurrent_activation='relu'))\n",
    "rnn.add(Dropout(0.1))\n",
    "rnn.add(Dense(units=288))\n",
    "rnn.compile(optimizer='adam', loss='mse')"
   ]
  },
  {
   "cell_type": "code",
   "execution_count": null,
   "metadata": {},
   "outputs": [],
   "source": [
    "rnn.fit(Xtrain, ytrain, validation_data=(Xtest,ytest), batch_size=16, epochs=50)"
   ]
  },
  {
   "cell_type": "code",
   "execution_count": null,
   "metadata": {},
   "outputs": [],
   "source": []
  },
  {
   "cell_type": "code",
   "execution_count": null,
   "metadata": {},
   "outputs": [],
   "source": []
  },
  {
   "cell_type": "code",
   "execution_count": null,
   "metadata": {},
   "outputs": [],
   "source": []
  }
 ],
 "metadata": {
  "kernelspec": {
   "display_name": "Python 3",
   "language": "python",
   "name": "python3"
  },
  "language_info": {
   "codemirror_mode": {
    "name": "ipython",
    "version": 3
   },
   "file_extension": ".py",
   "mimetype": "text/x-python",
   "name": "python",
   "nbconvert_exporter": "python",
   "pygments_lexer": "ipython3",
   "version": "3.8.3"
  }
 },
 "nbformat": 4,
 "nbformat_minor": 4
}

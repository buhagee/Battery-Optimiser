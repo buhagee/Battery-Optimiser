{
 "cells": [
  {
   "cell_type": "code",
   "execution_count": 1,
   "metadata": {},
   "outputs": [],
   "source": [
    "##################################################################\n",
    "############# FORECASTING DAY AHEAD ENERGY PRICE ################\n",
    "################################################################"
   ]
  },
  {
   "cell_type": "code",
   "execution_count": 32,
   "metadata": {},
   "outputs": [],
   "source": [
    "import pandas as pd\n",
    "import numpy as np\n",
    "import datetime as dt\n",
    "import matplotlib.pyplot as plt\n",
    "from sklearn.preprocessing import MinMaxScaler, StandardScaler\n",
    "import seaborn as sns\n",
    "from datetime import datetime as dt\n",
    "import custom_module as cm"
   ]
  },
  {
   "cell_type": "code",
   "execution_count": 33,
   "metadata": {},
   "outputs": [],
   "source": [
    "# Loading the dataset\n",
    "data = pd.read_csv(\"combined_energy.csv\", parse_dates=True)"
   ]
  },
  {
   "cell_type": "code",
   "execution_count": 34,
   "metadata": {},
   "outputs": [],
   "source": [
    "##################################################################\n",
    "##################### DATA PREPROCESSING ########################\n",
    "################################################################"
   ]
  },
  {
   "cell_type": "code",
   "execution_count": 35,
   "metadata": {},
   "outputs": [],
   "source": [
    "# Setting the format of dataset #\n",
    "\n",
    "# Converting date to datetime object\n",
    "data[\"SETTLEMENTDATE\"] = pd.to_datetime(data[\"SETTLEMENTDATE\"])\n",
    "\n",
    "# Seperating data for each region\n",
    "dataSA = data[data[\"REGIONID\"] == \"SA1\"]\n",
    "\n",
    "# Setting Index to Date\n",
    "dataSA = dataSA[[\"SETTLEMENTDATE\",\"RRP5min\"]]\n",
    "dataSA.index = dataSA[\"SETTLEMENTDATE\"]\n",
    "dataSA.drop(columns=\"SETTLEMENTDATE\", inplace=True)"
   ]
  },
  {
   "cell_type": "code",
   "execution_count": 36,
   "metadata": {},
   "outputs": [
    {
     "data": {
      "image/png": "[encoded data removed]",
      "text/plain": [
       "<Figure size 864x360 with 1 Axes>"
      ]
     },
     "metadata": {
      "needs_background": "light"
     },
     "output_type": "display_data"
    }
   ],
   "source": [
    "# plot the price 2010 data set\n",
    "cm.plot_chart(dataSA.loc['2010'], title=None, legend=False)"
   ]
  },
  {
   "cell_type": "code",
   "execution_count": 37,
   "metadata": {},
   "outputs": [],
   "source": [
    "# replace outliers by outlier threshold\n",
    "dataSA = cm.replace_outliers(dataSA, 'RRP5min', 3)"
   ]
  },
  {
   "cell_type": "code",
   "execution_count": 7,
   "metadata": {},
   "outputs": [],
   "source": [
    "# Convert Data into NP-Array\n",
    "training_set = dataSA.loc[:'2009']\n",
    "training_set = np.array(training_set.iloc[:,0:1].values)\n"
   ]
  },
  {
   "cell_type": "code",
   "execution_count": 8,
   "metadata": {},
   "outputs": [],
   "source": [
    "# Scaling the training set between 0 and 1 as required by the NN\n",
    "scaler = MinMaxScaler()\n",
    "training_set_scaled = scaler.fit_transform(training_set)"
   ]
  },
  {
   "cell_type": "code",
   "execution_count": 9,
   "metadata": {},
   "outputs": [],
   "source": [
    "# Creating a data structure with 288 timesteps and 1 output\n",
    "# We will make use of 288 time lags, 5 mins each, to predict the next price\n",
    "X_train = []\n",
    "y_train = []\n",
    "for i in range(288, 158112):\n",
    "    X_train.append(training_set_scaled[i-288:i, 0])\n",
    "    y_train.append(training_set_scaled[i, 0])\n",
    "X_train, y_train = np.array(X_train), np.array(y_train)"
   ]
  },
  {
   "cell_type": "code",
   "execution_count": 31,
   "metadata": {},
   "outputs": [
    {
     "data": {
      "text/plain": [
       "array([[0.50964783],\n",
       "       [0.50964783],\n",
       "       [0.50964783],\n",
       "       [0.50964783],\n",
       "       [0.50964783],\n",
       "       [0.50342196],\n",
       "       [0.49730389],\n",
       "       [0.49727374],\n",
       "       [0.48846706],\n",
       "       [0.46557719],\n",
       "       [0.4807645 ],\n",
       "       [0.49022874],\n",
       "       [0.50457767],\n",
       "       [0.50837696],\n",
       "       [0.49463144],\n",
       "       [0.50096767],\n",
       "       [0.50648513],\n",
       "       [0.46610659],\n",
       "       [0.49403774],\n",
       "       [0.5017442 ],\n",
       "       [0.45492508],\n",
       "       [0.49580877],\n",
       "       [0.45490728],\n",
       "       [0.45357465],\n",
       "       [0.46251148],\n",
       "       [0.46853418],\n",
       "       [0.42783495],\n",
       "       [0.41981797],\n",
       "       [0.39670395],\n",
       "       [0.39541363],\n",
       "       [0.38532527],\n",
       "       [0.38484373],\n",
       "       [0.3624878 ],\n",
       "       [0.3664937 ],\n",
       "       [0.36723617],\n",
       "       [0.36686553],\n",
       "       [0.36625329],\n",
       "       [0.36900049],\n",
       "       [0.37559874],\n",
       "       [0.36434067],\n",
       "       [0.36672303],\n",
       "       [0.36681612],\n",
       "       [0.36530157],\n",
       "       [0.36464574],\n",
       "       [0.36256073],\n",
       "       [0.36036628],\n",
       "       [0.36050224],\n",
       "       [0.36311466],\n",
       "       [0.36406738],\n",
       "       [0.36337877],\n",
       "       [0.36116334],\n",
       "       [0.35980554],\n",
       "       [0.35866191],\n",
       "       [0.35801098],\n",
       "       [0.35476962],\n",
       "       [0.35964896],\n",
       "       [0.36279387],\n",
       "       [0.36161663],\n",
       "       [0.36063348],\n",
       "       [0.36899876],\n",
       "       [0.35929503],\n",
       "       [0.37546686],\n",
       "       [0.36659633],\n",
       "       [0.37476598],\n",
       "       [0.36597256],\n",
       "       [0.37774205],\n",
       "       [0.36850651],\n",
       "       [0.37091294],\n",
       "       [0.37915588],\n",
       "       [0.39146023],\n",
       "       [0.39471603],\n",
       "       [0.40408535],\n",
       "       [0.39810388],\n",
       "       [0.4344777 ],\n",
       "       [0.45981269],\n",
       "       [0.44340272],\n",
       "       [0.46658468],\n",
       "       [0.48912125],\n",
       "       [0.43216954],\n",
       "       [0.46730463],\n",
       "       [0.52219812],\n",
       "       [0.55242172],\n",
       "       [0.55821201],\n",
       "       [0.56088155],\n",
       "       [0.47017743],\n",
       "       [0.47527738],\n",
       "       [0.48348609],\n",
       "       [0.51647041],\n",
       "       [0.56137962],\n",
       "       [0.56405043],\n",
       "       [0.55199195],\n",
       "       [0.56432417],\n",
       "       [0.56432417],\n",
       "       [0.56432417],\n",
       "       [0.61215323],\n",
       "       [0.56652171],\n",
       "       [0.61854386],\n",
       "       [0.61872732],\n",
       "       [0.61872732],\n",
       "       [0.61854386],\n",
       "       [0.61872732],\n",
       "       [0.58247257],\n",
       "       [0.61854386],\n",
       "       [0.61872732],\n",
       "       [0.60968813],\n",
       "       [0.60679226],\n",
       "       [0.59040146],\n",
       "       [0.58856603],\n",
       "       [0.58868273],\n",
       "       [0.61854386],\n",
       "       [0.61854386],\n",
       "       [0.59058101],\n",
       "       [0.58487419],\n",
       "       [0.5793214 ],\n",
       "       [0.56405043],\n",
       "       [0.56432417],\n",
       "       [0.56432417],\n",
       "       [0.56432417],\n",
       "       [0.56432417],\n",
       "       [0.56115829],\n",
       "       [0.56432417],\n",
       "       [0.56432417],\n",
       "       [0.56432417],\n",
       "       [0.56432417],\n",
       "       [0.56432417],\n",
       "       [0.56432417],\n",
       "       [0.56432417],\n",
       "       [0.56432417],\n",
       "       [0.57060572],\n",
       "       [0.56432417],\n",
       "       [0.55700607],\n",
       "       [0.55259346],\n",
       "       [0.51147127],\n",
       "       [0.50955701],\n",
       "       [0.50955701],\n",
       "       [0.50955701],\n",
       "       [0.50955701],\n",
       "       [0.50534912],\n",
       "       [0.49199859],\n",
       "       [0.50894886],\n",
       "       [0.49468149],\n",
       "       [0.49463208],\n",
       "       [0.49956746],\n",
       "       [0.49605245],\n",
       "       [0.50879438],\n",
       "       [0.49746692],\n",
       "       [0.56432417],\n",
       "       [0.50803129],\n",
       "       [0.50809777],\n",
       "       [0.49615672],\n",
       "       [0.49620839],\n",
       "       [0.49484987],\n",
       "       [0.49292217],\n",
       "       [0.49207725],\n",
       "       [0.49073326],\n",
       "       [0.49343204],\n",
       "       [0.50955701],\n",
       "       [0.50955701],\n",
       "       [0.5036304 ],\n",
       "       [0.50697384],\n",
       "       [0.56432417],\n",
       "       [0.50955701],\n",
       "       [0.50955701],\n",
       "       [0.56432417],\n",
       "       [0.50955701],\n",
       "       [0.50955701],\n",
       "       [0.50955701],\n",
       "       [0.50955701],\n",
       "       [0.50954112],\n",
       "       [0.49215581],\n",
       "       [0.5076472 ],\n",
       "       [0.49349871],\n",
       "       [0.49345947],\n",
       "       [0.49481191],\n",
       "       [0.49480537],\n",
       "       [0.49344803],\n",
       "       [0.49342596],\n",
       "       [0.49481609],\n",
       "       [0.49343758],\n",
       "       [0.49351615],\n",
       "       [0.49212883],\n",
       "       [0.49082826],\n",
       "       [0.49079093],\n",
       "       [0.49075878],\n",
       "       [0.49217788],\n",
       "       [0.4908071 ],\n",
       "       [0.49081954],\n",
       "       [0.49077167],\n",
       "       [0.49083798],\n",
       "       [0.49292217],\n",
       "       [0.49073335],\n",
       "       [0.4907892 ],\n",
       "       [0.48944612],\n",
       "       [0.49292217],\n",
       "       [0.49354603],\n",
       "       [0.49352614],\n",
       "       [0.49349408],\n",
       "       [0.50955701],\n",
       "       [0.50955701],\n",
       "       [0.50955701],\n",
       "       [0.50955701],\n",
       "       [0.50955701],\n",
       "       [0.5119055 ],\n",
       "       [0.56069055],\n",
       "       [0.56432417],\n",
       "       [0.57530378],\n",
       "       [0.59715183],\n",
       "       [0.61872732],\n",
       "       [0.61872732],\n",
       "       [0.63752246],\n",
       "       [0.63532683],\n",
       "       [0.63745035],\n",
       "       [0.64179448],\n",
       "       [0.64618301],\n",
       "       [0.65174407],\n",
       "       [0.65111921],\n",
       "       [0.65079997],\n",
       "       [0.6552895 ],\n",
       "       [0.66446065],\n",
       "       [0.66218528],\n",
       "       [0.66171246],\n",
       "       [0.66230516],\n",
       "       [0.66171246],\n",
       "       [0.66232151],\n",
       "       [0.66243322],\n",
       "       [0.65242015],\n",
       "       [0.63776423],\n",
       "       [0.62048219],\n",
       "       [0.64027529],\n",
       "       [0.62449881],\n",
       "       [0.60122403],\n",
       "       [0.61114156],\n",
       "       [0.58115501],\n",
       "       [0.56948942],\n",
       "       [0.58426904],\n",
       "       [0.5777162 ],\n",
       "       [0.56432417],\n",
       "       [0.56617377],\n",
       "       [0.56717418],\n",
       "       [0.55488083],\n",
       "       [0.56432381],\n",
       "       [0.56432381],\n",
       "       [0.57239992],\n",
       "       [0.55920007],\n",
       "       [0.56432381],\n",
       "       [0.52136156],\n",
       "       [0.51781376],\n",
       "       [0.51777762],\n",
       "       [0.51534394],\n",
       "       [0.50955701],\n",
       "       [0.51030584],\n",
       "       [0.50955701],\n",
       "       [0.52647531],\n",
       "       [0.51282662],\n",
       "       [0.52012347],\n",
       "       [0.50955701],\n",
       "       [0.50955701],\n",
       "       [0.50162676],\n",
       "       [0.50955701],\n",
       "       [0.50955701],\n",
       "       [0.50955701],\n",
       "       [0.50955701],\n",
       "       [0.50624036],\n",
       "       [0.46507657],\n",
       "       [0.56432417],\n",
       "       [0.50955701],\n",
       "       [0.5094463 ],\n",
       "       [0.49356846],\n",
       "       [0.47938509],\n",
       "       [0.48038668],\n",
       "       [0.50955701],\n",
       "       [0.50575346],\n",
       "       [0.44703207],\n",
       "       [0.43946085],\n",
       "       [0.44449386],\n",
       "       [0.43652919],\n",
       "       [0.56432417],\n",
       "       [0.50955701],\n",
       "       [0.47816898],\n",
       "       [0.44139982],\n",
       "       [0.44298467],\n",
       "       [0.44805473],\n",
       "       [0.56432372],\n",
       "       [0.509474  ],\n",
       "       [0.48550516],\n",
       "       [0.44910873],\n",
       "       [0.43469413],\n",
       "       [0.44648705]])"
      ]
     },
     "execution_count": 31,
     "metadata": {},
     "output_type": "execute_result"
    }
   ],
   "source": [
    "training_set_scaled[1:289]"
   ]
  },
  {
   "cell_type": "code",
   "execution_count": 30,
   "metadata": {},
   "outputs": [
    {
     "data": {
      "text/plain": [
       "array([[0.42168764],\n",
       "       [0.42982787],\n",
       "       [0.42841767],\n",
       "       ...,\n",
       "       [0.41435473],\n",
       "       [0.41169273],\n",
       "       [0.37424421]])"
      ]
     },
     "execution_count": 30,
     "metadata": {},
     "output_type": "execute_result"
    }
   ],
   "source": [
    "scaler.transform(test_set)"
   ]
  },
  {
   "cell_type": "code",
   "execution_count": 10,
   "metadata": {},
   "outputs": [],
   "source": [
    "# RNN Expects a 3D array so reshaping\n",
    "X_train = X_train.reshape((X_train.shape[0], X_train.shape[1], 1))"
   ]
  },
  {
   "cell_type": "code",
   "execution_count": 11,
   "metadata": {},
   "outputs": [],
   "source": [
    "#########################################################################\n",
    "##################### DEEP LEARNING TRAIN MODEL ########################\n",
    "#######################################################################"
   ]
  },
  {
   "cell_type": "code",
   "execution_count": 12,
   "metadata": {},
   "outputs": [],
   "source": [
    "from keras.models import Model, load_model\n",
    "from keras.layers.convolutional import Conv1D\n",
    "from keras.callbacks import ModelCheckpoint\n",
    "from keras.regularizers import l1_l2\n",
    "\n",
    "from sklearn.model_selection import train_test_split\n",
    "from sklearn.metrics import mean_absolute_error\n",
    "import json\n",
    "\n",
    "from keras.models import Sequential\n",
    "from keras.layers import Dense\n",
    "from keras.layers import LSTM\n",
    "from keras.layers import Dropout"
   ]
  },
  {
   "cell_type": "code",
   "execution_count": 13,
   "metadata": {},
   "outputs": [],
   "source": [
    "# split into training and validation data\n",
    "X_train, X_valid, y_train, y_valid = train_test_split(X_train, y_train, test_size=0.2, random_state=7)"
   ]
  },
  {
   "cell_type": "code",
   "execution_count": 170,
   "metadata": {},
   "outputs": [],
   "source": [
    "###################### DESIGNING THE NN ###################\n",
    "##########################################################\n",
    "\n",
    "# Initialising\n",
    "rnn = Sequential()\n",
    "# Adding Conv1D Layer\n",
    "rnn.add(Conv1D(64, kernel_size=288, strides=288, padding='valid', input_shape=(X_train.shape[1],1)))\n",
    "# Add LSTM layer 1st\n",
    "rnn.add(LSTM(50, recurrent_activation='relu', return_sequences=True))\n",
    "rnn.add(Dropout(0.1))\n",
    "# Add LSTM layer 2nd\n",
    "rnn.add(LSTM(50, recurrent_activation='relu'))\n",
    "rnn.add(Dropout(0.1))\n",
    "rnn.add(Dense(units=288))\n",
    "rnn.compile(optimizer='adam', loss='mse')"
   ]
  },
  {
   "cell_type": "code",
   "execution_count": 15,
   "metadata": {},
   "outputs": [],
   "source": [
    "################################################################\n",
    "############ PREPROCESSING TEST DATA ##########################\n",
    "##############################################################"
   ]
  },
  {
   "cell_type": "code",
   "execution_count": 171,
   "metadata": {},
   "outputs": [],
   "source": [
    "# Loading Test set\n",
    "test_set = dataSA.loc['2010']"
   ]
  },
  {
   "cell_type": "code",
   "execution_count": 172,
   "metadata": {},
   "outputs": [],
   "source": [
    "# Making the data as per keras requirements\n",
    "inputs = dataSA[len(dataSA)-len(dataSA.loc['2010'])-288:].values\n",
    "inputs = inputs.reshape(-1,1)\n",
    "inputs = scaler.transform(inputs)"
   ]
  },
  {
   "cell_type": "code",
   "execution_count": 173,
   "metadata": {},
   "outputs": [],
   "source": [
    "################################################################\n",
    "############ REPEATING FOR TEST DATA ##########################\n",
    "##############################################################\n",
    "X_test = []\n",
    "for i in range(288, len(inputs)):\n",
    "    X_test.append(inputs[i-288:i, 0])\n",
    "X_test = np.array(X_test)"
   ]
  },
  {
   "cell_type": "code",
   "execution_count": 174,
   "metadata": {},
   "outputs": [],
   "source": [
    "##### FOR TEST DATA AS WELL ####\n",
    "X_test = X_test.reshape((X_test.shape[0], X_test.shape[1], 1))"
   ]
  },
  {
   "cell_type": "code",
   "execution_count": 175,
   "metadata": {},
   "outputs": [],
   "source": [
    "#####################################\n",
    "#### TRAINING AND EVALUATION #######\n",
    "####################################"
   ]
  },
  {
   "cell_type": "code",
   "execution_count": 176,
   "metadata": {},
   "outputs": [
    {
     "name": "stdout",
     "output_type": "stream",
     "text": [
      "Epoch 1/25\n",
      "14/14 [==============================] - 1s 43ms/step - loss: 0.2826 - val_loss: 0.2790\n",
      "Epoch 2/25\n",
      "14/14 [==============================] - 0s 12ms/step - loss: 0.2684 - val_loss: 0.2651\n",
      "Epoch 3/25\n",
      "14/14 [==============================] - 0s 17ms/step - loss: 0.2548 - val_loss: 0.2516\n",
      "Epoch 4/25\n",
      "14/14 [==============================] - 0s 20ms/step - loss: 0.2418 - val_loss: 0.2387\n",
      "Epoch 5/25\n",
      "14/14 [==============================] - 0s 13ms/step - loss: 0.2292 - val_loss: 0.2264\n",
      "Epoch 6/25\n",
      "14/14 [==============================] - 0s 16ms/step - loss: 0.2172 - val_loss: 0.2147\n",
      "Epoch 7/25\n",
      "14/14 [==============================] - 0s 13ms/step - loss: 0.2058 - val_loss: 0.2034\n",
      "Epoch 8/25\n",
      "14/14 [==============================] - 0s 17ms/step - loss: 0.1948 - val_loss: 0.1926\n",
      "Epoch 9/25\n",
      "14/14 [==============================] - 0s 13ms/step - loss: 0.1843 - val_loss: 0.1823\n",
      "Epoch 10/25\n",
      "14/14 [==============================] - 0s 15ms/step - loss: 0.1743 - val_loss: 0.1725\n",
      "Epoch 11/25\n",
      "14/14 [==============================] - 0s 12ms/step - loss: 0.1648 - val_loss: 0.1632\n",
      "Epoch 12/25\n",
      "14/14 [==============================] - 0s 25ms/step - loss: 0.1558 - val_loss: 0.1543\n",
      "Epoch 13/25\n",
      "14/14 [==============================] - 0s 15ms/step - loss: 0.1471 - val_loss: 0.1458\n",
      "Epoch 14/25\n",
      "14/14 [==============================] - 0s 12ms/step - loss: 0.1389 - val_loss: 0.1378\n",
      "Epoch 15/25\n",
      "14/14 [==============================] - 0s 12ms/step - loss: 0.1311 - val_loss: 0.1301\n",
      "Epoch 16/25\n",
      "14/14 [==============================] - 0s 12ms/step - loss: 0.1237 - val_loss: 0.1228\n",
      "Epoch 17/25\n",
      "14/14 [==============================] - 0s 16ms/step - loss: 0.1167 - val_loss: 0.1159\n",
      "Epoch 18/25\n",
      "14/14 [==============================] - 0s 16ms/step - loss: 0.1100 - val_loss: 0.1094\n",
      "Epoch 19/25\n",
      "14/14 [==============================] - 0s 15ms/step - loss: 0.1037 - val_loss: 0.1032\n",
      "Epoch 20/25\n",
      "14/14 [==============================] - 0s 12ms/step - loss: 0.0978 - val_loss: 0.0974\n",
      "Epoch 21/25\n",
      "14/14 [==============================] - 0s 13ms/step - loss: 0.0922 - val_loss: 0.0918\n",
      "Epoch 22/25\n",
      "14/14 [==============================] - 0s 20ms/step - loss: 0.0868 - val_loss: 0.0866\n",
      "Epoch 23/25\n",
      "14/14 [==============================] - 0s 13ms/step - loss: 0.0818 - val_loss: 0.0817\n",
      "Epoch 24/25\n",
      "14/14 [==============================] - 0s 14ms/step - loss: 0.0771 - val_loss: 0.0771\n",
      "Epoch 25/25\n",
      "14/14 [==============================] - 0s 12ms/step - loss: 0.0727 - val_loss: 0.0727\n"
     ]
    },
    {
     "ename": "ValueError",
     "evalue": "Shape of passed values is (51603, 288), indices imply (51603, 1)",
     "output_type": "error",
     "traceback": [
      "\u001b[0;31m---------------------------------------------------------------------------\u001b[0m",
      "\u001b[0;31mValueError\u001b[0m                                Traceback (most recent call last)",
      "\u001b[0;32m~/opt/anaconda3/lib/python3.8/site-packages/pandas/core/internals/managers.py\u001b[0m in \u001b[0;36mcreate_block_manager_from_blocks\u001b[0;34m(blocks, axes)\u001b[0m\n\u001b[1;32m   1653\u001b[0m                 blocks = [\n\u001b[0;32m-> 1654\u001b[0;31m                     \u001b[0mmake_block\u001b[0m\u001b[0;34m(\u001b[0m\u001b[0mvalues\u001b[0m\u001b[0;34m=\u001b[0m\u001b[0mblocks\u001b[0m\u001b[0;34m[\u001b[0m\u001b[0;36m0\u001b[0m\u001b[0;34m]\u001b[0m\u001b[0;34m,\u001b[0m \u001b[0mplacement\u001b[0m\u001b[0;34m=\u001b[0m\u001b[0mslice\u001b[0m\u001b[0;34m(\u001b[0m\u001b[0;36m0\u001b[0m\u001b[0;34m,\u001b[0m \u001b[0mlen\u001b[0m\u001b[0;34m(\u001b[0m\u001b[0maxes\u001b[0m\u001b[0;34m[\u001b[0m\u001b[0;36m0\u001b[0m\u001b[0;34m]\u001b[0m\u001b[0;34m)\u001b[0m\u001b[0;34m)\u001b[0m\u001b[0;34m)\u001b[0m\u001b[0;34m\u001b[0m\u001b[0;34m\u001b[0m\u001b[0m\n\u001b[0m\u001b[1;32m   1655\u001b[0m                 ]\n",
      "\u001b[0;32m~/opt/anaconda3/lib/python3.8/site-packages/pandas/core/internals/blocks.py\u001b[0m in \u001b[0;36mmake_block\u001b[0;34m(values, placement, klass, ndim, dtype)\u001b[0m\n\u001b[1;32m   3052\u001b[0m \u001b[0;34m\u001b[0m\u001b[0m\n\u001b[0;32m-> 3053\u001b[0;31m     \u001b[0;32mreturn\u001b[0m \u001b[0mklass\u001b[0m\u001b[0;34m(\u001b[0m\u001b[0mvalues\u001b[0m\u001b[0;34m,\u001b[0m \u001b[0mndim\u001b[0m\u001b[0;34m=\u001b[0m\u001b[0mndim\u001b[0m\u001b[0;34m,\u001b[0m \u001b[0mplacement\u001b[0m\u001b[0;34m=\u001b[0m\u001b[0mplacement\u001b[0m\u001b[0;34m)\u001b[0m\u001b[0;34m\u001b[0m\u001b[0;34m\u001b[0m\u001b[0m\n\u001b[0m\u001b[1;32m   3054\u001b[0m \u001b[0;34m\u001b[0m\u001b[0m\n",
      "\u001b[0;32m~/opt/anaconda3/lib/python3.8/site-packages/pandas/core/internals/blocks.py\u001b[0m in \u001b[0;36m__init__\u001b[0;34m(self, values, placement, ndim)\u001b[0m\n\u001b[1;32m    123\u001b[0m         \u001b[0;32mif\u001b[0m \u001b[0mself\u001b[0m\u001b[0;34m.\u001b[0m\u001b[0m_validate_ndim\u001b[0m \u001b[0;32mand\u001b[0m \u001b[0mself\u001b[0m\u001b[0;34m.\u001b[0m\u001b[0mndim\u001b[0m \u001b[0;32mand\u001b[0m \u001b[0mlen\u001b[0m\u001b[0;34m(\u001b[0m\u001b[0mself\u001b[0m\u001b[0;34m.\u001b[0m\u001b[0mmgr_locs\u001b[0m\u001b[0;34m)\u001b[0m \u001b[0;34m!=\u001b[0m \u001b[0mlen\u001b[0m\u001b[0;34m(\u001b[0m\u001b[0mself\u001b[0m\u001b[0;34m.\u001b[0m\u001b[0mvalues\u001b[0m\u001b[0;34m)\u001b[0m\u001b[0;34m:\u001b[0m\u001b[0;34m\u001b[0m\u001b[0;34m\u001b[0m\u001b[0m\n\u001b[0;32m--> 124\u001b[0;31m             raise ValueError(\n\u001b[0m\u001b[1;32m    125\u001b[0m                 \u001b[0;34mf\"Wrong number of items passed {len(self.values)}, \"\u001b[0m\u001b[0;34m\u001b[0m\u001b[0;34m\u001b[0m\u001b[0m\n",
      "\u001b[0;31mValueError\u001b[0m: Wrong number of items passed 288, placement implies 1",
      "\nDuring handling of the above exception, another exception occurred:\n",
      "\u001b[0;31mValueError\u001b[0m                                Traceback (most recent call last)",
      "\u001b[0;32m<ipython-input-176-810bf2c6a218>\u001b[0m in \u001b[0;36m<module>\u001b[0;34m\u001b[0m\n\u001b[1;32m      1\u001b[0m \u001b[0;31m# train the model and calculate the performance on the test set\u001b[0m\u001b[0;34m\u001b[0m\u001b[0;34m\u001b[0m\u001b[0;34m\u001b[0m\u001b[0m\n\u001b[0;32m----> 2\u001b[0;31m results, hist = cm.train_predict_evaluate(rnn, X_train, X_valid, y_train, y_valid, X_test,\n\u001b[0m\u001b[1;32m      3\u001b[0m                                        \u001b[0mtest_set\u001b[0m\u001b[0;34m,\u001b[0m \u001b[0mtest_set\u001b[0m\u001b[0;34m.\u001b[0m\u001b[0mindex\u001b[0m\u001b[0;34m,\u001b[0m \u001b[0mscaler\u001b[0m\u001b[0;34m,\u001b[0m \u001b[0;36m32\u001b[0m\u001b[0;34m,\u001b[0m \u001b[0;36m25\u001b[0m\u001b[0;34m,\u001b[0m\u001b[0;34m\u001b[0m\u001b[0;34m\u001b[0m\u001b[0m\n\u001b[1;32m      4\u001b[0m                                        'simple_neural_network.hdf5', verbose=1)\n",
      "\u001b[0;32m~/Dropbox/My Mac (Alnoors-MBP-2.hub)/Documents/github/energy_project/custom_module.py\u001b[0m in \u001b[0;36mtrain_predict_evaluate\u001b[0;34m(model, X_train, X_valid, y_train, y_valid, X_test, real_test, real_test_index, scaler, batch_size, epochs, filename, verbose)\u001b[0m\n\u001b[1;32m     63\u001b[0m \u001b[0;34m\u001b[0m\u001b[0m\n\u001b[1;32m     64\u001b[0m     \u001b[0;31m# transform back to original data scale\u001b[0m\u001b[0;34m\u001b[0m\u001b[0;34m\u001b[0m\u001b[0;34m\u001b[0m\u001b[0m\n\u001b[0;32m---> 65\u001b[0;31m     \u001b[0mresults\u001b[0m \u001b[0;34m=\u001b[0m \u001b[0mpd\u001b[0m\u001b[0;34m.\u001b[0m\u001b[0mDataFrame\u001b[0m\u001b[0;34m(\u001b[0m\u001b[0mscaler\u001b[0m\u001b[0;34m.\u001b[0m\u001b[0minverse_transform\u001b[0m\u001b[0;34m(\u001b[0m\u001b[0mpred\u001b[0m\u001b[0;34m)\u001b[0m\u001b[0;34m,\u001b[0m \u001b[0mcolumns\u001b[0m\u001b[0;34m=\u001b[0m\u001b[0;34m[\u001b[0m\u001b[0;34m\"Prediction\"\u001b[0m\u001b[0;34m]\u001b[0m\u001b[0;34m)\u001b[0m\u001b[0;34m\u001b[0m\u001b[0;34m\u001b[0m\u001b[0m\n\u001b[0m\u001b[1;32m     66\u001b[0m     \u001b[0mresults\u001b[0m\u001b[0;34m.\u001b[0m\u001b[0mindex\u001b[0m \u001b[0;34m=\u001b[0m \u001b[0mreal_test_index\u001b[0m\u001b[0;34m\u001b[0m\u001b[0;34m\u001b[0m\u001b[0m\n\u001b[1;32m     67\u001b[0m     \u001b[0mresults\u001b[0m \u001b[0;34m=\u001b[0m \u001b[0mpd\u001b[0m\u001b[0;34m.\u001b[0m\u001b[0mconcat\u001b[0m\u001b[0;34m(\u001b[0m\u001b[0;34m[\u001b[0m\u001b[0mreal_test\u001b[0m\u001b[0;34m,\u001b[0m \u001b[0mresults\u001b[0m\u001b[0;34m]\u001b[0m\u001b[0;34m,\u001b[0m \u001b[0maxis\u001b[0m\u001b[0;34m=\u001b[0m\u001b[0;36m1\u001b[0m\u001b[0;34m)\u001b[0m\u001b[0;34m\u001b[0m\u001b[0;34m\u001b[0m\u001b[0m\n",
      "\u001b[0;32m~/opt/anaconda3/lib/python3.8/site-packages/pandas/core/frame.py\u001b[0m in \u001b[0;36m__init__\u001b[0;34m(self, data, index, columns, dtype, copy)\u001b[0m\n\u001b[1;32m    462\u001b[0m                 \u001b[0mmgr\u001b[0m \u001b[0;34m=\u001b[0m \u001b[0minit_dict\u001b[0m\u001b[0;34m(\u001b[0m\u001b[0;34m{\u001b[0m\u001b[0mdata\u001b[0m\u001b[0;34m.\u001b[0m\u001b[0mname\u001b[0m\u001b[0;34m:\u001b[0m \u001b[0mdata\u001b[0m\u001b[0;34m}\u001b[0m\u001b[0;34m,\u001b[0m \u001b[0mindex\u001b[0m\u001b[0;34m,\u001b[0m \u001b[0mcolumns\u001b[0m\u001b[0;34m,\u001b[0m \u001b[0mdtype\u001b[0m\u001b[0;34m=\u001b[0m\u001b[0mdtype\u001b[0m\u001b[0;34m)\u001b[0m\u001b[0;34m\u001b[0m\u001b[0;34m\u001b[0m\u001b[0m\n\u001b[1;32m    463\u001b[0m             \u001b[0;32melse\u001b[0m\u001b[0;34m:\u001b[0m\u001b[0;34m\u001b[0m\u001b[0;34m\u001b[0m\u001b[0m\n\u001b[0;32m--> 464\u001b[0;31m                 \u001b[0mmgr\u001b[0m \u001b[0;34m=\u001b[0m \u001b[0minit_ndarray\u001b[0m\u001b[0;34m(\u001b[0m\u001b[0mdata\u001b[0m\u001b[0;34m,\u001b[0m \u001b[0mindex\u001b[0m\u001b[0;34m,\u001b[0m \u001b[0mcolumns\u001b[0m\u001b[0;34m,\u001b[0m \u001b[0mdtype\u001b[0m\u001b[0;34m=\u001b[0m\u001b[0mdtype\u001b[0m\u001b[0;34m,\u001b[0m \u001b[0mcopy\u001b[0m\u001b[0;34m=\u001b[0m\u001b[0mcopy\u001b[0m\u001b[0;34m)\u001b[0m\u001b[0;34m\u001b[0m\u001b[0;34m\u001b[0m\u001b[0m\n\u001b[0m\u001b[1;32m    465\u001b[0m \u001b[0;34m\u001b[0m\u001b[0m\n\u001b[1;32m    466\u001b[0m         \u001b[0;31m# For data is list-like, or Iterable (will consume into list)\u001b[0m\u001b[0;34m\u001b[0m\u001b[0;34m\u001b[0m\u001b[0;34m\u001b[0m\u001b[0m\n",
      "\u001b[0;32m~/opt/anaconda3/lib/python3.8/site-packages/pandas/core/internals/construction.py\u001b[0m in \u001b[0;36minit_ndarray\u001b[0;34m(values, index, columns, dtype, copy)\u001b[0m\n\u001b[1;32m    208\u001b[0m         \u001b[0mblock_values\u001b[0m \u001b[0;34m=\u001b[0m \u001b[0;34m[\u001b[0m\u001b[0mvalues\u001b[0m\u001b[0;34m]\u001b[0m\u001b[0;34m\u001b[0m\u001b[0;34m\u001b[0m\u001b[0m\n\u001b[1;32m    209\u001b[0m \u001b[0;34m\u001b[0m\u001b[0m\n\u001b[0;32m--> 210\u001b[0;31m     \u001b[0;32mreturn\u001b[0m \u001b[0mcreate_block_manager_from_blocks\u001b[0m\u001b[0;34m(\u001b[0m\u001b[0mblock_values\u001b[0m\u001b[0;34m,\u001b[0m \u001b[0;34m[\u001b[0m\u001b[0mcolumns\u001b[0m\u001b[0;34m,\u001b[0m \u001b[0mindex\u001b[0m\u001b[0;34m]\u001b[0m\u001b[0;34m)\u001b[0m\u001b[0;34m\u001b[0m\u001b[0;34m\u001b[0m\u001b[0m\n\u001b[0m\u001b[1;32m    211\u001b[0m \u001b[0;34m\u001b[0m\u001b[0m\n\u001b[1;32m    212\u001b[0m \u001b[0;34m\u001b[0m\u001b[0m\n",
      "\u001b[0;32m~/opt/anaconda3/lib/python3.8/site-packages/pandas/core/internals/managers.py\u001b[0m in \u001b[0;36mcreate_block_manager_from_blocks\u001b[0;34m(blocks, axes)\u001b[0m\n\u001b[1;32m   1662\u001b[0m         \u001b[0mblocks\u001b[0m \u001b[0;34m=\u001b[0m \u001b[0;34m[\u001b[0m\u001b[0mgetattr\u001b[0m\u001b[0;34m(\u001b[0m\u001b[0mb\u001b[0m\u001b[0;34m,\u001b[0m \u001b[0;34m\"values\"\u001b[0m\u001b[0;34m,\u001b[0m \u001b[0mb\u001b[0m\u001b[0;34m)\u001b[0m \u001b[0;32mfor\u001b[0m \u001b[0mb\u001b[0m \u001b[0;32min\u001b[0m \u001b[0mblocks\u001b[0m\u001b[0;34m]\u001b[0m\u001b[0;34m\u001b[0m\u001b[0;34m\u001b[0m\u001b[0m\n\u001b[1;32m   1663\u001b[0m         \u001b[0mtot_items\u001b[0m \u001b[0;34m=\u001b[0m \u001b[0msum\u001b[0m\u001b[0;34m(\u001b[0m\u001b[0mb\u001b[0m\u001b[0;34m.\u001b[0m\u001b[0mshape\u001b[0m\u001b[0;34m[\u001b[0m\u001b[0;36m0\u001b[0m\u001b[0;34m]\u001b[0m \u001b[0;32mfor\u001b[0m \u001b[0mb\u001b[0m \u001b[0;32min\u001b[0m \u001b[0mblocks\u001b[0m\u001b[0;34m)\u001b[0m\u001b[0;34m\u001b[0m\u001b[0;34m\u001b[0m\u001b[0m\n\u001b[0;32m-> 1664\u001b[0;31m         \u001b[0mconstruction_error\u001b[0m\u001b[0;34m(\u001b[0m\u001b[0mtot_items\u001b[0m\u001b[0;34m,\u001b[0m \u001b[0mblocks\u001b[0m\u001b[0;34m[\u001b[0m\u001b[0;36m0\u001b[0m\u001b[0;34m]\u001b[0m\u001b[0;34m.\u001b[0m\u001b[0mshape\u001b[0m\u001b[0;34m[\u001b[0m\u001b[0;36m1\u001b[0m\u001b[0;34m:\u001b[0m\u001b[0;34m]\u001b[0m\u001b[0;34m,\u001b[0m \u001b[0maxes\u001b[0m\u001b[0;34m,\u001b[0m \u001b[0me\u001b[0m\u001b[0;34m)\u001b[0m\u001b[0;34m\u001b[0m\u001b[0;34m\u001b[0m\u001b[0m\n\u001b[0m\u001b[1;32m   1665\u001b[0m \u001b[0;34m\u001b[0m\u001b[0m\n\u001b[1;32m   1666\u001b[0m \u001b[0;34m\u001b[0m\u001b[0m\n",
      "\u001b[0;32m~/opt/anaconda3/lib/python3.8/site-packages/pandas/core/internals/managers.py\u001b[0m in \u001b[0;36mconstruction_error\u001b[0;34m(tot_items, block_shape, axes, e)\u001b[0m\n\u001b[1;32m   1692\u001b[0m     \u001b[0;32mif\u001b[0m \u001b[0mblock_shape\u001b[0m\u001b[0;34m[\u001b[0m\u001b[0;36m0\u001b[0m\u001b[0;34m]\u001b[0m \u001b[0;34m==\u001b[0m \u001b[0;36m0\u001b[0m\u001b[0;34m:\u001b[0m\u001b[0;34m\u001b[0m\u001b[0;34m\u001b[0m\u001b[0m\n\u001b[1;32m   1693\u001b[0m         \u001b[0;32mraise\u001b[0m \u001b[0mValueError\u001b[0m\u001b[0;34m(\u001b[0m\u001b[0;34m\"Empty data passed with indices specified.\"\u001b[0m\u001b[0;34m)\u001b[0m\u001b[0;34m\u001b[0m\u001b[0;34m\u001b[0m\u001b[0m\n\u001b[0;32m-> 1694\u001b[0;31m     \u001b[0;32mraise\u001b[0m \u001b[0mValueError\u001b[0m\u001b[0;34m(\u001b[0m\u001b[0;34mf\"Shape of passed values is {passed}, indices imply {implied}\"\u001b[0m\u001b[0;34m)\u001b[0m\u001b[0;34m\u001b[0m\u001b[0;34m\u001b[0m\u001b[0m\n\u001b[0m\u001b[1;32m   1695\u001b[0m \u001b[0;34m\u001b[0m\u001b[0m\n\u001b[1;32m   1696\u001b[0m \u001b[0;34m\u001b[0m\u001b[0m\n",
      "\u001b[0;31mValueError\u001b[0m: Shape of passed values is (51603, 288), indices imply (51603, 1)"
     ]
    }
   ],
   "source": [
    "# train the model and calculate the performance on the test set\n",
    "results, hist = cm.train_predict_evaluate(rnn, X_train, X_valid, y_train, y_valid, X_test,\n",
    "                                       test_set, test_set.index, scaler, 32, 25, \n",
    "                                       'simple_neural_network.hdf5', verbose=1)"
   ]
  },
  {
   "cell_type": "code",
   "execution_count": 23,
   "metadata": {},
   "outputs": [
    {
     "data": {
      "image/png": "[encoded data removed]",
      "text/plain": [
       "<Figure size 864x432 with 1 Axes>"
      ]
     },
     "metadata": {
      "needs_background": "light"
     },
     "output_type": "display_data"
    }
   ],
   "source": [
    "###### EVALUATION TRAINING with MSE as a Metrics ######\n",
    "cm.training_evaluation(hist)"
   ]
  },
  {
   "cell_type": "code",
   "execution_count": 296,
   "metadata": {},
   "outputs": [],
   "source": [
    "# Making Predictions\n",
    "#predictions_energy_price = rnn.predict(X_test)"
   ]
  },
  {
   "cell_type": "code",
   "execution_count": 297,
   "metadata": {},
   "outputs": [],
   "source": [
    "#predictions_energy_price = scaler.inverse_transform(predictions_energy_price)"
   ]
  },
  {
   "cell_type": "code",
   "execution_count": 341,
   "metadata": {},
   "outputs": [
    {
     "data": {
      "text/html": [
       "<div>\n",
       "<style scoped>\n",
       "    .dataframe tbody tr th:only-of-type {\n",
       "        vertical-align: middle;\n",
       "    }\n",
       "\n",
       "    .dataframe tbody tr th {\n",
       "        vertical-align: top;\n",
       "    }\n",
       "\n",
       "    .dataframe thead th {\n",
       "        text-align: right;\n",
       "    }\n",
       "</style>\n",
       "<table border=\"1\" class=\"dataframe\">\n",
       "  <thead>\n",
       "    <tr style=\"text-align: right;\">\n",
       "      <th></th>\n",
       "      <th>RRP5min</th>\n",
       "      <th>Prediction</th>\n",
       "    </tr>\n",
       "    <tr>\n",
       "      <th>SETTLEMENTDATE</th>\n",
       "      <th></th>\n",
       "      <th></th>\n",
       "    </tr>\n",
       "  </thead>\n",
       "  <tbody>\n",
       "    <tr>\n",
       "      <th>2010-01-01 00:00:00</th>\n",
       "      <td>1.667928</td>\n",
       "      <td>1.554268</td>\n",
       "    </tr>\n",
       "    <tr>\n",
       "      <th>2010-01-01 00:05:00</th>\n",
       "      <td>1.742618</td>\n",
       "      <td>1.526216</td>\n",
       "    </tr>\n",
       "    <tr>\n",
       "      <th>2010-01-01 00:10:00</th>\n",
       "      <td>1.729679</td>\n",
       "      <td>1.552132</td>\n",
       "    </tr>\n",
       "    <tr>\n",
       "      <th>2010-01-01 00:15:00</th>\n",
       "      <td>1.746808</td>\n",
       "      <td>1.473067</td>\n",
       "    </tr>\n",
       "    <tr>\n",
       "      <th>2010-01-01 00:20:00</th>\n",
       "      <td>1.655297</td>\n",
       "      <td>1.505982</td>\n",
       "    </tr>\n",
       "    <tr>\n",
       "      <th>...</th>\n",
       "      <td>...</td>\n",
       "      <td>...</td>\n",
       "    </tr>\n",
       "    <tr>\n",
       "      <th>2010-06-29 03:50:00</th>\n",
       "      <td>1.606734</td>\n",
       "      <td>1.439598</td>\n",
       "    </tr>\n",
       "    <tr>\n",
       "      <th>2010-06-29 03:55:00</th>\n",
       "      <td>1.575924</td>\n",
       "      <td>1.438354</td>\n",
       "    </tr>\n",
       "    <tr>\n",
       "      <th>2010-06-29 04:00:00</th>\n",
       "      <td>1.600646</td>\n",
       "      <td>1.417876</td>\n",
       "    </tr>\n",
       "    <tr>\n",
       "      <th>2010-06-29 04:05:00</th>\n",
       "      <td>1.576221</td>\n",
       "      <td>1.399912</td>\n",
       "    </tr>\n",
       "    <tr>\n",
       "      <th>2010-06-29 04:10:00</th>\n",
       "      <td>1.232615</td>\n",
       "      <td>1.411516</td>\n",
       "    </tr>\n",
       "  </tbody>\n",
       "</table>\n",
       "<p>51603 rows × 2 columns</p>\n",
       "</div>"
      ],
      "text/plain": [
       "                      RRP5min  Prediction\n",
       "SETTLEMENTDATE                           \n",
       "2010-01-01 00:00:00  1.667928    1.554268\n",
       "2010-01-01 00:05:00  1.742618    1.526216\n",
       "2010-01-01 00:10:00  1.729679    1.552132\n",
       "2010-01-01 00:15:00  1.746808    1.473067\n",
       "2010-01-01 00:20:00  1.655297    1.505982\n",
       "...                       ...         ...\n",
       "2010-06-29 03:50:00  1.606734    1.439598\n",
       "2010-06-29 03:55:00  1.575924    1.438354\n",
       "2010-06-29 04:00:00  1.600646    1.417876\n",
       "2010-06-29 04:05:00  1.576221    1.399912\n",
       "2010-06-29 04:10:00  1.232615    1.411516\n",
       "\n",
       "[51603 rows x 2 columns]"
      ]
     },
     "execution_count": 341,
     "metadata": {},
     "output_type": "execute_result"
    }
   ],
   "source": [
    "############ Making the Prediction to dataFrame and putting it together with the test data ###############\n",
    "#pred = pd.DataFrame(predictions_energy_price, columns=[\"Prediction\"])\n",
    "#pred.index = test_set.index\n",
    "#test_pred_concat = pd.concat([test_set, pred], axis=1)\n",
    "#test_pred_concat"
   ]
  },
  {
   "cell_type": "code",
   "execution_count": 303,
   "metadata": {},
   "outputs": [
    {
     "data": {
      "text/plain": [
       "<matplotlib.legend.Legend at 0x7f9ebcc29e80>"
      ]
     },
     "execution_count": 303,
     "metadata": {},
     "output_type": "execute_result"
    },
    {
     "data": {
      "image/png": "[encoded data removed]",
      "text/plain": [
       "<Figure size 432x288 with 1 Axes>"
      ]
     },
     "metadata": {
      "needs_background": "light"
     },
     "output_type": "display_data"
    }
   ],
   "source": [
    "# Visualising the Results\n",
    "plt.plot(test_set[0:288], color='red', label='Real Energy Price $')\n",
    "plt.plot(predictions_energy_price[0:288], color='blue', label='Predicted Energy Price $')\n",
    "plt.title('Energy Price Prediction')\n",
    "plt.xlabel('Time')\n",
    "plt.ylabel('Energy Price $')\n",
    "plt.legend()"
   ]
  },
  {
   "cell_type": "code",
   "execution_count": 352,
   "metadata": {},
   "outputs": [
    {
     "name": "stdout",
     "output_type": "stream",
     "text": [
      "MAE:  0.1637320337881685\n"
     ]
    }
   ],
   "source": [
    "# Model Evaluation Metrics\n",
    "print('MAE: ', mean_absolute_error(y_pred=results[\"Prediction\"], y_true=results[\"RRP5min\"]))"
   ]
  },
  {
   "cell_type": "code",
   "execution_count": 355,
   "metadata": {},
   "outputs": [
    {
     "data": {
      "text/plain": [
       "<matplotlib.axes._subplots.AxesSubplot at 0x7f9e25a58fd0>"
      ]
     },
     "execution_count": 355,
     "metadata": {},
     "output_type": "execute_result"
    },
    {
     "data": {
      "image/png": "[encoded data removed]",
      "text/plain": [
       "<Figure size 432x288 with 1 Axes>"
      ]
     },
     "metadata": {
      "needs_background": "light"
     },
     "output_type": "display_data"
    }
   ],
   "source": [
    "results['2010-01-01'].plot()"
   ]
  },
  {
   "cell_type": "code",
   "execution_count": 27,
   "metadata": {},
   "outputs": [
    {
     "data": {
      "text/plain": [
       "array([[0.42168764],\n",
       "       [0.42982787],\n",
       "       [0.42841767],\n",
       "       ...,\n",
       "       [0.41435473],\n",
       "       [0.41169273],\n",
       "       [0.37424421]])"
      ]
     },
     "execution_count": 27,
     "metadata": {},
     "output_type": "execute_result"
    }
   ],
   "source": [
    "scaler.transform(test_set)"
   ]
  },
  {
   "cell_type": "code",
   "execution_count": 26,
   "metadata": {},
   "outputs": [
    {
     "data": {
      "text/plain": [
       "array([[[0.42830314],\n",
       "        [0.43567692],\n",
       "        [0.43363577],\n",
       "        ...,\n",
       "        [0.44413684],\n",
       "        [0.43547166],\n",
       "        [0.42610106]],\n",
       "\n",
       "       [[0.43567692],\n",
       "        [0.43363577],\n",
       "        [0.43229605],\n",
       "        ...,\n",
       "        [0.43547166],\n",
       "        [0.42610106],\n",
       "        [0.42168764]],\n",
       "\n",
       "       [[0.43363577],\n",
       "        [0.43229605],\n",
       "        [0.43174994],\n",
       "        ...,\n",
       "        [0.42610106],\n",
       "        [0.42168764],\n",
       "        [0.42982787]],\n",
       "\n",
       "       ...,\n",
       "\n",
       "       [[0.42141226],\n",
       "        [0.42046898],\n",
       "        [0.42049232],\n",
       "        ...,\n",
       "        [0.41365413],\n",
       "        [0.41501828],\n",
       "        [0.41166039]],\n",
       "\n",
       "       [[0.42046898],\n",
       "        [0.42049232],\n",
       "        [0.42105824],\n",
       "        ...,\n",
       "        [0.41501828],\n",
       "        [0.41166039],\n",
       "        [0.41435473]],\n",
       "\n",
       "       [[0.42049232],\n",
       "        [0.42105824],\n",
       "        [0.41978346],\n",
       "        ...,\n",
       "        [0.41166039],\n",
       "        [0.41435473],\n",
       "        [0.41169273]]])"
      ]
     },
     "execution_count": 26,
     "metadata": {},
     "output_type": "execute_result"
    }
   ],
   "source": [
    "X_test"
   ]
  },
  {
   "cell_type": "code",
   "execution_count": null,
   "metadata": {},
   "outputs": [],
   "source": [
    "#############\n",
    "## since we want to predict all 5 mins interval over the course of the day at once\n",
    "# We must split the data in chunck of 288 5 mins interbvals each\n",
    "# to represent a full day\n",
    "# N * 288 * 1\n",
    "# Labels must bbe of shape N * 288"
   ]
  },
  {
   "cell_type": "code",
   "execution_count": 140,
   "metadata": {},
   "outputs": [],
   "source": [
    "# Scale the data first\n",
    "train = dataSA.copy()\n",
    "train[\"RRP5min\"] = scaler.fit_transform(dataSA[\"RRP5min\"].values.reshape(-1,1))\n",
    "train = train[:\"2010-06-28\"]"
   ]
  },
  {
   "cell_type": "code",
   "execution_count": 141,
   "metadata": {},
   "outputs": [],
   "source": [
    "# include time lags of timeseries data for 1 week = 7 * 24h = 168h\n",
    "lags = 288\n",
    "for i in range(1,lags+1):\n",
    "    train[\"l_{}\".format(i)] = train[\"RRP5min\"].shift(i)"
   ]
  },
  {
   "cell_type": "code",
   "execution_count": 142,
   "metadata": {},
   "outputs": [
    {
     "data": {
      "text/html": [
       "<div>\n",
       "<style scoped>\n",
       "    .dataframe tbody tr th:only-of-type {\n",
       "        vertical-align: middle;\n",
       "    }\n",
       "\n",
       "    .dataframe tbody tr th {\n",
       "        vertical-align: top;\n",
       "    }\n",
       "\n",
       "    .dataframe thead th {\n",
       "        text-align: right;\n",
       "    }\n",
       "</style>\n",
       "<table border=\"1\" class=\"dataframe\">\n",
       "  <thead>\n",
       "    <tr style=\"text-align: right;\">\n",
       "      <th></th>\n",
       "      <th>RRP5min</th>\n",
       "      <th>l_1</th>\n",
       "      <th>l_2</th>\n",
       "      <th>l_3</th>\n",
       "      <th>l_4</th>\n",
       "      <th>l_5</th>\n",
       "      <th>l_6</th>\n",
       "      <th>l_7</th>\n",
       "      <th>l_8</th>\n",
       "      <th>l_9</th>\n",
       "      <th>...</th>\n",
       "      <th>l_279</th>\n",
       "      <th>l_280</th>\n",
       "      <th>l_281</th>\n",
       "      <th>l_282</th>\n",
       "      <th>l_283</th>\n",
       "      <th>l_284</th>\n",
       "      <th>l_285</th>\n",
       "      <th>l_286</th>\n",
       "      <th>l_287</th>\n",
       "      <th>l_288</th>\n",
       "    </tr>\n",
       "    <tr>\n",
       "      <th>SETTLEMENTDATE</th>\n",
       "      <th></th>\n",
       "      <th></th>\n",
       "      <th></th>\n",
       "      <th></th>\n",
       "      <th></th>\n",
       "      <th></th>\n",
       "      <th></th>\n",
       "      <th></th>\n",
       "      <th></th>\n",
       "      <th></th>\n",
       "      <th></th>\n",
       "      <th></th>\n",
       "      <th></th>\n",
       "      <th></th>\n",
       "      <th></th>\n",
       "      <th></th>\n",
       "      <th></th>\n",
       "      <th></th>\n",
       "      <th></th>\n",
       "      <th></th>\n",
       "      <th></th>\n",
       "    </tr>\n",
       "  </thead>\n",
       "  <tbody>\n",
       "    <tr>\n",
       "      <th>2010-06-28 23:35:00</th>\n",
       "      <td>0.600496</td>\n",
       "      <td>0.500817</td>\n",
       "      <td>0.453280</td>\n",
       "      <td>0.512191</td>\n",
       "      <td>0.564050</td>\n",
       "      <td>0.583164</td>\n",
       "      <td>0.582286</td>\n",
       "      <td>0.537876</td>\n",
       "      <td>0.502329</td>\n",
       "      <td>0.531878</td>\n",
       "      <td>...</td>\n",
       "      <td>0.487336</td>\n",
       "      <td>0.509557</td>\n",
       "      <td>0.509557</td>\n",
       "      <td>0.509557</td>\n",
       "      <td>0.475000</td>\n",
       "      <td>0.494206</td>\n",
       "      <td>0.509557</td>\n",
       "      <td>0.533699</td>\n",
       "      <td>0.536350</td>\n",
       "      <td>0.562508</td>\n",
       "    </tr>\n",
       "    <tr>\n",
       "      <th>2010-06-28 23:40:00</th>\n",
       "      <td>0.550022</td>\n",
       "      <td>0.600496</td>\n",
       "      <td>0.500817</td>\n",
       "      <td>0.453280</td>\n",
       "      <td>0.512191</td>\n",
       "      <td>0.564050</td>\n",
       "      <td>0.583164</td>\n",
       "      <td>0.582286</td>\n",
       "      <td>0.537876</td>\n",
       "      <td>0.502329</td>\n",
       "      <td>...</td>\n",
       "      <td>0.498073</td>\n",
       "      <td>0.487336</td>\n",
       "      <td>0.509557</td>\n",
       "      <td>0.509557</td>\n",
       "      <td>0.509557</td>\n",
       "      <td>0.475000</td>\n",
       "      <td>0.494206</td>\n",
       "      <td>0.509557</td>\n",
       "      <td>0.533699</td>\n",
       "      <td>0.536350</td>\n",
       "    </tr>\n",
       "    <tr>\n",
       "      <th>2010-06-28 23:45:00</th>\n",
       "      <td>0.545530</td>\n",
       "      <td>0.550022</td>\n",
       "      <td>0.600496</td>\n",
       "      <td>0.500817</td>\n",
       "      <td>0.453280</td>\n",
       "      <td>0.512191</td>\n",
       "      <td>0.564050</td>\n",
       "      <td>0.583164</td>\n",
       "      <td>0.582286</td>\n",
       "      <td>0.537876</td>\n",
       "      <td>...</td>\n",
       "      <td>0.463196</td>\n",
       "      <td>0.498073</td>\n",
       "      <td>0.487336</td>\n",
       "      <td>0.509557</td>\n",
       "      <td>0.509557</td>\n",
       "      <td>0.509557</td>\n",
       "      <td>0.475000</td>\n",
       "      <td>0.494206</td>\n",
       "      <td>0.509557</td>\n",
       "      <td>0.533699</td>\n",
       "    </tr>\n",
       "    <tr>\n",
       "      <th>2010-06-28 23:50:00</th>\n",
       "      <td>0.510218</td>\n",
       "      <td>0.545530</td>\n",
       "      <td>0.550022</td>\n",
       "      <td>0.600496</td>\n",
       "      <td>0.500817</td>\n",
       "      <td>0.453280</td>\n",
       "      <td>0.512191</td>\n",
       "      <td>0.564050</td>\n",
       "      <td>0.583164</td>\n",
       "      <td>0.582286</td>\n",
       "      <td>...</td>\n",
       "      <td>0.468621</td>\n",
       "      <td>0.463196</td>\n",
       "      <td>0.498073</td>\n",
       "      <td>0.487336</td>\n",
       "      <td>0.509557</td>\n",
       "      <td>0.509557</td>\n",
       "      <td>0.509557</td>\n",
       "      <td>0.475000</td>\n",
       "      <td>0.494206</td>\n",
       "      <td>0.509557</td>\n",
       "    </tr>\n",
       "    <tr>\n",
       "      <th>2010-06-28 23:55:00</th>\n",
       "      <td>0.510035</td>\n",
       "      <td>0.510218</td>\n",
       "      <td>0.545530</td>\n",
       "      <td>0.550022</td>\n",
       "      <td>0.600496</td>\n",
       "      <td>0.500817</td>\n",
       "      <td>0.453280</td>\n",
       "      <td>0.512191</td>\n",
       "      <td>0.564050</td>\n",
       "      <td>0.583164</td>\n",
       "      <td>...</td>\n",
       "      <td>0.462995</td>\n",
       "      <td>0.468621</td>\n",
       "      <td>0.463196</td>\n",
       "      <td>0.498073</td>\n",
       "      <td>0.487336</td>\n",
       "      <td>0.509557</td>\n",
       "      <td>0.509557</td>\n",
       "      <td>0.509557</td>\n",
       "      <td>0.475000</td>\n",
       "      <td>0.494206</td>\n",
       "    </tr>\n",
       "  </tbody>\n",
       "</table>\n",
       "<p>5 rows × 289 columns</p>\n",
       "</div>"
      ],
      "text/plain": [
       "                      RRP5min       l_1       l_2       l_3       l_4  \\\n",
       "SETTLEMENTDATE                                                          \n",
       "2010-06-28 23:35:00  0.600496  0.500817  0.453280  0.512191  0.564050   \n",
       "2010-06-28 23:40:00  0.550022  0.600496  0.500817  0.453280  0.512191   \n",
       "2010-06-28 23:45:00  0.545530  0.550022  0.600496  0.500817  0.453280   \n",
       "2010-06-28 23:50:00  0.510218  0.545530  0.550022  0.600496  0.500817   \n",
       "2010-06-28 23:55:00  0.510035  0.510218  0.545530  0.550022  0.600496   \n",
       "\n",
       "                          l_5       l_6       l_7       l_8       l_9  ...  \\\n",
       "SETTLEMENTDATE                                                         ...   \n",
       "2010-06-28 23:35:00  0.583164  0.582286  0.537876  0.502329  0.531878  ...   \n",
       "2010-06-28 23:40:00  0.564050  0.583164  0.582286  0.537876  0.502329  ...   \n",
       "2010-06-28 23:45:00  0.512191  0.564050  0.583164  0.582286  0.537876  ...   \n",
       "2010-06-28 23:50:00  0.453280  0.512191  0.564050  0.583164  0.582286  ...   \n",
       "2010-06-28 23:55:00  0.500817  0.453280  0.512191  0.564050  0.583164  ...   \n",
       "\n",
       "                        l_279     l_280     l_281     l_282     l_283  \\\n",
       "SETTLEMENTDATE                                                          \n",
       "2010-06-28 23:35:00  0.487336  0.509557  0.509557  0.509557  0.475000   \n",
       "2010-06-28 23:40:00  0.498073  0.487336  0.509557  0.509557  0.509557   \n",
       "2010-06-28 23:45:00  0.463196  0.498073  0.487336  0.509557  0.509557   \n",
       "2010-06-28 23:50:00  0.468621  0.463196  0.498073  0.487336  0.509557   \n",
       "2010-06-28 23:55:00  0.462995  0.468621  0.463196  0.498073  0.487336   \n",
       "\n",
       "                        l_284     l_285     l_286     l_287     l_288  \n",
       "SETTLEMENTDATE                                                         \n",
       "2010-06-28 23:35:00  0.494206  0.509557  0.533699  0.536350  0.562508  \n",
       "2010-06-28 23:40:00  0.475000  0.494206  0.509557  0.533699  0.536350  \n",
       "2010-06-28 23:45:00  0.509557  0.475000  0.494206  0.509557  0.533699  \n",
       "2010-06-28 23:50:00  0.509557  0.509557  0.475000  0.494206  0.509557  \n",
       "2010-06-28 23:55:00  0.509557  0.509557  0.509557  0.475000  0.494206  \n",
       "\n",
       "[5 rows x 289 columns]"
      ]
     },
     "execution_count": 142,
     "metadata": {},
     "output_type": "execute_result"
    }
   ],
   "source": [
    "# Drop NANS\n",
    "train.dropna(inplace=True)\n",
    "train.tail(5)"
   ]
  },
  {
   "cell_type": "code",
   "execution_count": 143,
   "metadata": {},
   "outputs": [],
   "source": [
    "# create feature and label dataframes\n",
    "prelim_features = train.drop('RRP5min', axis=1)\n",
    "prelim_labels = pd.DataFrame(train['RRP5min'])"
   ]
  },
  {
   "cell_type": "code",
   "execution_count": 144,
   "metadata": {},
   "outputs": [
    {
     "data": {
      "text/plain": [
       "((548, 288, 1), (548, 288))"
      ]
     },
     "execution_count": 144,
     "metadata": {},
     "output_type": "execute_result"
    }
   ],
   "source": [
    "# format labels to 24 hour output range\n",
    "for i in range(0, 288):\n",
    "    prelim_labels['t_{}'.format(i)] = prelim_labels['RRP5min'].shift(-i)\n",
    "prelim_labels.drop('RRP5min', axis=1, inplace=True)\n",
    "\n",
    "# apply one-day discretization to the data\n",
    "labels = prelim_labels[prelim_labels.index.minute == 0]\n",
    "labels = labels[labels.index.hour == 0]\n",
    "features = prelim_features[prelim_features.index.minute == 0]\n",
    "features = features[features.index.hour == 0]\n",
    "\n",
    "features_train = features[:'2009']\n",
    "features_test = features['2010':]\n",
    "labels_train = labels[:'2009']\n",
    "\n",
    "samples_train = len(features_train)\n",
    "samples_test = len(features_test)\n",
    "timesteps = 288\n",
    "\n",
    "# convert pandas data frames to numpy ndarrays\n",
    "features_train = features_train.to_numpy().reshape(samples_train, timesteps, 1)\n",
    "features_test = features_test.to_numpy().reshape(samples_test, timesteps, 1)\n",
    "labels_train = labels_train.to_numpy()\n",
    "\n",
    "# check for correct data shape\n",
    "features_train.shape, labels_train.shape"
   ]
  },
  {
   "cell_type": "code",
   "execution_count": 145,
   "metadata": {},
   "outputs": [
    {
     "data": {
      "text/plain": [
       "(143, 288, 1)"
      ]
     },
     "execution_count": 145,
     "metadata": {},
     "output_type": "execute_result"
    }
   ],
   "source": [
    "features_test.shape"
   ]
  },
  {
   "cell_type": "code",
   "execution_count": 146,
   "metadata": {},
   "outputs": [],
   "source": [
    "X_test = dataSA[\"2010-01-01\":\"2010-06-28\"]"
   ]
  },
  {
   "cell_type": "code",
   "execution_count": 148,
   "metadata": {},
   "outputs": [],
   "source": [
    "# split into training and validation data\n",
    "X_train, X_valid, y_train, y_valid = train_test_split(features_train, labels_train, test_size=0.2, random_state=7)"
   ]
  },
  {
   "cell_type": "code",
   "execution_count": 152,
   "metadata": {},
   "outputs": [
    {
     "name": "stdout",
     "output_type": "stream",
     "text": [
      "Epoch 1/25\n",
      "14/14 [==============================] - 1s 46ms/step - loss: 0.2825 - val_loss: 0.2789\n",
      "Epoch 2/25\n",
      "14/14 [==============================] - 0s 19ms/step - loss: 0.2684 - val_loss: 0.2650\n",
      "Epoch 3/25\n",
      "14/14 [==============================] - 0s 17ms/step - loss: 0.2547 - val_loss: 0.2516\n",
      "Epoch 4/25\n",
      "14/14 [==============================] - 0s 14ms/step - loss: 0.2417 - val_loss: 0.2387\n",
      "Epoch 5/25\n",
      "14/14 [==============================] - 0s 14ms/step - loss: 0.2292 - val_loss: 0.2264\n",
      "Epoch 6/25\n",
      "14/14 [==============================] - 0s 18ms/step - loss: 0.2171 - val_loss: 0.2146\n",
      "Epoch 7/25\n",
      "14/14 [==============================] - 0s 18ms/step - loss: 0.2057 - val_loss: 0.2033\n",
      "Epoch 8/25\n",
      "14/14 [==============================] - 0s 17ms/step - loss: 0.1948 - val_loss: 0.1926\n",
      "Epoch 9/25\n",
      "14/14 [==============================] - 0s 13ms/step - loss: 0.1843 - val_loss: 0.1823\n",
      "Epoch 10/25\n",
      "14/14 [==============================] - 0s 18ms/step - loss: 0.1743 - val_loss: 0.1725\n",
      "Epoch 11/25\n",
      "14/14 [==============================] - 0s 15ms/step - loss: 0.1648 - val_loss: 0.1631\n",
      "Epoch 12/25\n",
      "14/14 [==============================] - 0s 13ms/step - loss: 0.1557 - val_loss: 0.1542\n",
      "Epoch 13/25\n",
      "14/14 [==============================] - 0s 15ms/step - loss: 0.1471 - val_loss: 0.1457\n",
      "Epoch 14/25\n",
      "14/14 [==============================] - 0s 17ms/step - loss: 0.1389 - val_loss: 0.1377\n",
      "Epoch 15/25\n",
      "14/14 [==============================] - 0s 15ms/step - loss: 0.1311 - val_loss: 0.1301\n",
      "Epoch 16/25\n",
      "14/14 [==============================] - 0s 13ms/step - loss: 0.1237 - val_loss: 0.1228\n",
      "Epoch 17/25\n",
      "14/14 [==============================] - 0s 24ms/step - loss: 0.1167 - val_loss: 0.1159\n",
      "Epoch 18/25\n",
      "14/14 [==============================] - 0s 17ms/step - loss: 0.1100 - val_loss: 0.1094\n",
      "Epoch 19/25\n",
      "14/14 [==============================] - 0s 19ms/step - loss: 0.1037 - val_loss: 0.1032\n",
      "Epoch 20/25\n",
      "14/14 [==============================] - 0s 14ms/step - loss: 0.0978 - val_loss: 0.0973\n",
      "Epoch 21/25\n",
      "14/14 [==============================] - 0s 13ms/step - loss: 0.0921 - val_loss: 0.0918\n",
      "Epoch 22/25\n",
      "14/14 [==============================] - 0s 16ms/step - loss: 0.0868 - val_loss: 0.0866\n",
      "Epoch 23/25\n",
      "14/14 [==============================] - 0s 19ms/step - loss: 0.0818 - val_loss: 0.0817\n",
      "Epoch 24/25\n",
      "14/14 [==============================] - 0s 15ms/step - loss: 0.0771 - val_loss: 0.0770\n",
      "Epoch 25/25\n",
      "14/14 [==============================] - 0s 17ms/step - loss: 0.0726 - val_loss: 0.0726\n"
     ]
    }
   ],
   "source": [
    "# train the model and calculate the performance on the test set\n",
    "results, hist = train_predict_evaluate(rnn, X_train, X_valid, y_train, y_valid, features_test,\n",
    "                                       X_test.to_numpy().flatten(), X_test.index, scaler, 32, 25, \n",
    "                                       'simple_neural_network.hdf5', verbose=1)"
   ]
  },
  {
   "cell_type": "code",
   "execution_count": 151,
   "metadata": {},
   "outputs": [],
   "source": [
    "def train_predict_evaluate(model, X_train, X_valid, y_train, y_valid, X_test, y_test, test_index, scaler, \n",
    "                           batch_size, epochs, filename='model.hdf5', verbose=0):\n",
    "    \n",
    "    \"\"\"Fit model to training data. Use best performant on validation data to predict for the test set. \n",
    "    Evaluate on the test set and return results as dataframes\"\"\"\n",
    "    \n",
    "    # train model, save best keep best performer on validation set\n",
    "    checkpoint = ModelCheckpoint('./models/' + filename, save_best_only=True)\n",
    "    hist = model.fit(X_train, y_train, validation_data=(X_valid, y_valid), callbacks=[checkpoint], \n",
    "                     verbose=verbose, batch_size=batch_size, epochs=epochs)\n",
    "    \n",
    "    # load best model\n",
    "    best = load_model('./models/' + filename)\n",
    "\n",
    "    # predict for test set\n",
    "    pred = best.predict(X_test)\n",
    "    \n",
    "    \n",
    "    # transform back to original data scale\n",
    "    pred = scaler.inverse_transform(pred.flatten().reshape(-1, 1))\n",
    "    results = pd.DataFrame({'prediction':pred.flatten(), 'true values':y_test}, index=test_index)\n",
    "    \n",
    "    return results, hist"
   ]
  },
  {
   "cell_type": "code",
   "execution_count": 155,
   "metadata": {},
   "outputs": [
    {
     "data": {
      "image/png": "[encoded data removed]",
      "text/plain": [
       "<Figure size 864x432 with 1 Axes>"
      ]
     },
     "metadata": {
      "needs_background": "light"
     },
     "output_type": "display_data"
    }
   ],
   "source": [
    "f, ax = plt.subplots(figsize=(12, 6))\n",
    "results.loc['2010-01-01':'2010-01-2'].plot(ax=ax);\n",
    "ax.set_ylabel('Day-Ahead price in $/MWh', fontsize=14)\n",
    "ax.set_xlabel('Date', fontsize=14)\n",
    "ax.set_title('Short Term predictive Performance', fontsize=14);"
   ]
  },
  {
   "cell_type": "code",
   "execution_count": 156,
   "metadata": {},
   "outputs": [
    {
     "data": {
      "image/png": "[encoded data removed]",
      "text/plain": [
       "<Figure size 864x432 with 1 Axes>"
      ]
     },
     "metadata": {
      "needs_background": "light"
     },
     "output_type": "display_data"
    }
   ],
   "source": [
    "f, ax = plt.subplots(figsize=(12, 6))\n",
    "dataSA.loc['2010-01-01':'2010-01-2'].plot(ax=ax);"
   ]
  },
  {
   "cell_type": "code",
   "execution_count": 169,
   "metadata": {},
   "outputs": [
    {
     "data": {
      "text/html": [
       "<div>\n",
       "<style scoped>\n",
       "    .dataframe tbody tr th:only-of-type {\n",
       "        vertical-align: middle;\n",
       "    }\n",
       "\n",
       "    .dataframe tbody tr th {\n",
       "        vertical-align: top;\n",
       "    }\n",
       "\n",
       "    .dataframe thead th {\n",
       "        text-align: right;\n",
       "    }\n",
       "</style>\n",
       "<table border=\"1\" class=\"dataframe\">\n",
       "  <thead>\n",
       "    <tr style=\"text-align: right;\">\n",
       "      <th></th>\n",
       "      <th>prediction</th>\n",
       "      <th>true values</th>\n",
       "    </tr>\n",
       "    <tr>\n",
       "      <th>SETTLEMENTDATE</th>\n",
       "      <th></th>\n",
       "      <th></th>\n",
       "    </tr>\n",
       "  </thead>\n",
       "  <tbody>\n",
       "    <tr>\n",
       "      <th>2010-01-01 07:55:00</th>\n",
       "      <td>0.504023</td>\n",
       "      <td>1.459672</td>\n",
       "    </tr>\n",
       "    <tr>\n",
       "      <th>2010-01-01 08:00:00</th>\n",
       "      <td>0.508310</td>\n",
       "      <td>1.465616</td>\n",
       "    </tr>\n",
       "    <tr>\n",
       "      <th>2010-01-01 08:05:00</th>\n",
       "      <td>0.511497</td>\n",
       "      <td>1.475763</td>\n",
       "    </tr>\n",
       "    <tr>\n",
       "      <th>2010-01-01 08:10:00</th>\n",
       "      <td>0.521473</td>\n",
       "      <td>1.485672</td>\n",
       "    </tr>\n",
       "    <tr>\n",
       "      <th>2010-01-01 08:15:00</th>\n",
       "      <td>0.524880</td>\n",
       "      <td>1.474487</td>\n",
       "    </tr>\n",
       "    <tr>\n",
       "      <th>...</th>\n",
       "      <td>...</td>\n",
       "      <td>...</td>\n",
       "    </tr>\n",
       "    <tr>\n",
       "      <th>2010-06-28 20:35:00</th>\n",
       "      <td>0.514663</td>\n",
       "      <td>4.064184</td>\n",
       "    </tr>\n",
       "    <tr>\n",
       "      <th>2010-06-28 20:40:00</th>\n",
       "      <td>0.512891</td>\n",
       "      <td>3.310660</td>\n",
       "    </tr>\n",
       "    <tr>\n",
       "      <th>2010-06-28 20:45:00</th>\n",
       "      <td>0.504569</td>\n",
       "      <td>3.277074</td>\n",
       "    </tr>\n",
       "    <tr>\n",
       "      <th>2010-06-28 20:50:00</th>\n",
       "      <td>0.501057</td>\n",
       "      <td>3.548988</td>\n",
       "    </tr>\n",
       "    <tr>\n",
       "      <th>2010-06-28 21:05:00</th>\n",
       "      <td>0.500702</td>\n",
       "      <td>3.441165</td>\n",
       "    </tr>\n",
       "  </tbody>\n",
       "</table>\n",
       "<p>22451 rows × 2 columns</p>\n",
       "</div>"
      ],
      "text/plain": [
       "                     prediction  true values\n",
       "SETTLEMENTDATE                              \n",
       "2010-01-01 07:55:00    0.504023     1.459672\n",
       "2010-01-01 08:00:00    0.508310     1.465616\n",
       "2010-01-01 08:05:00    0.511497     1.475763\n",
       "2010-01-01 08:10:00    0.521473     1.485672\n",
       "2010-01-01 08:15:00    0.524880     1.474487\n",
       "...                         ...          ...\n",
       "2010-06-28 20:35:00    0.514663     4.064184\n",
       "2010-06-28 20:40:00    0.512891     3.310660\n",
       "2010-06-28 20:45:00    0.504569     3.277074\n",
       "2010-06-28 20:50:00    0.501057     3.548988\n",
       "2010-06-28 21:05:00    0.500702     3.441165\n",
       "\n",
       "[22451 rows x 2 columns]"
      ]
     },
     "execution_count": 169,
     "metadata": {},
     "output_type": "execute_result"
    }
   ],
   "source": [
    "results[results[\"prediction\"] > 0.5]"
   ]
  },
  {
   "cell_type": "code",
   "execution_count": 160,
   "metadata": {},
   "outputs": [
    {
     "ename": "AttributeError",
     "evalue": "'Series' object has no attribute 'flatten'",
     "output_type": "error",
     "traceback": [
      "\u001b[0;31m---------------------------------------------------------------------------\u001b[0m",
      "\u001b[0;31mAttributeError\u001b[0m                            Traceback (most recent call last)",
      "\u001b[0;32m<ipython-input-160-2e959d676d41>\u001b[0m in \u001b[0;36m<module>\u001b[0;34m\u001b[0m\n\u001b[0;32m----> 1\u001b[0;31m \u001b[0mscaler\u001b[0m\u001b[0;34m.\u001b[0m\u001b[0minverse_transform\u001b[0m\u001b[0;34m(\u001b[0m\u001b[0mresults\u001b[0m\u001b[0;34m[\u001b[0m\u001b[0;34m\"prediction\"\u001b[0m\u001b[0;34m]\u001b[0m\u001b[0;34m.\u001b[0m\u001b[0mflatten\u001b[0m\u001b[0;34m(\u001b[0m\u001b[0;34m)\u001b[0m\u001b[0;34m.\u001b[0m\u001b[0mreshape\u001b[0m\u001b[0;34m(\u001b[0m\u001b[0;34m-\u001b[0m\u001b[0;36m1\u001b[0m\u001b[0;34m,\u001b[0m \u001b[0;36m1\u001b[0m\u001b[0;34m)\u001b[0m\u001b[0;34m)\u001b[0m\u001b[0;34m\u001b[0m\u001b[0;34m\u001b[0m\u001b[0m\n\u001b[0m",
      "\u001b[0;32m~/opt/anaconda3/lib/python3.8/site-packages/pandas/core/generic.py\u001b[0m in \u001b[0;36m__getattr__\u001b[0;34m(self, name)\u001b[0m\n\u001b[1;32m   5272\u001b[0m             \u001b[0;32mif\u001b[0m \u001b[0mself\u001b[0m\u001b[0;34m.\u001b[0m\u001b[0m_info_axis\u001b[0m\u001b[0;34m.\u001b[0m\u001b[0m_can_hold_identifiers_and_holds_name\u001b[0m\u001b[0;34m(\u001b[0m\u001b[0mname\u001b[0m\u001b[0;34m)\u001b[0m\u001b[0;34m:\u001b[0m\u001b[0;34m\u001b[0m\u001b[0;34m\u001b[0m\u001b[0m\n\u001b[1;32m   5273\u001b[0m                 \u001b[0;32mreturn\u001b[0m \u001b[0mself\u001b[0m\u001b[0;34m[\u001b[0m\u001b[0mname\u001b[0m\u001b[0;34m]\u001b[0m\u001b[0;34m\u001b[0m\u001b[0;34m\u001b[0m\u001b[0m\n\u001b[0;32m-> 5274\u001b[0;31m             \u001b[0;32mreturn\u001b[0m \u001b[0mobject\u001b[0m\u001b[0;34m.\u001b[0m\u001b[0m__getattribute__\u001b[0m\u001b[0;34m(\u001b[0m\u001b[0mself\u001b[0m\u001b[0;34m,\u001b[0m \u001b[0mname\u001b[0m\u001b[0;34m)\u001b[0m\u001b[0;34m\u001b[0m\u001b[0;34m\u001b[0m\u001b[0m\n\u001b[0m\u001b[1;32m   5275\u001b[0m \u001b[0;34m\u001b[0m\u001b[0m\n\u001b[1;32m   5276\u001b[0m     \u001b[0;32mdef\u001b[0m \u001b[0m__setattr__\u001b[0m\u001b[0;34m(\u001b[0m\u001b[0mself\u001b[0m\u001b[0;34m,\u001b[0m \u001b[0mname\u001b[0m\u001b[0;34m:\u001b[0m \u001b[0mstr\u001b[0m\u001b[0;34m,\u001b[0m \u001b[0mvalue\u001b[0m\u001b[0;34m)\u001b[0m \u001b[0;34m->\u001b[0m \u001b[0;32mNone\u001b[0m\u001b[0;34m:\u001b[0m\u001b[0;34m\u001b[0m\u001b[0;34m\u001b[0m\u001b[0m\n",
      "\u001b[0;31mAttributeError\u001b[0m: 'Series' object has no attribute 'flatten'"
     ]
    }
   ],
   "source": [
    "scaler.inverse_transform(results[\"prediction\"].flatten().reshape(-1, 1))"
   ]
  },
  {
   "cell_type": "code",
   "execution_count": 167,
   "metadata": {},
   "outputs": [
    {
     "data": {
      "text/plain": [
       "array([[[0.42610106],\n",
       "        [0.43547166],\n",
       "        [0.44413684],\n",
       "        ...,\n",
       "        [0.43363577],\n",
       "        [0.43567692],\n",
       "        [0.42830314]],\n",
       "\n",
       "       [[0.39804358],\n",
       "        [0.39998263],\n",
       "        [0.4011853 ],\n",
       "        ...,\n",
       "        [0.42841767],\n",
       "        [0.42982787],\n",
       "        [0.42168764]],\n",
       "\n",
       "       [[0.41913571],\n",
       "        [0.42145931],\n",
       "        [0.43114588],\n",
       "        ...,\n",
       "        [0.39763978],\n",
       "        [0.39617836],\n",
       "        [0.38617228]],\n",
       "\n",
       "       ...,\n",
       "\n",
       "       [[0.51219086],\n",
       "        [0.562509  ],\n",
       "        [0.56250645],\n",
       "        ...,\n",
       "        [0.49546465],\n",
       "        [0.4846695 ],\n",
       "        [0.4699471 ]],\n",
       "\n",
       "       [[0.57113503],\n",
       "        [0.5835767 ],\n",
       "        [0.58733375],\n",
       "        ...,\n",
       "        [0.56477828],\n",
       "        [0.56477828],\n",
       "        [0.50060946]],\n",
       "\n",
       "       [[0.49420649],\n",
       "        [0.50955701],\n",
       "        [0.53369869],\n",
       "        ...,\n",
       "        [0.59702695],\n",
       "        [0.57070526],\n",
       "        [0.57158996]]])"
      ]
     },
     "execution_count": 167,
     "metadata": {},
     "output_type": "execute_result"
    }
   ],
   "source": [
    "features_test"
   ]
  },
  {
   "cell_type": "code",
   "execution_count": 166,
   "metadata": {},
   "outputs": [
    {
     "data": {
      "text/plain": [
       "array([[0.43015328],\n",
       "       [0.4388927 ],\n",
       "       [0.440386  ],\n",
       "       ...,\n",
       "       [0.46454766],\n",
       "       [0.4532146 ],\n",
       "       [0.43864605]], dtype=float32)"
      ]
     },
     "execution_count": 166,
     "metadata": {},
     "output_type": "execute_result"
    }
   ],
   "source": [
    "scaler.inverse_transform(x.flatten().reshape(-1,1))"
   ]
  },
  {
   "cell_type": "code",
   "execution_count": null,
   "metadata": {},
   "outputs": [],
   "source": []
  }
 ],
 "metadata": {
  "kernelspec": {
   "display_name": "Python 3",
   "language": "python",
   "name": "python3"
  },
  "language_info": {
   "codemirror_mode": {
    "name": "ipython",
    "version": 3
   },
   "file_extension": ".py",
   "mimetype": "text/x-python",
   "name": "python",
   "nbconvert_exporter": "python",
   "pygments_lexer": "ipython3",
   "version": "3.8.3"
  }
 },
 "nbformat": 4,
 "nbformat_minor": 4
}
